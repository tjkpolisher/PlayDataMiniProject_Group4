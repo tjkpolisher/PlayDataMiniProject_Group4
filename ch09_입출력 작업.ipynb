{
 "cells": [
  {
   "attachments": {},
   "cell_type": "markdown",
   "metadata": {},
   "source": [
    "# Chapter 9. 입출력 작업\n",
    "> 자료 없이 이론부터 펼치는 것은 중대한 잘못이다.  \n",
    "-셜록 홈즈\n",
    "\n",
    "입출력 작업은 금융이나 대규모 데이터를 다루는 응용 분야에서 가장 중요한 작업입니다. 하드디스크와 메모리 사이의 데이터 전송이 충분히 빠르지 않기 때문에 입출력 작업은 성능이 중요한 계산 작업에서 병목이 된다. 즉, 느린 입출력으로 인해 CPU가 노는 현상이 발생합니다.  \n",
    "오늘날의 금융이나 기업 분석의 대부분은 **페타**스케일 규모의 빅데이터에 직면해 있지만 하나하나의 분석 작업은 보통 중간 정도 크기의 데이터를 다루게 됩니다. 다음은 이에 관한 최근 연구 결과를 인용하고 있습니다.  \n",
    "하나의 금융 분석 작업은 보통 몇 GB 이하의 데이터를 처리하는데, 이 정도 크기가 파이썬이나 넘파이, 판다스, `PyTables`와 같은 과학기술 라이브러리가 다루기에 가장 최적의 크기입니다. 이 정도 크기의 데이터는 메모리상에서 분석할 수 있기 때문에 최신 CPU나 GPU의 고속 성능을 기대할 수 있습니다. 그러나 이러한 데이터도 어쨌든 메모리로 읽어 들여야 하고 결과는 하드디스크에 써야 합니다.  \n",
    "이번 장에서는 다음과 같은 주제를 다룹니다.  \n",
    "* 기본 파이썬 입출력: 파이썬에서는 어떤 객체든 직렬화하여 디스크에 저장하고 반대로 디스크에서 이를 읽어 메모리로 옮길 수 있는 내장 함수가 있습니다. 또한 파이썬은 텍스트 파일이나 SQL 데이터베이스 작업에도 강합니다. 넘파이는 `ndarray` 객체를 고속으로 저장하고 읽는 전용 함수도 제공합니다.\n",
    "* 판다스를 이용한 입출력: 판다스 라이브러리는 사용자 편의를 위해 여러 가지 포맷(CSV, JSON 등)으로 저장된 데이터를 읽고 쓰는 함수를 제공합니다.\n",
    "* PyTables를 이용한 입출력: `PyTables`는 HDF5 표준(http://www.hdfgroup.org)을 사용하여 대규모 데이터 집합을 대상으로 빠른 입출력을 얻을 수 있습니다. 속도는 사용한 하드웨어에 의해서 제한되지만...\n",
    "* TsTable을 이용한 입출력: `TsTable`는 `PyTables` 기반으로 만들어졌고 시계열 데이터를 빠르게 저장하고 읽을 수 있습니다.  \n",
    "\n",
    "## 9.1 기본 파이썬 입출력\n",
    "파이썬은 다양한 입출력 기능을 가지고 있습니다. 어떤 기능은 성능에, 다른 것은 유연성에 최적화되어 있습니다. 그렇기에 대화형 작업이든 대규모 작업이든 모두 가리지 않고 쉽게 사용할 수 있습니다.\n",
    "### 9.1.1 객체를 디스크에 쓰기\n",
    "문서화 작업 또는 다른 사람들과의 공유를 위해 파이썬 객체를 나중에 다시 사용할 수 있도록 저장하고 싶은 경우가 있습니다. 한 가지 방법은 `pickle` 모듈을 사용하는 것입니다. 이 모듈은 대부분의 파이썬 객체를 직렬화할 수 있는데, 직렬화가 뭐냐? 직렬화(serialize)는 객체를 바이트열로 변환하는 작업이고, 역직렬화(deserialize)는 반대의 작업을 말합니다.  \n",
    "우선 몇 가지 패키지를 임포트하고 플롯 설정을 하겠습니다."
   ]
  },
  {
   "cell_type": "code",
   "execution_count": 1,
   "metadata": {},
   "outputs": [],
   "source": [
    "from pylab import plt, mpl\n",
    "plt.style.use('seaborn')\n",
    "mpl.rcParams['font.family'] = 'serif'\n",
    "%matplotlib inline"
   ]
  },
  {
   "attachments": {},
   "cell_type": "markdown",
   "metadata": {},
   "source": [
    "다음의 예제는 우선 의사 난수 데이터를 리스트 객체에 저장하는 것부터 시작합니다."
   ]
  },
  {
   "cell_type": "code",
   "execution_count": 2,
   "metadata": {},
   "outputs": [],
   "source": [
    "import os\n",
    "import pickle\n",
    "import numpy as np\n",
    "from random import gauss # 정규분포 난수를 생성하는 gauss 함수 임포트"
   ]
  },
  {
   "cell_type": "code",
   "execution_count": 3,
   "metadata": {},
   "outputs": [],
   "source": [
    "a = [gauss(1.5, 2) for i in range(1000000)] # 난수로 구성된 리스트 생성"
   ]
  },
  {
   "cell_type": "code",
   "execution_count": 4,
   "metadata": {},
   "outputs": [],
   "source": [
    "path = os.getcwd() + '\\\\Temp\\\\data\\\\'\n",
    "pkl_file = open(path + 'data.pkl', 'wb') # 파일을 바이너리 모드(wb)로 열기"
   ]
  },
  {
   "attachments": {},
   "cell_type": "markdown",
   "metadata": {},
   "source": [
    "우리에게 필요한 두 가지 중요 함수는 객체를 쓰는 `pickle.dump()`와 이를 다시 메모리로 올리는 `pickle.load()` 함수입니다."
   ]
  },
  {
   "cell_type": "code",
   "execution_count": 5,
   "metadata": {},
   "outputs": [
    {
     "name": "stdout",
     "output_type": "stream",
     "text": [
      "Wall time: 34 ms\n"
     ]
    }
   ],
   "source": [
    "%time pickle.dump(a, pkl_file)"
   ]
  },
  {
   "cell_type": "code",
   "execution_count": 6,
   "metadata": {},
   "outputs": [],
   "source": [
    "pkl_file.close()"
   ]
  },
  {
   "cell_type": "code",
   "execution_count": 7,
   "metadata": {},
   "outputs": [],
   "source": [
    "pkl_file = open(path + 'data.pkl', 'rb')"
   ]
  },
  {
   "cell_type": "code",
   "execution_count": 8,
   "metadata": {},
   "outputs": [
    {
     "name": "stdout",
     "output_type": "stream",
     "text": [
      "Wall time: 42 ms\n"
     ]
    }
   ],
   "source": [
    "%time b = pickle.load(pkl_file)"
   ]
  },
  {
   "cell_type": "code",
   "execution_count": 9,
   "metadata": {},
   "outputs": [
    {
     "data": {
      "text/plain": [
       "[0.9911391678911335, 2.020388127191475, 3.9866635113182856]"
      ]
     },
     "execution_count": 9,
     "metadata": {},
     "output_type": "execute_result"
    }
   ],
   "source": [
    "a[:3]"
   ]
  },
  {
   "cell_type": "code",
   "execution_count": 10,
   "metadata": {},
   "outputs": [
    {
     "data": {
      "text/plain": [
       "[0.9911391678911335, 2.020388127191475, 3.9866635113182856]"
      ]
     },
     "execution_count": 10,
     "metadata": {},
     "output_type": "execute_result"
    }
   ],
   "source": [
    "b[:3]"
   ]
  },
  {
   "cell_type": "code",
   "execution_count": 11,
   "metadata": {},
   "outputs": [
    {
     "data": {
      "text/plain": [
       "True"
      ]
     },
     "execution_count": 11,
     "metadata": {},
     "output_type": "execute_result"
    }
   ],
   "source": [
    "np.allclose(np.array(a), np.array(b)) # a와 b를 ndarray 객체로 변환하고 np.allclose() 함수로 둘이 같은 데이터임을 보이기"
   ]
  },
  {
   "attachments": {},
   "cell_type": "markdown",
   "metadata": {},
   "source": [
    "하나의 객체를 `pickle`로 저장하고 읽는 건 꽤나 간단한 일입니다. 그런데 만약 객체가 두 개면 어떨까요?"
   ]
  },
  {
   "cell_type": "code",
   "execution_count": 12,
   "metadata": {},
   "outputs": [],
   "source": [
    "pkl_file = open(path + 'data.pkl', 'wb')"
   ]
  },
  {
   "cell_type": "code",
   "execution_count": 13,
   "metadata": {},
   "outputs": [
    {
     "name": "stdout",
     "output_type": "stream",
     "text": [
      "Wall time: 72 ms\n"
     ]
    }
   ],
   "source": [
    "%time pickle.dump(np.array(a), pkl_file) # a 배열을 직렬화하여 저장"
   ]
  },
  {
   "cell_type": "code",
   "execution_count": 14,
   "metadata": {},
   "outputs": [
    {
     "name": "stdout",
     "output_type": "stream",
     "text": [
      "Wall time: 75 ms\n"
     ]
    }
   ],
   "source": [
    "%time pickle.dump(np.array(a) ** 2, pkl_file) # a를 제곱한 배열을 직렬화하여 추가로 저장"
   ]
  },
  {
   "cell_type": "code",
   "execution_count": 15,
   "metadata": {},
   "outputs": [],
   "source": [
    "pkl_file.close()"
   ]
  },
  {
   "attachments": {},
   "cell_type": "markdown",
   "metadata": {},
   "source": [
    "두 `ndarray` 객체를 도로 메모리로 읽어 들이려면 어떻게 해야 할까요?"
   ]
  },
  {
   "cell_type": "code",
   "execution_count": 16,
   "metadata": {},
   "outputs": [],
   "source": [
    "pkl_file = open(path + 'data.pkl', 'rb')"
   ]
  },
  {
   "cell_type": "code",
   "execution_count": 17,
   "metadata": {},
   "outputs": [
    {
     "data": {
      "text/plain": [
       "array([ 0.99113917,  2.02038813,  3.98666351, -2.69680446])"
      ]
     },
     "execution_count": 17,
     "metadata": {},
     "output_type": "execute_result"
    }
   ],
   "source": [
    "x = pickle.load(pkl_file) # 처음 저장된 객체를 빼냅니다.\n",
    "x[:4]"
   ]
  },
  {
   "cell_type": "code",
   "execution_count": 18,
   "metadata": {},
   "outputs": [
    {
     "data": {
      "text/plain": [
       "array([ 0.98235685,  4.08196818, 15.89348595,  7.2727543 ])"
      ]
     },
     "execution_count": 18,
     "metadata": {},
     "output_type": "execute_result"
    }
   ],
   "source": [
    "y = pickle.load(pkl_file) # 두번째로 저장된 객체를 빼냅니다.\n",
    "y[:4]"
   ]
  },
  {
   "cell_type": "code",
   "execution_count": 19,
   "metadata": {},
   "outputs": [],
   "source": [
    "pkl_file.close()"
   ]
  },
  {
   "attachments": {},
   "cell_type": "markdown",
   "metadata": {},
   "source": [
    "앞의 예제에서 `pickle`은 FIFO(first in first out) 순서로 저장하고 반환함을 알 수 있습니다.[큐(queue)와 유사] 여기에는 한 가지 문제점이 있습니다. 사용자가 어떤 객체가 저장되어 있는지 알 수 있는 상위 정보가 없다는 점이죠. 유용한 해결 방법은 직접 객체를 저장하지 않고 사전 객체에 다른 객체를 담아서 저장하는 것입니다."
   ]
  },
  {
   "cell_type": "code",
   "execution_count": 20,
   "metadata": {},
   "outputs": [],
   "source": [
    "pkl_file = open(path + 'data.pkl', 'wb')\n",
    "pickle.dump({'x': x, 'y': y}, pkl_file) # 두 ndarray 객체를 포함하는 사전 객체 저장\n",
    "pkl_file.close()"
   ]
  },
  {
   "cell_type": "code",
   "execution_count": 21,
   "metadata": {},
   "outputs": [],
   "source": [
    "pkl_file = open(path + 'data.pkl', 'rb')\n",
    "data = pickle.load(pkl_file)"
   ]
  },
  {
   "cell_type": "code",
   "execution_count": 22,
   "metadata": {},
   "outputs": [
    {
     "name": "stdout",
     "output_type": "stream",
     "text": [
      "x [ 0.99113917  2.02038813  3.98666351 -2.69680446]\n",
      "y [ 0.98235685  4.08196818 15.89348595  7.2727543 ]\n"
     ]
    }
   ],
   "source": [
    "pkl_file.close()\n",
    "for key in data.keys():\n",
    "    print(key, data[key][:4])"
   ]
  },
  {
   "attachments": {},
   "cell_type": "markdown",
   "metadata": {},
   "source": [
    "그러나 이 방법을 쓰면 모든 객체를 한 번에 쓰고 읽어야 합니다. 편의성을 위해서 이 정도는 감수해야 합니다.  \n",
    "> **CAUTION**_ 호환성 문제  \n",
    "객체를 직렬화하는 데 `pickle`을 사용하는 것은 쉽습니다. 하지만 파이썬 패키지가 업그레이드되거나 새 버전이 나오면 옛날 버전에서 직렬화된 객체를 다룰 수 없게 될 수도 있습니다. 플랫폼이나 운영체제 간에 이러한 객체를 공유할 떄도 마찬가지로 문제가 발생할 수 있고요. 따라서 다음 절에서 설명할 넘파이나 판다스가 내장한 읽기 및 쓰기 기능을 사용할 것을 권장합니다."
   ]
  },
  {
   "attachments": {},
   "cell_type": "markdown",
   "metadata": {},
   "source": [
    "### 9.1.2 텍스트 파일 읽고 쓰기\n",
    "텍스트 처리는 파이썬의 강점입니다. 사실 파이썬을 상업용/과학기술용으로 쓰는 많은 이들은 텍스트 처리 때문에 파이썬을 사용합니다. 파이썬에서는 여러 가지 방법으로 문자열 객체와 텍스트 파일을 다룰 수 있습니다.  \n",
    "CSV 파일 형태로 저장해서 공유해야 할 대량의 데이터가 있다고 가정하자. 이 파일을 특별한 구조를 가지고 있긴 하지만 기본적으로는 텍스트 파일입니다. 다음 코드는 가짜 데이터 집합을 `ndarray` 객체로 만들고 `DatetimeIndex` 객체를 생성한 다음 두 개를 합쳐서 CSV 파일로 저장합니다."
   ]
  },
  {
   "cell_type": "code",
   "execution_count": 23,
   "metadata": {},
   "outputs": [],
   "source": [
    "import pandas as pd"
   ]
  },
  {
   "cell_type": "code",
   "execution_count": 24,
   "metadata": {},
   "outputs": [],
   "source": [
    "rows = 5000 # 데이터 행의 개수\n",
    "a = np.random.standard_normal((rows, 5)).round(4) # 난수로 이루어진 ndarray 객체 생성"
   ]
  },
  {
   "cell_type": "code",
   "execution_count": 25,
   "metadata": {},
   "outputs": [
    {
     "data": {
      "text/plain": [
       "array([[ 0.7373, -1.8111, -0.3021,  0.5963, -0.5203],\n",
       "       [-0.7525, -0.0078, -0.4862, -1.3546, -0.1868],\n",
       "       [ 0.5802, -1.0272,  0.155 , -0.0536,  0.1536],\n",
       "       ...,\n",
       "       [-0.1363,  1.0478,  0.5151, -0.4401,  1.898 ],\n",
       "       [-0.7663,  0.3267,  0.3713, -1.191 , -1.4457],\n",
       "       [-0.4391,  0.1065,  0.7569, -1.2   ,  0.8267]])"
      ]
     },
     "execution_count": 25,
     "metadata": {},
     "output_type": "execute_result"
    }
   ],
   "source": [
    "a"
   ]
  },
  {
   "cell_type": "code",
   "execution_count": 26,
   "metadata": {},
   "outputs": [],
   "source": [
    "t = pd.date_range(start='2019/1/1', periods=rows, freq='H') # 적정한 길이의 (시간 간격) DatetimeIndex 객체 생성"
   ]
  },
  {
   "cell_type": "code",
   "execution_count": 27,
   "metadata": {},
   "outputs": [
    {
     "data": {
      "text/plain": [
       "DatetimeIndex(['2019-01-01 00:00:00', '2019-01-01 01:00:00',\n",
       "               '2019-01-01 02:00:00', '2019-01-01 03:00:00',\n",
       "               '2019-01-01 04:00:00', '2019-01-01 05:00:00',\n",
       "               '2019-01-01 06:00:00', '2019-01-01 07:00:00',\n",
       "               '2019-01-01 08:00:00', '2019-01-01 09:00:00',\n",
       "               ...\n",
       "               '2019-07-27 22:00:00', '2019-07-27 23:00:00',\n",
       "               '2019-07-28 00:00:00', '2019-07-28 01:00:00',\n",
       "               '2019-07-28 02:00:00', '2019-07-28 03:00:00',\n",
       "               '2019-07-28 04:00:00', '2019-07-28 05:00:00',\n",
       "               '2019-07-28 06:00:00', '2019-07-28 07:00:00'],\n",
       "              dtype='datetime64[ns]', length=5000, freq='H')"
      ]
     },
     "execution_count": 27,
     "metadata": {},
     "output_type": "execute_result"
    }
   ],
   "source": [
    "t"
   ]
  },
  {
   "cell_type": "code",
   "execution_count": 28,
   "metadata": {},
   "outputs": [],
   "source": [
    "csv_file = open(path + 'data.csv', 'w') # 쓸 파일 열기"
   ]
  },
  {
   "cell_type": "code",
   "execution_count": 29,
   "metadata": {},
   "outputs": [
    {
     "data": {
      "text/plain": [
       "25"
      ]
     },
     "execution_count": 29,
     "metadata": {},
     "output_type": "execute_result"
    }
   ],
   "source": [
    "# 헤더 행을 정의하고 첫 줄에 쓰기\n",
    "header = 'date,no1,no2,no3,no4,no5\\n'\n",
    "csv_file.write(header)"
   ]
  },
  {
   "cell_type": "code",
   "execution_count": 30,
   "metadata": {},
   "outputs": [],
   "source": [
    "for t_, (no1, no2, no3, no4, no5) in zip(t, a): # 데이터를 행 단위로 조합\n",
    "    s = f'{t_},{no1},{no2},{no3},{no4},{no5}\\n' # 문자열 생성\n",
    "    csv_file.write(s) # 한 줄씩 쓰기(CSV 텍스트 파일 뒤에 붙이기)"
   ]
  },
  {
   "cell_type": "code",
   "execution_count": 31,
   "metadata": {},
   "outputs": [],
   "source": [
    "csv_file.close()"
   ]
  },
  {
   "attachments": {},
   "cell_type": "markdown",
   "metadata": {},
   "source": [
    "반대로 데이터를 읽는 것은 다음과 같다. 우선 CSV 파일을 열고 파일 객체의 `readline()` 메서드로 내용을 한 줄씩 읽습니다. `readlines()` 메서드로 모든 줄을 한 번에 읽을 수도 있습니다."
   ]
  },
  {
   "cell_type": "code",
   "execution_count": 32,
   "metadata": {},
   "outputs": [],
   "source": [
    "csv_file = open(path + 'data.csv', 'r') # 읽기 모드로 파일 열기"
   ]
  },
  {
   "cell_type": "code",
   "execution_count": 33,
   "metadata": {},
   "outputs": [
    {
     "name": "stdout",
     "output_type": "stream",
     "text": [
      "date,no1,no2,no3,no4,no5\n",
      "2019-01-01 00:00:00,0.7373,-1.8111,-0.3021,0.5963,-0.5203\n",
      "2019-01-01 01:00:00,-0.7525,-0.0078,-0.4862,-1.3546,-0.1868\n",
      "2019-01-01 02:00:00,0.5802,-1.0272,0.155,-0.0536,0.1536\n",
      "2019-01-01 03:00:00,2.083,-0.0802,-0.2171,-1.5247,-1.9027\n"
     ]
    }
   ],
   "source": [
    "for i in range(5):\n",
    "    print(csv_file.readline(), end='') # 내용을 한 줄씩 읽고 출력"
   ]
  },
  {
   "cell_type": "code",
   "execution_count": 34,
   "metadata": {},
   "outputs": [],
   "source": [
    "csv_file.close()"
   ]
  },
  {
   "cell_type": "code",
   "execution_count": 35,
   "metadata": {},
   "outputs": [],
   "source": [
    "# 한 번에 모든 내용 읽기\n",
    "csv_file = open(path + 'data.csv', 'r')"
   ]
  },
  {
   "cell_type": "code",
   "execution_count": 36,
   "metadata": {},
   "outputs": [
    {
     "data": {
      "text/plain": [
       "['date,no1,no2,no3,no4,no5\\n',\n",
       " '2019-01-01 00:00:00,0.7373,-1.8111,-0.3021,0.5963,-0.5203\\n',\n",
       " '2019-01-01 01:00:00,-0.7525,-0.0078,-0.4862,-1.3546,-0.1868\\n',\n",
       " '2019-01-01 02:00:00,0.5802,-1.0272,0.155,-0.0536,0.1536\\n',\n",
       " '2019-01-01 03:00:00,2.083,-0.0802,-0.2171,-1.5247,-1.9027\\n']"
      ]
     },
     "execution_count": 36,
     "metadata": {},
     "output_type": "execute_result"
    }
   ],
   "source": [
    "content = csv_file.readlines()\n",
    "content[:5]"
   ]
  },
  {
   "cell_type": "code",
   "execution_count": 37,
   "metadata": {},
   "outputs": [],
   "source": [
    "csv_file.close()"
   ]
  },
  {
   "attachments": {},
   "cell_type": "markdown",
   "metadata": {},
   "source": [
    "CSV 파일은 중요하고 자주 사용되므로 파이썬 표준 라이브러리에 아예 이 파일 형식을 다루는 `csv`라는 모듈이 있을 정도입니다. 이 모듈의 두 가지 읽기 도구 객체는 리스트의 리스트나 사전의 리스트를 반환합니다."
   ]
  },
  {
   "cell_type": "code",
   "execution_count": 38,
   "metadata": {},
   "outputs": [],
   "source": [
    "import csv"
   ]
  },
  {
   "cell_type": "code",
   "execution_count": 39,
   "metadata": {},
   "outputs": [],
   "source": [
    "with open(path + 'data.csv', 'r') as f:\n",
    "    csv_reader = csv.reader(f) # csv.reader() 함수는 각 줄을 리스트 객체로 반환\n",
    "    lines = [line for line in csv_reader]"
   ]
  },
  {
   "cell_type": "code",
   "execution_count": 40,
   "metadata": {},
   "outputs": [
    {
     "data": {
      "text/plain": [
       "[['date', 'no1', 'no2', 'no3', 'no4', 'no5'],\n",
       " ['2019-01-01 00:00:00', '0.7373', '-1.8111', '-0.3021', '0.5963', '-0.5203'],\n",
       " ['2019-01-01 01:00:00',\n",
       "  '-0.7525',\n",
       "  '-0.0078',\n",
       "  '-0.4862',\n",
       "  '-1.3546',\n",
       "  '-0.1868'],\n",
       " ['2019-01-01 02:00:00', '0.5802', '-1.0272', '0.155', '-0.0536', '0.1536'],\n",
       " ['2019-01-01 03:00:00', '2.083', '-0.0802', '-0.2171', '-1.5247', '-1.9027']]"
      ]
     },
     "execution_count": 40,
     "metadata": {},
     "output_type": "execute_result"
    }
   ],
   "source": [
    "lines[:5]"
   ]
  },
  {
   "cell_type": "code",
   "execution_count": 41,
   "metadata": {},
   "outputs": [],
   "source": [
    "with open(path + 'data.csv', 'r') as f:\n",
    "    csv_reader = csv.DictReader(f) # csv.DictReader() 함수는 각 줄을 특수 사전 객체인 OrderedDict 객체로 반환\n",
    "    lines = [line for line in csv_reader]"
   ]
  },
  {
   "cell_type": "code",
   "execution_count": 42,
   "metadata": {},
   "outputs": [
    {
     "data": {
      "text/plain": [
       "[{'date': '2019-01-01 00:00:00',\n",
       "  'no1': '0.7373',\n",
       "  'no2': '-1.8111',\n",
       "  'no3': '-0.3021',\n",
       "  'no4': '0.5963',\n",
       "  'no5': '-0.5203'},\n",
       " {'date': '2019-01-01 01:00:00',\n",
       "  'no1': '-0.7525',\n",
       "  'no2': '-0.0078',\n",
       "  'no3': '-0.4862',\n",
       "  'no4': '-1.3546',\n",
       "  'no5': '-0.1868'},\n",
       " {'date': '2019-01-01 02:00:00',\n",
       "  'no1': '0.5802',\n",
       "  'no2': '-1.0272',\n",
       "  'no3': '0.155',\n",
       "  'no4': '-0.0536',\n",
       "  'no5': '0.1536'}]"
      ]
     },
     "execution_count": 42,
     "metadata": {},
     "output_type": "execute_result"
    }
   ],
   "source": [
    "lines[:3]"
   ]
  },
  {
   "attachments": {},
   "cell_type": "markdown",
   "metadata": {},
   "source": [
    "### 9.1.3 SQL 데이터베이스 작업\n",
    "파이썬은 거의 모든 종류의 SQL 데이터베이스와 NoSQL 데이터베이스 작업이 가능합니다. 파이썬에서 기본으로 사용하는 데이터베이스는 SQLite3(http://www.sqlite.org)이며, 기본적인 SQL 데이터베이스 작업을 할 수 있습니다."
   ]
  },
  {
   "cell_type": "code",
   "execution_count": 43,
   "metadata": {},
   "outputs": [],
   "source": [
    "import sqlite3 as sq3"
   ]
  },
  {
   "cell_type": "code",
   "execution_count": 44,
   "metadata": {},
   "outputs": [],
   "source": [
    "con = sq3.connect(path + 'numbs.db') # 데이터베이스 연결 열기(파일이 없으면 생성)"
   ]
  },
  {
   "cell_type": "code",
   "execution_count": 45,
   "metadata": {},
   "outputs": [],
   "source": [
    "query = 'CREATE TABLE numbs (Date date, No1 real, No2 real)' # 세 개의 열을 가지는 테이블 생성하는 SQL 쿼리"
   ]
  },
  {
   "cell_type": "code",
   "execution_count": 46,
   "metadata": {},
   "outputs": [
    {
     "data": {
      "text/plain": [
       "<sqlite3.Cursor at 0x268209da6c0>"
      ]
     },
     "execution_count": 46,
     "metadata": {},
     "output_type": "execute_result"
    }
   ],
   "source": [
    "con.execute(query) # 쿼리 실행"
   ]
  },
  {
   "cell_type": "code",
   "execution_count": 47,
   "metadata": {},
   "outputs": [],
   "source": [
    "con.commit() # 커밋"
   ]
  },
  {
   "cell_type": "code",
   "execution_count": 48,
   "metadata": {},
   "outputs": [],
   "source": [
    "q = con.execute # con.execute() 메서드에 대한 단축어 지정"
   ]
  },
  {
   "cell_type": "code",
   "execution_count": 49,
   "metadata": {},
   "outputs": [
    {
     "data": {
      "text/plain": [
       "[('table',\n",
       "  'numbs',\n",
       "  'numbs',\n",
       "  2,\n",
       "  'CREATE TABLE numbs (Date date, No1 real, No2 real)')]"
      ]
     },
     "execution_count": 49,
     "metadata": {},
     "output_type": "execute_result"
    }
   ],
   "source": [
    "q('SELECT * FROM sqlite_master').fetchall() # 데이터베이스의 메타정보 읽기"
   ]
  },
  {
   "attachments": {},
   "cell_type": "markdown",
   "metadata": {},
   "source": [
    "이제 테이블을 포함한 데이터베이스 파일이 만들어지고 이 테이블에 데이터를 넣을 수 있습니다. 각 행은 `datetime` 객체와 두 개의 부동소수점 실수로 구성될 것입니다."
   ]
  },
  {
   "cell_type": "code",
   "execution_count": 50,
   "metadata": {},
   "outputs": [],
   "source": [
    "import datetime"
   ]
  },
  {
   "cell_type": "code",
   "execution_count": 51,
   "metadata": {},
   "outputs": [],
   "source": [
    "now = datetime.datetime.now()"
   ]
  },
  {
   "cell_type": "code",
   "execution_count": 52,
   "metadata": {},
   "outputs": [
    {
     "data": {
      "text/plain": [
       "<sqlite3.Cursor at 0x268209dad50>"
      ]
     },
     "execution_count": 52,
     "metadata": {},
     "output_type": "execute_result"
    }
   ],
   "source": [
    "q('INSERT INTO numbs VALUES(?, ?, ?)', (now, 0.12, 7.3)) # numbs 테이블에 한 행 쓰기"
   ]
  },
  {
   "cell_type": "code",
   "execution_count": 53,
   "metadata": {},
   "outputs": [],
   "source": [
    "np.random.seed(100)"
   ]
  },
  {
   "cell_type": "code",
   "execution_count": 54,
   "metadata": {},
   "outputs": [],
   "source": [
    "data = np.random.standard_normal((10000, 2)).round(4) # ndarray 객체 형태의 가짜 데이터 생성"
   ]
  },
  {
   "cell_type": "code",
   "execution_count": 55,
   "metadata": {},
   "outputs": [
    {
     "name": "stdout",
     "output_type": "stream",
     "text": [
      "Wall time: 99 ms\n"
     ]
    }
   ],
   "source": [
    "%%time\n",
    "for row in data:\n",
    "    now = datetime.datetime.now()\n",
    "    q('INSERT INTO numbs VALUES(?, ?, ?)', (now, row[0], row[1]))\n",
    "con.commit()"
   ]
  },
  {
   "cell_type": "code",
   "execution_count": 56,
   "metadata": {},
   "outputs": [
    {
     "data": {
      "text/plain": [
       "[('2023-05-27 20:58:06.328619', 0.12, 7.3),\n",
       " ('2023-05-27 20:58:06.726708', -1.7498, 0.3427),\n",
       " ('2023-05-27 20:58:06.726708', 1.153, -0.2524),\n",
       " ('2023-05-27 20:58:06.726708', 0.9813, 0.5142)]"
      ]
     },
     "execution_count": 56,
     "metadata": {},
     "output_type": "execute_result"
    }
   ],
   "source": [
    "q('SELECT * FROM numbs').fetchmany(4) # 테이블 각 행의 숫자 읽기"
   ]
  },
  {
   "cell_type": "code",
   "execution_count": 57,
   "metadata": {},
   "outputs": [
    {
     "data": {
      "text/plain": [
       "[('2023-05-27 20:58:06.726708', 1.153, -0.2524),\n",
       " ('2023-05-27 20:58:06.726708', 0.9813, 0.5142),\n",
       " ('2023-05-27 20:58:06.726708', 0.6727, -0.1044),\n",
       " ('2023-05-27 20:58:06.727709', 1.619, 1.5416)]"
      ]
     },
     "execution_count": 57,
     "metadata": {},
     "output_type": "execute_result"
    }
   ],
   "source": [
    "q('SELECT * FROM numbs WHERE no1 > 0.5').fetchmany(4) # No1 열에서 조건 추가"
   ]
  },
  {
   "cell_type": "code",
   "execution_count": 58,
   "metadata": {},
   "outputs": [],
   "source": [
    "pointer = q('SELECT * FROM numbs') # 포인터 객체 정의"
   ]
  },
  {
   "cell_type": "code",
   "execution_count": 59,
   "metadata": {},
   "outputs": [
    {
     "name": "stdout",
     "output_type": "stream",
     "text": [
      "('2023-05-27 20:58:06.328619', 0.12, 7.3)\n",
      "('2023-05-27 20:58:06.726708', -1.7498, 0.3427)\n",
      "('2023-05-27 20:58:06.726708', 1.153, -0.2524)\n"
     ]
    }
   ],
   "source": [
    "for i in range(3):\n",
    "    print(pointer.fetchone()) # 제너레이터 객체와 같은 역할"
   ]
  },
  {
   "cell_type": "code",
   "execution_count": 60,
   "metadata": {},
   "outputs": [],
   "source": [
    "rows = pointer.fetchall() # 나머지 행 읽기"
   ]
  },
  {
   "attachments": {},
   "cell_type": "markdown",
   "metadata": {},
   "source": [
    "마지막으로 필요 없는 테이블 객체를 데이터베이스에서 삭제합니다."
   ]
  },
  {
   "cell_type": "code",
   "execution_count": 61,
   "metadata": {},
   "outputs": [
    {
     "data": {
      "text/plain": [
       "<sqlite3.Cursor at 0x26820dcf880>"
      ]
     },
     "execution_count": 61,
     "metadata": {},
     "output_type": "execute_result"
    }
   ],
   "source": [
    "q('DROP TABLE IF EXISTS numbs')"
   ]
  },
  {
   "cell_type": "code",
   "execution_count": 62,
   "metadata": {},
   "outputs": [
    {
     "data": {
      "text/plain": [
       "[]"
      ]
     },
     "execution_count": 62,
     "metadata": {},
     "output_type": "execute_result"
    }
   ],
   "source": [
    "q('SELECT * FROM sqlite_master').fetchall() # 테이블 객체가 없음을 확인"
   ]
  },
  {
   "cell_type": "code",
   "execution_count": 63,
   "metadata": {},
   "outputs": [],
   "source": [
    "con.close() # 데이터베이스 연결 닫기"
   ]
  },
  {
   "attachments": {},
   "cell_type": "markdown",
   "metadata": {},
   "source": [
    "SQL 데이터베이스에 대한 내용은 너무 광범위하므로 이 장에서 모두 다룰 수 없습니다. 여기서 전하려는 기본 메시지만 정리하면 다음과 같습니다.  \n",
    "* 파이썬은 어떤 데이터베이스 기술과도 잘 융합된다.  \n",
    "* 기본적인 SQL 문법은 사용하고자 하는 데이터베이스에 의해 결정된다. 나머지는 파이썬 스타일에 따른다.\n",
    "\n",
    "이 장 뒷부분에 SQLite3에 대한 예제가 더 있습니다.\n",
    "### 9.1.4 NumPy 배열 읽고 쓰기\n",
    "넘파이도 `ndarray` 객체를 읽고 쓰는 함수가 있습니다. 이 함수를 사용하면 넘파이 `dtype`을 특정한 데이터베이스(예를 들어 SQLite3) 자료형으로 변환하는 수고를 덜어줍니다. 앞에서 보인 예제에서 SQL 대신 `NumPy`로 대체해봅시다. 저장할 `datetime` 객체 배열을 생성하기 위해 판다스 대신 넘파이의 `np.arange()` 함수를 사용합니다."
   ]
  },
  {
   "cell_type": "code",
   "execution_count": 64,
   "metadata": {},
   "outputs": [],
   "source": [
    "dtimes = np.arange('2019-01-01 10:00:00', '2025-12-31 22:00:00',\n",
    "                   dtype='datetime64[m]')"
   ]
  },
  {
   "cell_type": "code",
   "execution_count": 65,
   "metadata": {},
   "outputs": [
    {
     "data": {
      "text/plain": [
       "3681360"
      ]
     },
     "execution_count": 65,
     "metadata": {},
     "output_type": "execute_result"
    }
   ],
   "source": [
    "len(dtimes)"
   ]
  },
  {
   "cell_type": "code",
   "execution_count": 66,
   "metadata": {},
   "outputs": [],
   "source": [
    "dty = np.dtype([('Date', 'datetime64[m]'),\n",
    "                ('No1', 'f'), ('No2', 'f')]) # 구조체 배열을 위한 특수 자료형 정의"
   ]
  },
  {
   "cell_type": "code",
   "execution_count": 67,
   "metadata": {},
   "outputs": [],
   "source": [
    "data = np.zeros(len(dtimes), dtype=dty) # 특수 자료형 ndarray 객체 생성"
   ]
  },
  {
   "cell_type": "code",
   "execution_count": 68,
   "metadata": {},
   "outputs": [],
   "source": [
    "data['Date'] = dtimes # Date 열 채우기"
   ]
  },
  {
   "cell_type": "code",
   "execution_count": 69,
   "metadata": {},
   "outputs": [],
   "source": [
    "a = np.random.standard_normal((len(dtimes), 2)).round(4)"
   ]
  },
  {
   "cell_type": "code",
   "execution_count": 70,
   "metadata": {},
   "outputs": [],
   "source": [
    "data['No1'] = a[:, 0]\n",
    "data['No2'] = a[:, 1]"
   ]
  },
  {
   "cell_type": "code",
   "execution_count": 71,
   "metadata": {},
   "outputs": [
    {
     "data": {
      "text/plain": [
       "58901760"
      ]
     },
     "execution_count": 71,
     "metadata": {},
     "output_type": "execute_result"
    }
   ],
   "source": [
    "data.nbytes"
   ]
  },
  {
   "attachments": {},
   "cell_type": "markdown",
   "metadata": {},
   "source": [
    "`ndarray` 객체 저장은 최적화되어 있고 속도가 빠릅니다. 거의 60MB 데이터를 수분의 일 초만에 디스크에 저장할 수 있으며, 480MB의 데이터를 저장하는 데도 약 0.5초 정도밖에 걸리지 않습니다."
   ]
  },
  {
   "cell_type": "code",
   "execution_count": 72,
   "metadata": {},
   "outputs": [
    {
     "name": "stdout",
     "output_type": "stream",
     "text": [
      "Wall time: 60 ms\n"
     ]
    }
   ],
   "source": [
    "%time np.save(path + 'array', data) # 구조화된 ndarray 객체를 디스크에 저장합니다"
   ]
  },
  {
   "cell_type": "code",
   "execution_count": 73,
   "metadata": {},
   "outputs": [
    {
     "name": "stdout",
     "output_type": "stream",
     "text": [
      "Wall time: 24 ms\n"
     ]
    },
    {
     "data": {
      "text/plain": [
       "array([('2019-01-01T10:00',  1.5131,  0.6973),\n",
       "       ('2019-01-01T10:01', -1.722 , -0.4815),\n",
       "       ('2019-01-01T10:02',  0.8251,  0.3019), ...,\n",
       "       ('2025-12-31T21:57',  1.372 ,  0.6446),\n",
       "       ('2025-12-31T21:58', -1.2542,  0.1612),\n",
       "       ('2025-12-31T21:59', -1.1997, -1.097 )],\n",
       "      dtype=[('Date', '<M8[m]'), ('No1', '<f4'), ('No2', '<f4')])"
      ]
     },
     "execution_count": 73,
     "metadata": {},
     "output_type": "execute_result"
    }
   ],
   "source": [
    "%time np.load(path + 'array.npy')"
   ]
  },
  {
   "cell_type": "code",
   "execution_count": 74,
   "metadata": {},
   "outputs": [
    {
     "name": "stdout",
     "output_type": "stream",
     "text": [
      "Wall time: 1.66 s\n"
     ]
    }
   ],
   "source": [
    "%time data = np.random.standard_normal((10000, 6000)).round(4) # 구조화된 ndarray 데이터를 디스크에서 읽습니다"
   ]
  },
  {
   "cell_type": "code",
   "execution_count": 75,
   "metadata": {},
   "outputs": [
    {
     "data": {
      "text/plain": [
       "480000000"
      ]
     },
     "execution_count": 75,
     "metadata": {},
     "output_type": "execute_result"
    }
   ],
   "source": [
    "data.nbytes"
   ]
  },
  {
   "cell_type": "code",
   "execution_count": 76,
   "metadata": {},
   "outputs": [
    {
     "name": "stdout",
     "output_type": "stream",
     "text": [
      "Wall time: 451 ms\n"
     ]
    }
   ],
   "source": [
    "%time np.save(path + 'array', data)"
   ]
  },
  {
   "cell_type": "code",
   "execution_count": 77,
   "metadata": {},
   "outputs": [
    {
     "name": "stdout",
     "output_type": "stream",
     "text": [
      "Wall time: 163 ms\n"
     ]
    },
    {
     "data": {
      "text/plain": [
       "array([[ 0.3066,  0.5951,  0.5826, ...,  1.6773,  0.4294, -0.2216],\n",
       "       [ 0.8769,  0.7292, -0.9557, ...,  0.5084,  0.9635, -0.4443],\n",
       "       [-1.2202, -2.5509, -0.0575, ..., -1.6128,  0.4662, -1.3645],\n",
       "       ...,\n",
       "       [-0.5598,  0.2393, -2.3716, ...,  1.7669,  0.2462,  1.035 ],\n",
       "       [ 0.273 ,  0.8216, -0.0749, ..., -0.0552, -0.8396,  0.3077],\n",
       "       [-0.6305,  0.8331,  1.3702, ...,  0.3493,  0.1981,  0.2037]])"
      ]
     },
     "execution_count": 77,
     "metadata": {},
     "output_type": "execute_result"
    }
   ],
   "source": [
    "%time np.load(path + 'array.npy') # 정상적인 ndarray 객체"
   ]
  },
  {
   "attachments": {},
   "cell_type": "markdown",
   "metadata": {},
   "source": [
    "이런 방식의 데이터 읽고 스기는 SQL 데이터베이스나 `pickle` 모듈 직렬화보다 빠른데 그 이유는 두 가지입니다. 우선 데이터가 주로 숫자이고 두 번째로 넘파이가 바이너리 저장 방식을 사용해서 오버헤드가 거의 없기 때문입니다. 물론 이 방식을 쓰면 SQL 데이터베이스의 기능을 사용할 수 없습니다. 이때는 9.3절에서 설명하는 `PyTables` 라이브러리가 도움이 됩니다.\n",
    "## 9.2 pandas를 이용한 입출력\n",
    "판다스 라이브러리의 강점 중 하나는 다으과 같은 여러 가지 데이터 포맷으로 쓰거나 읽을 수 있다는 점입니다.\n",
    "* CSV (Comma-Seperated Value)\n",
    "* SQL (Structured Query Language)\n",
    "* XLS/XSLX (Microsoft Excel File)\n",
    "* JSON (JavaScript Object Notation)\n",
    "* HTML (HyperText Markup Language)\n",
    "\n",
    "다음 표는 판다스와 `DataFrame` 클래스에서 입출력을 지원하는 모든 포맷의 목록입니다. 함수의 인수 목록에 대해서는 판다스 공식 문서를 참조하세요.  \n",
    " \n",
    "|포맷|입력|출력|설명|\n",
    "|---|---|---|---|\n",
    "|CSV|`pd.read_csv()`|`.to_csv()`|텍스트 파일|\n",
    "|XLS/XLSX|`pd.read_excel()`|`.to_excel()`|스프레드시트|\n",
    "|HDF|`pd.read_hdf()`|`.to_hdf()`|HDF5 데이터베이스|\n",
    "|SQL|`pd.read_sql()`|`.to_sql()`|SQL 테이블|\n",
    "|JSON|`pd.read_json()`|`.to_json()`|JavaScript Object Notation|\n",
    "|MSGPACK|`pd.read_msgpack()`|`.to_msgpack()`|Portable binary format|\n",
    "|HTML|`pd.read_html()`|`.to_html()`|HTML|\n",
    "|GBQ|`pd.read_gbq()`|`.to_gbq()`|구글 Big Query 형식|\n",
    "|DTA|`pd.read_stata()`|`.to_stata()`|Formats 104, 105, 108, 113~115, 117|\n",
    "|Any|`pd.read_clipboard()`|`.to_clipboard()`|예) from HTML page|\n",
    "|Any|`pd.read_pickle()`|`.to_pickle`|파이썬 구조화 객체|  \n",
    "\n",
    "테스트 케이스로 다시 대량의 부동소수점 숫자를 만듭니다."
   ]
  },
  {
   "cell_type": "code",
   "execution_count": 78,
   "metadata": {},
   "outputs": [],
   "source": [
    "data = np.random.standard_normal((1000000, 5)).round(4)"
   ]
  },
  {
   "cell_type": "code",
   "execution_count": 79,
   "metadata": {},
   "outputs": [
    {
     "data": {
      "text/plain": [
       "array([[ 0.4918,  1.3707,  0.137 ,  0.3981, -1.0059],\n",
       "       [ 0.4516,  1.4445,  0.0555, -0.0397,  0.44  ],\n",
       "       [ 0.1629, -0.8473, -0.8223, -0.4621, -0.5137]])"
      ]
     },
     "execution_count": 79,
     "metadata": {},
     "output_type": "execute_result"
    }
   ],
   "source": [
    "data[:3]"
   ]
  },
  {
   "attachments": {},
   "cell_type": "markdown",
   "metadata": {},
   "source": [
    "테스트를 위해 다시 SQLite3를 사용하여 판다스를 쓰는 경우와 비교해보겠습니다.\n",
    "### 9.2.1 SQL 데이터베이스 작업"
   ]
  },
  {
   "cell_type": "code",
   "execution_count": 80,
   "metadata": {},
   "outputs": [],
   "source": [
    "filename = path + 'numbers'"
   ]
  },
  {
   "cell_type": "code",
   "execution_count": 81,
   "metadata": {},
   "outputs": [],
   "source": [
    "con = sq3.Connection(filename + '.db')"
   ]
  },
  {
   "cell_type": "code",
   "execution_count": 82,
   "metadata": {},
   "outputs": [],
   "source": [
    "query = 'CREATE TABLE numbers (No1 real, No2 real,\\\n",
    "    No3 real, No4 real, No5 real)'"
   ]
  },
  {
   "cell_type": "code",
   "execution_count": 83,
   "metadata": {},
   "outputs": [],
   "source": [
    "q = con.execute\n",
    "qm = con.executemany"
   ]
  },
  {
   "cell_type": "code",
   "execution_count": 84,
   "metadata": {},
   "outputs": [
    {
     "data": {
      "text/plain": [
       "<sqlite3.Cursor at 0x268208e1180>"
      ]
     },
     "execution_count": 84,
     "metadata": {},
     "output_type": "execute_result"
    }
   ],
   "source": [
    "q(query)"
   ]
  },
  {
   "attachments": {},
   "cell_type": "markdown",
   "metadata": {},
   "source": [
    "한 `ndarray` 객체의 내용을 쓰기 위해 이번에는 `executemany`를 사용합니다. 데이터를 읽고 작업하는 것은 이전과 동일합니다. 쿼리 결과도 쉽게 시각화할 수 있죠."
   ]
  },
  {
   "cell_type": "code",
   "execution_count": 85,
   "metadata": {},
   "outputs": [
    {
     "name": "stdout",
     "output_type": "stream",
     "text": [
      "Wall time: 4.96 s\n"
     ]
    }
   ],
   "source": [
    "%%time\n",
    "qm('INSERT INTO numbers VALUES (?, ?, ?, ?, ?)', data) # 전체 테이블을 테이블에 한꺼번에 넣습니다.\n",
    "con.commit()"
   ]
  },
  {
   "cell_type": "code",
   "execution_count": 86,
   "metadata": {},
   "outputs": [
    {
     "name": "stdout",
     "output_type": "stream",
     "text": [
      "[(0.4918, 1.3707, 0.137, 0.3981, -1.0059), (0.4516, 1.4445, 0.0555, -0.0397, 0.44), (0.1629, -0.8473, -0.8223, -0.4621, -0.5137)]\n",
      "Wall time: 1.45 s\n"
     ]
    }
   ],
   "source": [
    "%%time\n",
    "temp = q('SELECT * FROM numbers').fetchall() # 테이블에서 한 번에 모든 데이터를 읽습니다.\n",
    "print(temp[:3])"
   ]
  },
  {
   "cell_type": "code",
   "execution_count": 87,
   "metadata": {},
   "outputs": [
    {
     "name": "stdout",
     "output_type": "stream",
     "text": [
      "Wall time: 720 ms\n"
     ]
    }
   ],
   "source": [
    "%%time\n",
    "query = 'SELECT * FROM numbers WHERE No1 > 0 AND No2 < 0'\n",
    "res = np.array(q(query).fetchall()).round(3) # 일부 행을 읽어 ndarray 객체로 변형합니다."
   ]
  },
  {
   "cell_type": "code",
   "execution_count": 88,
   "metadata": {},
   "outputs": [
    {
     "data": {
      "text/plain": [
       "[<matplotlib.lines.Line2D at 0x26844581fd0>]"
      ]
     },
     "execution_count": 88,
     "metadata": {},
     "output_type": "execute_result"
    },
    {
     "data": {
      "image/png": "[encoded data removed]",
      "text/plain": [
       "<Figure size 1000x600 with 1 Axes>"
      ]
     },
     "metadata": {},
     "output_type": "display_data"
    }
   ],
   "source": [
    "# 쿼리 결과 플롯\n",
    "res = res[::100]\n",
    "plt.figure(figsize=(10, 6))\n",
    "plt.plot(res[:, 0], res[:, 1], 'ro')"
   ]
  },
  {
   "attachments": {},
   "cell_type": "markdown",
   "metadata": {},
   "source": [
    "### 9.2.2 SQL에서 pandas로\n",
    "일반적으로 가장 효율적인 방법은 전체 테이블이나 쿼리 결과를 판다스로 한 번에 읽는 겁니다. 전체 테이블을 메모리에 읽어 들일 수 있다면 쿼리 작업은 디스크 기반의 SQL 작업보다 훨씬 빠르게 실행될 수 있습니다.  \n",
    "전체 테이블을 판다스로 읽으면 넘파이 배열 객체를 읽을 때와 거의 비슷한 시간이 걸립니다. 여기에서 성능상의 병목은 SQL 데이터베이스입니다."
   ]
  },
  {
   "cell_type": "code",
   "execution_count": 89,
   "metadata": {},
   "outputs": [
    {
     "name": "stdout",
     "output_type": "stream",
     "text": [
      "Wall time: 2.05 s\n"
     ]
    }
   ],
   "source": [
    "%time data = pd.read_sql('SELECT * FROM numbers', con) # 테이블의 모든 행을 읽고 data라는 이름의 DataFrame 객체에 넣습니다."
   ]
  },
  {
   "attachments": {},
   "cell_type": "markdown",
   "metadata": {},
   "source": [
    "이제 데이터가 메모리상에 존재하므로 훨씬 더 빠르게 분석할 수 있습니다. 판다스는 속도 향상뿐 아니라 훨씬 복잡한 쿼리도 할 수 있습니다. 그렇다고 복잡한 관계형 데이터 구조에서 SQL을 완전히 대체할 수 있다는 것은 아닙니다. 다음 그림은 복합 조건을 가진 쿼리 결과입니다."
   ]
  },
  {
   "cell_type": "code",
   "execution_count": 90,
   "metadata": {},
   "outputs": [
    {
     "name": "stdout",
     "output_type": "stream",
     "text": [
      "Wall time: 17 ms\n"
     ]
    },
    {
     "data": {
      "text/html": [
       "<div>\n",
       "<style scoped>\n",
       "    .dataframe tbody tr th:only-of-type {\n",
       "        vertical-align: middle;\n",
       "    }\n",
       "\n",
       "    .dataframe tbody tr th {\n",
       "        vertical-align: top;\n",
       "    }\n",
       "\n",
       "    .dataframe thead th {\n",
       "        text-align: right;\n",
       "    }\n",
       "</style>\n",
       "<table border=\"1\" class=\"dataframe\">\n",
       "  <thead>\n",
       "    <tr style=\"text-align: right;\">\n",
       "      <th></th>\n",
       "      <th>No1</th>\n",
       "      <th>No2</th>\n",
       "      <th>No3</th>\n",
       "      <th>No4</th>\n",
       "      <th>No5</th>\n",
       "    </tr>\n",
       "  </thead>\n",
       "  <tbody>\n",
       "    <tr>\n",
       "      <th>2</th>\n",
       "      <td>0.1629</td>\n",
       "      <td>-0.8473</td>\n",
       "      <td>-0.8223</td>\n",
       "      <td>-0.4621</td>\n",
       "      <td>-0.5137</td>\n",
       "    </tr>\n",
       "    <tr>\n",
       "      <th>5</th>\n",
       "      <td>0.1893</td>\n",
       "      <td>-0.0207</td>\n",
       "      <td>-0.2104</td>\n",
       "      <td>0.9419</td>\n",
       "      <td>0.2551</td>\n",
       "    </tr>\n",
       "    <tr>\n",
       "      <th>8</th>\n",
       "      <td>1.4784</td>\n",
       "      <td>-0.3333</td>\n",
       "      <td>-0.7050</td>\n",
       "      <td>0.3586</td>\n",
       "      <td>-0.3937</td>\n",
       "    </tr>\n",
       "    <tr>\n",
       "      <th>10</th>\n",
       "      <td>0.8092</td>\n",
       "      <td>-0.9899</td>\n",
       "      <td>1.0364</td>\n",
       "      <td>-1.0453</td>\n",
       "      <td>0.0579</td>\n",
       "    </tr>\n",
       "    <tr>\n",
       "      <th>11</th>\n",
       "      <td>0.9065</td>\n",
       "      <td>-0.7757</td>\n",
       "      <td>-0.9267</td>\n",
       "      <td>0.7797</td>\n",
       "      <td>0.0863</td>\n",
       "    </tr>\n",
       "  </tbody>\n",
       "</table>\n",
       "</div>"
      ],
      "text/plain": [
       "       No1     No2     No3     No4     No5\n",
       "2   0.1629 -0.8473 -0.8223 -0.4621 -0.5137\n",
       "5   0.1893 -0.0207 -0.2104  0.9419  0.2551\n",
       "8   1.4784 -0.3333 -0.7050  0.3586 -0.3937\n",
       "10  0.8092 -0.9899  1.0364 -1.0453  0.0579\n",
       "11  0.9065 -0.7757 -0.9267  0.7797  0.0863"
      ]
     },
     "execution_count": 90,
     "metadata": {},
     "output_type": "execute_result"
    }
   ],
   "source": [
    "%time data[(data['No1'] > 0) & (data['No2'] < 0)].head() # 두 조건 결합"
   ]
  },
  {
   "cell_type": "code",
   "execution_count": 91,
   "metadata": {},
   "outputs": [
    {
     "name": "stdout",
     "output_type": "stream",
     "text": [
      "Wall time: 26 ms\n"
     ]
    }
   ],
   "source": [
    "%%time\n",
    "q = '(No1 < -0.5 | No1 > 0.5) & (No2 < -1 | No2 > 1)' # 네 조건을 결합\n",
    "res = data[['No1', 'No2']].query(q)"
   ]
  },
  {
   "cell_type": "code",
   "execution_count": 92,
   "metadata": {},
   "outputs": [
    {
     "data": {
      "text/plain": [
       "[<matplotlib.lines.Line2D at 0x26852827100>]"
      ]
     },
     "execution_count": 92,
     "metadata": {},
     "output_type": "execute_result"
    },
    {
     "data": {
      "image/png": "[encoded data removed]",
      "text/plain": [
       "<Figure size 1000x600 with 1 Axes>"
      ]
     },
     "metadata": {},
     "output_type": "display_data"
    }
   ],
   "source": [
    "plt.figure(figsize=(10, 6))\n",
    "plt.plot(res['No1'], res['No2'], 'ro')"
   ]
  },
  {
   "attachments": {},
   "cell_type": "markdown",
   "metadata": {},
   "source": [
    "예상한 대로 판다스가 SQL문을 복제할 수만 있다면 판다스로 메모리사에서 데이터를 분석하는 것이 훨씬 빠른데, 이게 판다스의 유일한 장점은 아닙니다. 판다스는 다음 절에서 설명할 `PyTables`와 밀접하게 통합되어 있습니다. 판다스를 다음과 같이 `PyTables`와 결합하면 입출력 속도를 더 개선할 수 있습니다. 여기에서는 이러한 결합을 통해 I/O 연산 속도를 높일 수 있다는 것만 알면 됩니다. 다음 코드를 보죠."
   ]
  },
  {
   "cell_type": "code",
   "execution_count": 93,
   "metadata": {},
   "outputs": [],
   "source": [
    "h5s = pd.HDFStore(filename + '.h5s', 'w')"
   ]
  },
  {
   "cell_type": "code",
   "execution_count": 94,
   "metadata": {},
   "outputs": [
    {
     "name": "stdout",
     "output_type": "stream",
     "text": [
      "Wall time: 79 ms\n"
     ]
    }
   ],
   "source": [
    "%time h5s['data'] = data"
   ]
  },
  {
   "cell_type": "code",
   "execution_count": 95,
   "metadata": {},
   "outputs": [
    {
     "data": {
      "text/plain": [
       "<class 'pandas.io.pytables.HDFStore'>\n",
       "File path: c:\\Users\\jktak\\OneDrive\\문서\\P\\pythonVScode\\PythonForFinance\\Temp\\data\\numbers.h5s"
      ]
     },
     "execution_count": 95,
     "metadata": {},
     "output_type": "execute_result"
    }
   ],
   "source": [
    "h5s"
   ]
  },
  {
   "cell_type": "code",
   "execution_count": 96,
   "metadata": {},
   "outputs": [],
   "source": [
    "h5s.close()"
   ]
  },
  {
   "attachments": {},
   "cell_type": "markdown",
   "metadata": {},
   "source": [
    "SQL 테이블에서 전체 `DataFrame`으로 데이터를 쓰는 작업은 SQLite3로 같은 작업을 했을 때보다 빠릅니다. 읽기의 경우는 훨씬 더 빠릅니다."
   ]
  },
  {
   "cell_type": "code",
   "execution_count": 97,
   "metadata": {},
   "outputs": [
    {
     "name": "stdout",
     "output_type": "stream",
     "text": [
      "Wall time: 65 ms\n"
     ]
    }
   ],
   "source": [
    "%%time\n",
    "h5s = pd.HDFStore(filename + '.h5s', 'r')\n",
    "data_ = h5s['data']\n",
    "h5s.close()"
   ]
  },
  {
   "cell_type": "code",
   "execution_count": 98,
   "metadata": {},
   "outputs": [
    {
     "data": {
      "text/plain": [
       "False"
      ]
     },
     "execution_count": 98,
     "metadata": {},
     "output_type": "execute_result"
    }
   ],
   "source": [
    "data_ is data # 두 데이터베이스는 서로 다른 객체입니다."
   ]
  },
  {
   "cell_type": "code",
   "execution_count": 99,
   "metadata": {},
   "outputs": [
    {
     "data": {
      "text/plain": [
       "No1    True\n",
       "No2    True\n",
       "No3    True\n",
       "No4    True\n",
       "No5    True\n",
       "dtype: bool"
      ]
     },
     "execution_count": 99,
     "metadata": {},
     "output_type": "execute_result"
    }
   ],
   "source": [
    "(data_ == data).all() # 하지만 동일한 데이터를 담고 있습니다."
   ]
  },
  {
   "cell_type": "code",
   "execution_count": 100,
   "metadata": {},
   "outputs": [
    {
     "data": {
      "text/plain": [
       "True"
      ]
     },
     "execution_count": 100,
     "metadata": {},
     "output_type": "execute_result"
    }
   ],
   "source": [
    "np.allclose(data_, data) # 동일한 데이터를 담고 있습니다."
   ]
  },
  {
   "attachments": {},
   "cell_type": "markdown",
   "metadata": {},
   "source": [
    "### 9.2.3 CSV 파일 작업\n",
    "데이터를 교환할 때 가장 널리 쓰이는 포맷 중 하나가 CSV 포맷이죠. 표준화 포맷이라고 할 수는 없지만 CSV 포맷은 데이터 분석이나 금융 분석을 하는 모든 플랫폼과 애플리케이션에서 처리 가능합니다. 9.1.2절에서 표준 파이썬 기능을 사용해 CSV 파일로 데이터를 읽고 쓰는 법을 이미 설명했는데, 판다스는 이 과정을 더 짧은 코드로 더 빠르고 편리하게 처리할 수 있습니다."
   ]
  },
  {
   "cell_type": "code",
   "execution_count": 101,
   "metadata": {},
   "outputs": [
    {
     "name": "stdout",
     "output_type": "stream",
     "text": [
      "Wall time: 4.59 s\n"
     ]
    }
   ],
   "source": [
    "%time data.to_csv(filename + '.csv')"
   ]
  },
  {
   "cell_type": "code",
   "execution_count": 102,
   "metadata": {},
   "outputs": [
    {
     "name": "stdout",
     "output_type": "stream",
     "text": [
      "Wall time: 541 ms\n"
     ]
    }
   ],
   "source": [
    "%time df = pd.read_csv(filename + '.csv')"
   ]
  },
  {
   "cell_type": "code",
   "execution_count": 103,
   "metadata": {},
   "outputs": [
    {
     "data": {
      "text/plain": [
       "array([[<AxesSubplot:title={'center':'No1'}>,\n",
       "        <AxesSubplot:title={'center':'No2'}>],\n",
       "       [<AxesSubplot:title={'center':'No3'}>,\n",
       "        <AxesSubplot:title={'center':'No4'}>]], dtype=object)"
      ]
     },
     "execution_count": 103,
     "metadata": {},
     "output_type": "execute_result"
    },
    {
     "data": {
      "image/png": "[encoded data removed]",
      "text/plain": [
       "<Figure size 1000x600 with 4 Axes>"
      ]
     },
     "metadata": {},
     "output_type": "display_data"
    }
   ],
   "source": [
    "df[['No1', 'No2', 'No3', 'No4']].hist(bins=20, figsize=(10, 6))"
   ]
  },
  {
   "attachments": {},
   "cell_type": "markdown",
   "metadata": {},
   "source": [
    "### 9.2.4 엑셀 파일 작업\n",
    "다음 코드는 판다스로 엑셀 스프레드시트 형식을 읽고 쓰는 것을 보입니다. 이 예제에서는 데이터를 100,000행으로 제한했습니다."
   ]
  },
  {
   "cell_type": "code",
   "execution_count": 104,
   "metadata": {},
   "outputs": [
    {
     "name": "stdout",
     "output_type": "stream",
     "text": [
      "Wall time: 9.95 s\n"
     ]
    }
   ],
   "source": [
    "%time data[:100000].to_excel(filename + '.xlsx')"
   ]
  },
  {
   "cell_type": "code",
   "execution_count": 105,
   "metadata": {},
   "outputs": [
    {
     "name": "stdout",
     "output_type": "stream",
     "text": [
      "Wall time: 7.97 s\n"
     ]
    }
   ],
   "source": [
    "%time df = pd.read_excel(filename + '.xlsx', 'Sheet1')"
   ]
  },
  {
   "cell_type": "code",
   "execution_count": 106,
   "metadata": {},
   "outputs": [
    {
     "data": {
      "text/plain": [
       "<AxesSubplot:>"
      ]
     },
     "execution_count": 106,
     "metadata": {},
     "output_type": "execute_result"
    },
    {
     "data": {
      "image/png": "[encoded data removed]",
      "text/plain": [
       "<Figure size 1000x600 with 1 Axes>"
      ]
     },
     "metadata": {},
     "output_type": "display_data"
    }
   ],
   "source": [
    "df.cumsum().plot(figsize=(10, 6))"
   ]
  },
  {
   "attachments": {},
   "cell_type": "markdown",
   "metadata": {},
   "source": [
    "데이터를 가진 엑셀 스프레드시트를 생성하는 데는 시간이 좀 걸렸습니다. 스프레드시트 구조가 가진 오버헤드 때문입니다.  \n",
    "생성된 파일을 보면 `DataFrame`과 `HDFStore`를 조합한 경우가 가장 크기가 작은 것을 알 수 있습니다(후술할 데이터 압축을 사용하면 크기를 더 줄일 수 있습니다). 같은 양의 데이터를 가진 CSV 파일(텍스트 파일)의 크기가 더 큽니다. 이는 CSV 파일로 작업할 때 속도가 느려지는 이유 중 하나입니다. 다른 이유는 CSV 파일이 오직 일반적인 텍스트 파일이기 때문입니다."
   ]
  },
  {
   "attachments": {},
   "cell_type": "markdown",
   "metadata": {},
   "source": [
    "## 9.3 PyTables를 이용한 입출력\n",
    "`PyTables`는 HDF5 데이터베이스 파일 표준(http://www.hdfgroup.org)의 파이썬 바인딩입니다. HDF5는 입출력 연산의 성능을 최적화하고 가용 하드웨어를 최대한 이용할 수 있도록 설계되어 있습니다. 이 라이브러리의 임포트 이름은 `tables`입니다. 판다스와 마찬가지로 `PyTables`도 인메모리 분석 시 SQL 데이터베이스를 완전히 대체할 수는 없어도 그 간격을 메울 수 있는 몇 가지 기능이 있습니다. 예를 들어 `PyTables` 데이터베이스는 여러 개의 테이블을 가지고 있으며 압축, 인덱싱, 그리고 대부분의 쿼리문을 지원합니다. 또한 넘파이 배열을 효율적으로 저장할 수 있으며 배열과 유사한 나름의 자료구조를 가지고 있습니다.  \n",
    "그럼 임포트부터 시작하죠.\n",
    "> 패키지 이름은 `PyTables`이지만 임포트 이름은 `tables`입니다. 패키지를 설치할 때도 마찬가지입니다."
   ]
  },
  {
   "cell_type": "code",
   "execution_count": 107,
   "metadata": {},
   "outputs": [],
   "source": [
    "import tables as tb\n",
    "import datetime as dt"
   ]
  },
  {
   "attachments": {},
   "cell_type": "markdown",
   "metadata": {},
   "source": [
    "### 9.3.1 테이블 작업\n",
    "`PyTables`는 SQLite3처럼 파일 기반의 데이터베이스 포맷을 제공합니다. 다음 코드는 데이터베이스 파일을 열어 테이블을 생성합니다.\n",
    "> 많은 다른 데이터베이스는 서버-클라이언트 구조를 요구합니다. 상호작용형 데이터 및 금융 분석에서는 파일 기반 데이터베이스가 좀 더 편리하고 대부분의 목적에 충분합니다."
   ]
  },
  {
   "cell_type": "code",
   "execution_count": 108,
   "metadata": {},
   "outputs": [],
   "source": [
    "filename = path + 'pytab.h5'"
   ]
  },
  {
   "cell_type": "code",
   "execution_count": 109,
   "metadata": {},
   "outputs": [],
   "source": [
    "h5 = tb.open_file(filename, 'w') # HDF5 바이너리 저장 형식으로 데이터베이스 파일 열기"
   ]
  },
  {
   "cell_type": "code",
   "execution_count": 110,
   "metadata": {},
   "outputs": [],
   "source": [
    "row_des = {\n",
    "    'Date': tb.StringCol(26, pos=1), # 날짜 시간 정보를 위한 Date 열\n",
    "    'No1': tb.IntCol(pos=2), # 정수 객체용 열\n",
    "    'No2': tb.IntCol(pos=3), # 정수 객체용 열\n",
    "    'No3': tb.Float64Col(pos=4), # 실수 객체용 열\n",
    "    'No4': tb.Float64Col(pos=5) # 실수 객체용 열\n",
    "}"
   ]
  },
  {
   "cell_type": "code",
   "execution_count": 111,
   "metadata": {},
   "outputs": [],
   "source": [
    "rows = 2000000"
   ]
  },
  {
   "cell_type": "code",
   "execution_count": 112,
   "metadata": {},
   "outputs": [],
   "source": [
    "filters = tb.Filters(complevel=0) # Filters 객체를 사용하여 압축 레벨 등을 지정"
   ]
  },
  {
   "cell_type": "code",
   "execution_count": 113,
   "metadata": {},
   "outputs": [],
   "source": [
    "tab = h5.create_table('/', 'ints_floats', # 노드와 테이블의 이름\n",
    "                      row_des, # 행 데이터 구조에 대한 설명\n",
    "                      title='Integers and Floats', # 테이블 이름\n",
    "                      expectedrows=rows, # 예상 행 개수(최적화를 위해 필요)\n",
    "                      filters=filters) # 사용할 Filters 객체"
   ]
  },
  {
   "cell_type": "code",
   "execution_count": 114,
   "metadata": {},
   "outputs": [
    {
     "data": {
      "text/plain": [
       "tables.table.Table"
      ]
     },
     "execution_count": 114,
     "metadata": {},
     "output_type": "execute_result"
    }
   ],
   "source": [
    "type(tab)"
   ]
  },
  {
   "cell_type": "code",
   "execution_count": 115,
   "metadata": {},
   "outputs": [
    {
     "data": {
      "text/plain": [
       "/ints_floats (Table(0,)) 'Integers and Floats'\n",
       "  description := {\n",
       "  \"Date\": StringCol(itemsize=26, shape=(), dflt=b'', pos=0),\n",
       "  \"No1\": Int32Col(shape=(), dflt=0, pos=1),\n",
       "  \"No2\": Int32Col(shape=(), dflt=0, pos=2),\n",
       "  \"No3\": Float64Col(shape=(), dflt=0.0, pos=3),\n",
       "  \"No4\": Float64Col(shape=(), dflt=0.0, pos=4)}\n",
       "  byteorder := 'little'\n",
       "  chunkshape := (2621,)"
      ]
     },
     "execution_count": 115,
     "metadata": {},
     "output_type": "execute_result"
    }
   ],
   "source": [
    "tab"
   ]
  },
  {
   "attachments": {},
   "cell_type": "markdown",
   "metadata": {},
   "source": [
    "테이블에 숫자 데이터를 만들어 넣기 위해 두 개의 난수 `ndarray` 객체를 만들었습니다. 하나는 난수 정수, 다른 하나는 난수 실수를 가집니다. 테이블에 데이터를 넣는 것은 간단한 파이썬 반복문을 사용합니다."
   ]
  },
  {
   "cell_type": "code",
   "execution_count": 116,
   "metadata": {},
   "outputs": [],
   "source": [
    "pointer = tab.row # 포인터 객체 생성"
   ]
  },
  {
   "cell_type": "code",
   "execution_count": 117,
   "metadata": {},
   "outputs": [],
   "source": [
    "ran_int = np.random.randint(0, 10000, size=(rows, 2)) # 난수 정수를 가진 ndarray 객체 생성"
   ]
  },
  {
   "cell_type": "code",
   "execution_count": 118,
   "metadata": {},
   "outputs": [],
   "source": [
    "ran_flo = np.random.standard_normal((rows, 2)).round(4) # 난수 실수를 가진 ndarray 객체 생성"
   ]
  },
  {
   "cell_type": "code",
   "execution_count": 119,
   "metadata": {},
   "outputs": [
    {
     "name": "stdout",
     "output_type": "stream",
     "text": [
      "Wall time: 6.79 s\n"
     ]
    }
   ],
   "source": [
    "%%time\n",
    "for i in range(rows):\n",
    "    # datetime 객체와 두 개의 정수, 두 개의 실수를 행 단위로 쓰기\n",
    "    pointer['Date'] = dt.datetime.now()\n",
    "    pointer['No1'] = ran_int[i, 0]\n",
    "    pointer['No2'] = ran_int[i, 1]\n",
    "    pointer['No3'] = ran_flo[i, 0]\n",
    "    pointer['No4'] = ran_flo[i, 1]\n",
    "    pointer.append() # 새 행 추가\n",
    "tab.flush() # 모든 행을 플러시(flush, 영구적으로 커밋하기)"
   ]
  },
  {
   "cell_type": "code",
   "execution_count": 120,
   "metadata": {},
   "outputs": [
    {
     "data": {
      "text/plain": [
       "/ints_floats (Table(2000000,)) 'Integers and Floats'\n",
       "  description := {\n",
       "  \"Date\": StringCol(itemsize=26, shape=(), dflt=b'', pos=0),\n",
       "  \"No1\": Int32Col(shape=(), dflt=0, pos=1),\n",
       "  \"No2\": Int32Col(shape=(), dflt=0, pos=2),\n",
       "  \"No3\": Float64Col(shape=(), dflt=0.0, pos=3),\n",
       "  \"No4\": Float64Col(shape=(), dflt=0.0, pos=4)}\n",
       "  byteorder := 'little'\n",
       "  chunkshape := (2621,)"
      ]
     },
     "execution_count": 120,
     "metadata": {},
     "output_type": "execute_result"
    }
   ],
   "source": [
    "tab"
   ]
  },
  {
   "attachments": {},
   "cell_type": "markdown",
   "metadata": {},
   "source": [
    "파이썬 루프를 사용하면 아주 느립니다. 같은 결과를 내기 위해 성능이 더 좋고 파이썬다운 방법은 넘파이 구조체 배열을 사용하는 것입니다. 전체 데이터를 구조체 배열로 지정한 다음에 테이블을 생성하면 한 줄의 코드만으로 끝납니다. 이제 더 이상 행을 일일이 서술할 필요가 없습니다. `PyTables`는 데이터 자료형을 유추할 때 구조체 배열의 `dtype` 객체를 사용합니다."
   ]
  },
  {
   "cell_type": "code",
   "execution_count": 121,
   "metadata": {},
   "outputs": [],
   "source": [
    "dty = np.dtype([('Date', 'S26'), ('No1', '<i4'), ('No2', '<i4'),\n",
    "                ('No3', '<f8'), ('No4', '<f8')]) # 특수 dtype 객체 정의"
   ]
  },
  {
   "cell_type": "code",
   "execution_count": 122,
   "metadata": {},
   "outputs": [],
   "source": [
    "sarray = np.zeros(len(ran_int), dtype=dty) # 0으로 채워진 구조화 배열 생성"
   ]
  },
  {
   "cell_type": "code",
   "execution_count": 123,
   "metadata": {},
   "outputs": [
    {
     "data": {
      "text/plain": [
       "array([(b'', 0, 0, 0., 0.), (b'', 0, 0, 0., 0.), (b'', 0, 0, 0., 0.),\n",
       "       (b'', 0, 0, 0., 0.)],\n",
       "      dtype=[('Date', 'S26'), ('No1', '<i4'), ('No2', '<i4'), ('No3', '<f8'), ('No4', '<f8')])"
      ]
     },
     "execution_count": 123,
     "metadata": {},
     "output_type": "execute_result"
    }
   ],
   "source": [
    "sarray[:4] # ndarray 객체로 새로운 행 생성"
   ]
  },
  {
   "cell_type": "code",
   "execution_count": 124,
   "metadata": {},
   "outputs": [
    {
     "name": "stderr",
     "output_type": "stream",
     "text": [
      "UsageError: Line magic function `%%time` not found.\n"
     ]
    }
   ],
   "source": [
    "# ndarray 객체의 열을 데이터로 채우기\n",
    "%%time\n",
    "sarray['Date']  = dt.datetime.now()\n",
    "sarray['No1'] = ran_int[:, 0]\n",
    "sarray['No2'] = ran_int[:, 1]\n",
    "sarray['No3'] = ran_flo[:, 0]\n",
    "sarray['No4'] = ran_flo[:, 1]"
   ]
  },
  {
   "cell_type": "code",
   "execution_count": 125,
   "metadata": {},
   "outputs": [
    {
     "name": "stdout",
     "output_type": "stream",
     "text": [
      "Wall time: 82 ms\n"
     ]
    },
    {
     "data": {
      "text/plain": [
       "/ints_floats_from_array (Table(2000000,)) 'Integers and Floats'\n",
       "  description := {\n",
       "  \"Date\": StringCol(itemsize=26, shape=(), dflt=b'', pos=0),\n",
       "  \"No1\": Int32Col(shape=(), dflt=0, pos=1),\n",
       "  \"No2\": Int32Col(shape=(), dflt=0, pos=2),\n",
       "  \"No3\": Float64Col(shape=(), dflt=0.0, pos=3),\n",
       "  \"No4\": Float64Col(shape=(), dflt=0.0, pos=4)}\n",
       "  byteorder := 'little'\n",
       "  chunkshape := (2621,)"
      ]
     },
     "execution_count": 125,
     "metadata": {},
     "output_type": "execute_result"
    }
   ],
   "source": [
    "%%time\n",
    "h5.create_table('/', 'ints_floats_from_array', sarray,\n",
    "                title='Integers and Floats',\n",
    "                expectedrows=rows, filters=filters) # Table 객체 생성 및 데이터로 채우기"
   ]
  },
  {
   "attachments": {},
   "cell_type": "markdown",
   "metadata": {},
   "source": [
    "아래 방식은 훨씬 빠르고 코드가 간결하면서도 같은 결과를 얻을 수 있습니다."
   ]
  },
  {
   "cell_type": "code",
   "execution_count": 126,
   "metadata": {},
   "outputs": [
    {
     "data": {
      "text/plain": [
       "tables.file.File"
      ]
     },
     "execution_count": 126,
     "metadata": {},
     "output_type": "execute_result"
    }
   ],
   "source": [
    "type(h5)"
   ]
  },
  {
   "cell_type": "code",
   "execution_count": 127,
   "metadata": {},
   "outputs": [
    {
     "data": {
      "text/plain": [
       "File(filename=c:\\Users\\jktak\\OneDrive\\문서\\P\\pythonVScode\\PythonForFinance\\Temp\\data\\pytab.h5, title='', mode='w', root_uep='/', filters=Filters(complevel=0, shuffle=False, bitshuffle=False, fletcher32=False, least_significant_digit=None))\n",
       "/ (RootGroup) ''\n",
       "/ints_floats (Table(2000000,)) 'Integers and Floats'\n",
       "  description := {\n",
       "  \"Date\": StringCol(itemsize=26, shape=(), dflt=b'', pos=0),\n",
       "  \"No1\": Int32Col(shape=(), dflt=0, pos=1),\n",
       "  \"No2\": Int32Col(shape=(), dflt=0, pos=2),\n",
       "  \"No3\": Float64Col(shape=(), dflt=0.0, pos=3),\n",
       "  \"No4\": Float64Col(shape=(), dflt=0.0, pos=4)}\n",
       "  byteorder := 'little'\n",
       "  chunkshape := (2621,)\n",
       "/ints_floats_from_array (Table(2000000,)) 'Integers and Floats'\n",
       "  description := {\n",
       "  \"Date\": StringCol(itemsize=26, shape=(), dflt=b'', pos=0),\n",
       "  \"No1\": Int32Col(shape=(), dflt=0, pos=1),\n",
       "  \"No2\": Int32Col(shape=(), dflt=0, pos=2),\n",
       "  \"No3\": Float64Col(shape=(), dflt=0.0, pos=3),\n",
       "  \"No4\": Float64Col(shape=(), dflt=0.0, pos=4)}\n",
       "  byteorder := 'little'\n",
       "  chunkshape := (2621,)"
      ]
     },
     "execution_count": 127,
     "metadata": {},
     "output_type": "execute_result"
    }
   ],
   "source": [
    "h5 # 두 개의 Table 객체를 가진 File 객체를 기술합니다."
   ]
  },
  {
   "cell_type": "code",
   "execution_count": 128,
   "metadata": {},
   "outputs": [],
   "source": [
    "h5.remove_node('/', 'ints_floats_from_array') # 동일한 데이터를 가진 두 번째 테이블 삭제"
   ]
  },
  {
   "attachments": {},
   "cell_type": "markdown",
   "metadata": {},
   "source": [
    "테이블 객체는 넘파이 구조화 배열과 대부분의 경우에 같은 방식으로 동작합니다."
   ]
  },
  {
   "cell_type": "code",
   "execution_count": 129,
   "metadata": {},
   "outputs": [
    {
     "data": {
      "text/plain": [
       "array([(b'2023-05-27 20:58:48.454663', 8576, 5991, -0.0528, 0.2468),\n",
       "       (b'2023-05-27 20:58:48.454663', 2990, 9310, -0.0261, 0.3932),\n",
       "       (b'2023-05-27 20:58:48.454663', 4400, 4823,  0.9133, 0.2579)],\n",
       "      dtype=[('Date', 'S26'), ('No1', '<i4'), ('No2', '<i4'), ('No3', '<f8'), ('No4', '<f8')])"
      ]
     },
     "execution_count": 129,
     "metadata": {},
     "output_type": "execute_result"
    }
   ],
   "source": [
    "tab[:3] # 인덱싱으로 행 선택"
   ]
  },
  {
   "cell_type": "code",
   "execution_count": 130,
   "metadata": {},
   "outputs": [
    {
     "data": {
      "text/plain": [
       "array([ 0.2468,  0.3932,  0.2579, -0.5582])"
      ]
     },
     "execution_count": 130,
     "metadata": {},
     "output_type": "execute_result"
    }
   ],
   "source": [
    "tab[:4]['No4'] # 인덱싱으로 열 값 선택"
   ]
  },
  {
   "cell_type": "code",
   "execution_count": 131,
   "metadata": {},
   "outputs": [
    {
     "name": "stdout",
     "output_type": "stream",
     "text": [
      "Wall time: 62 ms\n"
     ]
    },
    {
     "data": {
      "text/plain": [
       "88.8542999999997"
      ]
     },
     "execution_count": 131,
     "metadata": {},
     "output_type": "execute_result"
    }
   ],
   "source": [
    "%time np.sum(tab[:]['No3']) # 넘파이 유니버설 함수 적용"
   ]
  },
  {
   "cell_type": "code",
   "execution_count": 132,
   "metadata": {},
   "outputs": [
    {
     "name": "stdout",
     "output_type": "stream",
     "text": [
      "Wall time: 88 ms\n"
     ]
    },
    {
     "data": {
      "text/plain": [
       "133349920.3689251"
      ]
     },
     "execution_count": 132,
     "metadata": {},
     "output_type": "execute_result"
    }
   ],
   "source": [
    "%time np.sum(np.sqrt(tab[:]['No1']))"
   ]
  },
  {
   "cell_type": "code",
   "execution_count": 133,
   "metadata": {},
   "outputs": [
    {
     "name": "stdout",
     "output_type": "stream",
     "text": [
      "Wall time: 127 ms\n"
     ]
    },
    {
     "data": {
      "text/plain": [
       "(array([1.00000e+00, 0.00000e+00, 2.00000e+00, 2.00000e+01, 1.10000e+02,\n",
       "        3.80000e+02, 1.32900e+03, 4.13500e+03, 1.09250e+04, 2.58570e+04,\n",
       "        5.34720e+04, 9.70230e+04, 1.55324e+05, 2.16504e+05, 2.66456e+05,\n",
       "        2.87214e+05, 2.73180e+05, 2.26867e+05, 1.65167e+05, 1.06402e+05,\n",
       "        5.99730e+04, 2.96140e+04, 1.28280e+04, 4.93100e+03, 1.64700e+03,\n",
       "        4.64000e+02, 1.29000e+02, 4.00000e+01, 5.00000e+00, 1.00000e+00]),\n",
       " array([-5.6489 , -5.28648, -4.92406, -4.56164, -4.19922, -3.8368 ,\n",
       "        -3.47438, -3.11196, -2.74954, -2.38712, -2.0247 , -1.66228,\n",
       "        -1.29986, -0.93744, -0.57502, -0.2126 ,  0.14982,  0.51224,\n",
       "         0.87466,  1.23708,  1.5995 ,  1.96192,  2.32434,  2.68676,\n",
       "         3.04918,  3.4116 ,  3.77402,  4.13644,  4.49886,  4.86128,\n",
       "         5.2237 ]),\n",
       " <BarContainer object of 30 artists>)"
      ]
     },
     "execution_count": 133,
     "metadata": {},
     "output_type": "execute_result"
    },
    {
     "data": {
      "image/png": "[encoded data removed]",
      "text/plain": [
       "<Figure size 1000x600 with 1 Axes>"
      ]
     },
     "metadata": {},
     "output_type": "display_data"
    }
   ],
   "source": [
    "%%time\n",
    "plt.figure(figsize=(10, 6)) # Table 객체의 열을 플롯\n",
    "plt.hist(tab[:]['No3'], bins=30)"
   ]
  },
  {
   "attachments": {},
   "cell_type": "markdown",
   "metadata": {},
   "source": [
    "`PyTables`도 SQL과 유사한 문장으로 데이터를 쿼리할 수 있는 도구를 다음 예제와 같이 제공합니다. 결과는 아래와 같으니, 판다스 쿼리를 사용한 그 그림과 비교해봅시다."
   ]
  },
  {
   "cell_type": "code",
   "execution_count": 134,
   "metadata": {},
   "outputs": [],
   "source": [
    "query = '((No3 < -0.5) | (No3 > 0.5)) & ((No4 < -1) | (No4 > 1))' # 문자열 객체로 네 개의 조건이 결합된 쿼리 생성"
   ]
  },
  {
   "cell_type": "code",
   "execution_count": 135,
   "metadata": {},
   "outputs": [],
   "source": [
    "iterator = tab.where(query) # 쿼리문에 기반한 반복자 객체"
   ]
  },
  {
   "cell_type": "code",
   "execution_count": 136,
   "metadata": {},
   "outputs": [
    {
     "name": "stdout",
     "output_type": "stream",
     "text": [
      "Wall time: 178 ms\n"
     ]
    }
   ],
   "source": [
    "%time res = [(row['No3'], row['No4']) for row in iterator] # 쿼리 결과를 복합 리스트문으로 변환"
   ]
  },
  {
   "cell_type": "code",
   "execution_count": 137,
   "metadata": {},
   "outputs": [
    {
     "data": {
      "text/plain": [
       "array([[0.7694, 1.4866],\n",
       "       [0.9201, 1.3346],\n",
       "       [1.4701, 1.8776]])"
      ]
     },
     "execution_count": 137,
     "metadata": {},
     "output_type": "execute_result"
    }
   ],
   "source": [
    "res = np.array(res)\n",
    "res[:3]"
   ]
  },
  {
   "cell_type": "code",
   "execution_count": 138,
   "metadata": {},
   "outputs": [
    {
     "data": {
      "text/plain": [
       "[<matplotlib.lines.Line2D at 0x268513f1be0>]"
      ]
     },
     "execution_count": 138,
     "metadata": {},
     "output_type": "execute_result"
    },
    {
     "data": {
      "image/png": "[encoded data removed]",
      "text/plain": [
       "<Figure size 1000x600 with 1 Axes>"
      ]
     },
     "metadata": {},
     "output_type": "display_data"
    }
   ],
   "source": [
    "plt.figure(figsize=(10, 6))\n",
    "plt.plot(res.T[0], res.T[1], 'ro')"
   ]
  },
  {
   "attachments": {},
   "cell_type": "markdown",
   "metadata": {},
   "source": [
    "> **TIP** 빠른 쿼리  \n",
    "판다스와 `PyTables`는 모두 SQL과 같은 복잡한 쿼리와 선택을 처리할 수 있으며 이러한 연산을 위한 속도 최적화가 되어 있습니다. 관계형 데이터베이스에 비하면 한계가 있기는 하지만, 대부분의 수치 및 금융 애플리케이션에서는 큰 문제가 되지 않습니다.  \n",
    "\n",
    "다음 예제에서 보이듯이 `Pytables Table` 객체에 저장된 데이터를 다루는 것은 문법이나 성능면에서 넘파이 또는 판다스 객체 인메모리를 사용해 메모리 상의 데이터를 다루는 듯한 느낌을 줍니다."
   ]
  },
  {
   "cell_type": "code",
   "execution_count": 139,
   "metadata": {},
   "outputs": [
    {
     "name": "stdout",
     "output_type": "stream",
     "text": [
      "Max              5.224\n",
      "Avg              0.000\n",
      "Min             -5.649\n",
      "Std              1.000\n",
      "Wall time: 91 ms\n"
     ]
    }
   ],
   "source": [
    "%%time\n",
    "values = tab[:]['No3']\n",
    "print(f'Max {values.max():18.3f}')\n",
    "print(f'Avg {values.mean():18.3f}')\n",
    "print(f'Min {values.min():18.3f}')\n",
    "print(f'Std {values.std():18.3f}')"
   ]
  },
  {
   "cell_type": "code",
   "execution_count": 140,
   "metadata": {},
   "outputs": [
    {
     "name": "stdout",
     "output_type": "stream",
     "text": [
      "Wall time: 554 ms\n"
     ]
    }
   ],
   "source": [
    "%%time\n",
    "res = [(row['No1'], row['No2']) for row in\n",
    "       tab.where('((No1 > 9800) | (No1 > 200)) \\\n",
    "           & ((No2 > 4500) | (No2 < 5500))')]"
   ]
  },
  {
   "cell_type": "code",
   "execution_count": 141,
   "metadata": {},
   "outputs": [
    {
     "name": "stdout",
     "output_type": "stream",
     "text": [
      "(8576, 5991)\n",
      "(2990, 9310)\n",
      "(4400, 4823)\n",
      "(5673, 2945)\n"
     ]
    }
   ],
   "source": [
    "for r in res[:4]:\n",
    "    print(r)"
   ]
  },
  {
   "cell_type": "code",
   "execution_count": 142,
   "metadata": {},
   "outputs": [
    {
     "name": "stdout",
     "output_type": "stream",
     "text": [
      "Wall time: 146 ms\n"
     ]
    }
   ],
   "source": [
    "%%time\n",
    "res = [(row['No1'], row['No2']) for row in\n",
    "             tab.where('(No1 == 1234) & (No2 > 9776)')]"
   ]
  },
  {
   "cell_type": "code",
   "execution_count": 143,
   "metadata": {},
   "outputs": [
    {
     "name": "stdout",
     "output_type": "stream",
     "text": [
      "(1234, 9841)\n",
      "(1234, 9821)\n",
      "(1234, 9867)\n",
      "(1234, 9987)\n",
      "(1234, 9849)\n",
      "(1234, 9800)\n"
     ]
    }
   ],
   "source": [
    "for r in res:\n",
    "    print(r)"
   ]
  },
  {
   "attachments": {},
   "cell_type": "markdown",
   "metadata": {},
   "source": [
    "### 9.3.2 압축 테이블 작업\n",
    "`PyTables`의 장점을 압축을 사용하는 방식이라는 점입니다. 이를 통해 디스크 공간 절약뿐 아니라 입출력 연산 성능도 개선할 수 있습니다. 어떻게 이것이 가능할까요?  \n",
    "CPU는 입출력 시스템이 병목 현상으로 지체되는 사이에 자료를 빠르게 압축하거나 해제할 수 있습니다. 따라서 압축으로 줄어든 데이터의 양만큼 발생한 입출력 속도 개선이 압축 연산으로 인한 속도 저하를 능가할 수 있습니다. 다음 예제는 SSD에서 작동하기 때문에 큰 속도 개선이 보이지 않지만, 중요한 점은 압축 사용으로 인한 속도 저하가 거의 없다는 점입니다."
   ]
  },
  {
   "cell_type": "code",
   "execution_count": 144,
   "metadata": {},
   "outputs": [],
   "source": [
    "filename = path + 'pytabc.h5'"
   ]
  },
  {
   "cell_type": "code",
   "execution_count": 145,
   "metadata": {},
   "outputs": [],
   "source": [
    "h5c = tb.open_file(filename, 'w')"
   ]
  },
  {
   "cell_type": "code",
   "execution_count": 146,
   "metadata": {},
   "outputs": [],
   "source": [
    "filters = tb.Filters(complevel=5, # 압축 수준. 0(압축 없음)부터 9(최고 압축)까지의 값을 가집니다.\n",
    "                     complib='blosc') # 성능 최적화된 Blosc 압축 엔진 사용"
   ]
  },
  {
   "cell_type": "code",
   "execution_count": 147,
   "metadata": {},
   "outputs": [],
   "source": [
    "tabc = h5c.create_table('/', 'ints_floats', sarray,\n",
    "                        title='Integers and Floats',\n",
    "                        expectedrows=rows, filters=filters)"
   ]
  },
  {
   "cell_type": "code",
   "execution_count": 148,
   "metadata": {},
   "outputs": [],
   "source": [
    "query = '((No3 < -0.5) | (No3 > 0.5)) & ((No4 < -1) | (No4 > 1))'"
   ]
  },
  {
   "cell_type": "code",
   "execution_count": 149,
   "metadata": {},
   "outputs": [],
   "source": [
    "iteratorc = tabc.where(query) # 쿼리에 기반한 반복자 객체 생성"
   ]
  },
  {
   "cell_type": "code",
   "execution_count": 150,
   "metadata": {},
   "outputs": [
    {
     "name": "stdout",
     "output_type": "stream",
     "text": [
      "Wall time: 68 ms\n"
     ]
    }
   ],
   "source": [
    "%time res = [(row['No3'], row['No4']) for row in iteratorc] # 쿼리 결과 행을 복합 리스트문으로 변환"
   ]
  },
  {
   "cell_type": "code",
   "execution_count": 151,
   "metadata": {},
   "outputs": [
    {
     "data": {
      "text/plain": [
       "array([], dtype=float64)"
      ]
     },
     "execution_count": 151,
     "metadata": {},
     "output_type": "execute_result"
    }
   ],
   "source": [
    "res = np.array(res)\n",
    "res[:3]"
   ]
  },
  {
   "attachments": {},
   "cell_type": "markdown",
   "metadata": {},
   "source": [
    "테이블을 생성하고 분석하는 데 걸리는 시간이 압축을 사용하지 않았을 때와 비교하면 약간 느려졌습니다. 그럼 읽기 속도는 어떨까요?"
   ]
  },
  {
   "cell_type": "code",
   "execution_count": 152,
   "metadata": {},
   "outputs": [
    {
     "name": "stdout",
     "output_type": "stream",
     "text": [
      "Wall time: 45 ms\n"
     ]
    }
   ],
   "source": [
    "%time arr_non = tab.read() # 압축되지 않은 Table 객체인 tab에서 읽습니다."
   ]
  },
  {
   "cell_type": "code",
   "execution_count": 153,
   "metadata": {},
   "outputs": [
    {
     "data": {
      "text/plain": [
       "100122200"
      ]
     },
     "execution_count": 153,
     "metadata": {},
     "output_type": "execute_result"
    }
   ],
   "source": [
    "tab.size_on_disk"
   ]
  },
  {
   "cell_type": "code",
   "execution_count": 154,
   "metadata": {},
   "outputs": [
    {
     "data": {
      "text/plain": [
       "100000000"
      ]
     },
     "execution_count": 154,
     "metadata": {},
     "output_type": "execute_result"
    }
   ],
   "source": [
    "arr_non.nbytes"
   ]
  },
  {
   "cell_type": "code",
   "execution_count": 155,
   "metadata": {},
   "outputs": [
    {
     "name": "stdout",
     "output_type": "stream",
     "text": [
      "Wall time: 58 ms\n"
     ]
    }
   ],
   "source": [
    "%time arr_com = tabc.read() # 압축된 Table 객체인 tabc에서 읽습니다."
   ]
  },
  {
   "cell_type": "code",
   "execution_count": 156,
   "metadata": {},
   "outputs": [
    {
     "data": {
      "text/plain": [
       "419436"
      ]
     },
     "execution_count": 156,
     "metadata": {},
     "output_type": "execute_result"
    }
   ],
   "source": [
    "tabc.size_on_disk"
   ]
  },
  {
   "cell_type": "code",
   "execution_count": 157,
   "metadata": {},
   "outputs": [
    {
     "data": {
      "text/plain": [
       "100000000"
      ]
     },
     "execution_count": 157,
     "metadata": {},
     "output_type": "execute_result"
    }
   ],
   "source": [
    "arr_com.nbytes"
   ]
  },
  {
   "cell_type": "code",
   "execution_count": 158,
   "metadata": {},
   "outputs": [],
   "source": [
    "h5c.close()"
   ]
  },
  {
   "attachments": {},
   "cell_type": "markdown",
   "metadata": {},
   "source": [
    "이 예제는 `Table` 객체를 압축해도 큰 속도 차이가 없다는 것을 보여줍니다. 하지만 파일의 크기는 데이터의 특성에 따라 크게 감소합니다. 이렇게 하면 여러 가지 장점이 있습니다.  \n",
    "* 저장 비용 감소\n",
    "* 백업 비용 감소  \n",
    "* 네트워크 트래픽 감소\n",
    "* 네트워크 속도 개선(원격 서버의 데이터 저장 및 검색 속도 개선)\n",
    "* I/O 병목을 줄여서 CPU 사용량 증가"
   ]
  },
  {
   "attachments": {},
   "cell_type": "markdown",
   "metadata": {},
   "source": [
    "### 9.3.3 배열 작업\n",
    "파이썬 기본 입출력에 관한 절에서 이미 넘파이가 빠른 `ndarray` 객체 읽기 및 쓰기 기능을 가졌음을 살펴보았습니다. `ndarray` 객체를 읽고 쓸 때 `PyTables`도 아주 빠르고 효율적입니다. 또한 `PyTables`은 계층적인 데이터베이스 구조를 가졌기 때문에 그에 따른 이점도 있습니다."
   ]
  },
  {
   "cell_type": "code",
   "execution_count": 159,
   "metadata": {},
   "outputs": [
    {
     "name": "stdout",
     "output_type": "stream",
     "text": [
      "Wall time: 28 ms\n"
     ]
    }
   ],
   "source": [
    "%%time\n",
    "arr_int = h5.create_array('/', 'integers', ran_int) # ran_int ndarray 객체 저장\n",
    "arr_flo = h5.create_array('/', 'floats', ran_flo) # ran_flo ndarray 객체 저장"
   ]
  },
  {
   "cell_type": "code",
   "execution_count": 160,
   "metadata": {},
   "outputs": [
    {
     "data": {
      "text/plain": [
       "File(filename=c:\\Users\\jktak\\OneDrive\\문서\\P\\pythonVScode\\PythonForFinance\\Temp\\data\\pytab.h5, title='', mode='w', root_uep='/', filters=Filters(complevel=0, shuffle=False, bitshuffle=False, fletcher32=False, least_significant_digit=None))\n",
       "/ (RootGroup) ''\n",
       "/floats (Array(2000000, 2)) ''\n",
       "  atom := Float64Atom(shape=(), dflt=0.0)\n",
       "  maindim := 0\n",
       "  flavor := 'numpy'\n",
       "  byteorder := 'little'\n",
       "  chunkshape := None\n",
       "/integers (Array(2000000, 2)) ''\n",
       "  atom := Int32Atom(shape=(), dflt=0)\n",
       "  maindim := 0\n",
       "  flavor := 'numpy'\n",
       "  byteorder := 'little'\n",
       "  chunkshape := None\n",
       "/ints_floats (Table(2000000,)) 'Integers and Floats'\n",
       "  description := {\n",
       "  \"Date\": StringCol(itemsize=26, shape=(), dflt=b'', pos=0),\n",
       "  \"No1\": Int32Col(shape=(), dflt=0, pos=1),\n",
       "  \"No2\": Int32Col(shape=(), dflt=0, pos=2),\n",
       "  \"No3\": Float64Col(shape=(), dflt=0.0, pos=3),\n",
       "  \"No4\": Float64Col(shape=(), dflt=0.0, pos=4)}\n",
       "  byteorder := 'little'\n",
       "  chunkshape := (2621,)"
      ]
     },
     "execution_count": 160,
     "metadata": {},
     "output_type": "execute_result"
    }
   ],
   "source": [
    "h5 # 변동사항이 객체 서술에 반영"
   ]
  },
  {
   "cell_type": "code",
   "execution_count": 161,
   "metadata": {},
   "outputs": [],
   "source": [
    "h5.close()"
   ]
  },
  {
   "attachments": {},
   "cell_type": "markdown",
   "metadata": {},
   "source": [
    "이런 객체를 HDF5 데이터베이스에 직접 쓰면 객체에 대한 루프를 돌려 `Table` 객체에 한 행씩 데이터를 쓰거나 구조화된 `ndarray` 객체를 사용하는 것보다 빠릅니다.  \n",
    "> **TIP** HDF5 기반 데이터 저장  \n",
    "The HDF5 계층구조 데이터베이스 파일 형식은 구조화된 수치 및 금융 데이터에 있어서 관계형 데이터베이스의 훌륭한 대체제입니다. 두 데이터 모두 `PyTables`로 직접 다룰 수 있고 판다스 기능과 결합할 수 있으며 하드웨어가 허락하는 최고의 입출력 성능을 기대할 수 있습니다."
   ]
  },
  {
   "attachments": {},
   "cell_type": "markdown",
   "metadata": {},
   "source": [
    "### 9.3.4 out-of-memory 연산\n",
    "`PyTables`는 메모리보다 큰 배열의 연산을 구현 가능하게 해주는 out-of-memory 연산을 지원합니다. 이를 위해 `EArray` 클래스에 기반한 다음과 같은 코드를 생각해보겠습니다. `EArray` 클래스 객체는 (행 방향으로) 증가할 수 있지만 열의 수는 고정되어 있습니다."
   ]
  },
  {
   "cell_type": "code",
   "execution_count": 162,
   "metadata": {},
   "outputs": [],
   "source": [
    "filename = path + 'earray.h5'"
   ]
  },
  {
   "cell_type": "code",
   "execution_count": 163,
   "metadata": {},
   "outputs": [],
   "source": [
    "h5 = tb.open_file(filename, 'w')"
   ]
  },
  {
   "cell_type": "code",
   "execution_count": 164,
   "metadata": {},
   "outputs": [],
   "source": [
    "n = 500 # 열의 수 고정"
   ]
  },
  {
   "cell_type": "code",
   "execution_count": 165,
   "metadata": {},
   "outputs": [],
   "source": [
    "ear = h5.create_earray('/', 'ear', # EArray 객체의 경로와 이름 지정\n",
    "                       atom=tb.Float64Atom(), # 하나의 값에 대한 dtype 객체\n",
    "                       shape=(0, n)) # 객체의 크기(행 없음, 열 n개)"
   ]
  },
  {
   "cell_type": "code",
   "execution_count": 166,
   "metadata": {},
   "outputs": [
    {
     "data": {
      "text/plain": [
       "tables.earray.EArray"
      ]
     },
     "execution_count": 166,
     "metadata": {},
     "output_type": "execute_result"
    }
   ],
   "source": [
    "type(ear)"
   ]
  },
  {
   "cell_type": "code",
   "execution_count": 167,
   "metadata": {},
   "outputs": [
    {
     "data": {
      "text/plain": [
       "array([[-1.25983231,  1.11420699,  0.1667485 ,  0.7345676 ],\n",
       "       [-0.13785424,  1.22232417,  1.36303097,  0.13521042],\n",
       "       [ 1.45487119, -1.47784078,  0.15027672,  0.86755989],\n",
       "       [-0.63519366,  0.1516327 , -0.64939447, -0.45010975]])"
      ]
     },
     "execution_count": 167,
     "metadata": {},
     "output_type": "execute_result"
    }
   ],
   "source": [
    "rand = np.random.standard_normal((n, n)) # 난수 ndarray 객체\n",
    "rand[:4, :4]"
   ]
  },
  {
   "cell_type": "code",
   "execution_count": 168,
   "metadata": {},
   "outputs": [
    {
     "name": "stdout",
     "output_type": "stream",
     "text": [
      "Wall time: 2.16 s\n"
     ]
    }
   ],
   "source": [
    "%%time\n",
    "for _ in range(750):\n",
    "    ear.append(rand) # 반복하여 추가\n",
    "ear.flush()"
   ]
  },
  {
   "cell_type": "code",
   "execution_count": 169,
   "metadata": {},
   "outputs": [
    {
     "data": {
      "text/plain": [
       "/ear (EArray(375000, 500)) ''\n",
       "  atom := Float64Atom(shape=(), dflt=0.0)\n",
       "  maindim := 0\n",
       "  flavor := 'numpy'\n",
       "  byteorder := 'little'\n",
       "  chunkshape := (16, 500)"
      ]
     },
     "execution_count": 169,
     "metadata": {},
     "output_type": "execute_result"
    }
   ],
   "source": [
    "ear"
   ]
  },
  {
   "cell_type": "code",
   "execution_count": 170,
   "metadata": {},
   "outputs": [
    {
     "data": {
      "text/plain": [
       "1500032000"
      ]
     },
     "execution_count": 170,
     "metadata": {},
     "output_type": "execute_result"
    }
   ],
   "source": [
    "ear.size_on_disk"
   ]
  },
  {
   "attachments": {},
   "cell_type": "markdown",
   "metadata": {},
   "source": [
    "데이터 모음(aggregation)을 하지 않는 out-of-memory 연산의 경우에는 같은 크기를 가진 또다른 `EArray` 객체가 필요합니다. `PyTables`는 수치 연산을 효율적으로 할 수 있는 특별한 모듈을 가지고 있는데, 바로 `Expr` 모듈입니다. 이 모듈은 `numexpr`이라는 수치 연산 라이브러리를 기반으로 합니다. 다음 코드는 `Expr`을 이용하여 아래의 수치 연산을 수행합니다.  \n",
    "$$y=3\\sin\\left(x\\right)+\\sqrt{\\left|x\\right|}$$  \n",
    "결과는 출력용 `EArray` 객체에 저장되며, 연산은 청크(chunk) 단위로 실행됩니다."
   ]
  },
  {
   "cell_type": "code",
   "execution_count": 171,
   "metadata": {},
   "outputs": [],
   "source": [
    "out = h5.create_earray('/', 'out',\n",
    "                       atom=tb.Float64Atom(),\n",
    "                       shape=(0, n))"
   ]
  },
  {
   "cell_type": "code",
   "execution_count": 172,
   "metadata": {},
   "outputs": [
    {
     "data": {
      "text/plain": [
       "0"
      ]
     },
     "execution_count": 172,
     "metadata": {},
     "output_type": "execute_result"
    }
   ],
   "source": [
    "out.size_on_disk"
   ]
  },
  {
   "cell_type": "code",
   "execution_count": 173,
   "metadata": {},
   "outputs": [],
   "source": [
    "expr = tb.Expr('3 * sin(ear) + sqrt(abs(ear))') # 문자열 객체 기반의 연산식을 Expr 객체로 변환"
   ]
  },
  {
   "cell_type": "code",
   "execution_count": 174,
   "metadata": {},
   "outputs": [],
   "source": [
    "expr.set_output(out, append_mode=True) # 출력을 out이라는 EArray 객체로 지정"
   ]
  },
  {
   "cell_type": "code",
   "execution_count": 175,
   "metadata": {},
   "outputs": [
    {
     "name": "stdout",
     "output_type": "stream",
     "text": [
      "Wall time: 3.44 s\n"
     ]
    },
    {
     "data": {
      "text/plain": [
       "/out (EArray(375000, 500)) ''\n",
       "  atom := Float64Atom(shape=(), dflt=0.0)\n",
       "  maindim := 0\n",
       "  flavor := 'numpy'\n",
       "  byteorder := 'little'\n",
       "  chunkshape := (16, 500)"
      ]
     },
     "execution_count": 175,
     "metadata": {},
     "output_type": "execute_result"
    }
   ],
   "source": [
    "%time expr.eval() # 연산 시작"
   ]
  },
  {
   "cell_type": "code",
   "execution_count": 176,
   "metadata": {},
   "outputs": [
    {
     "data": {
      "text/plain": [
       "1500032000"
      ]
     },
     "execution_count": 176,
     "metadata": {},
     "output_type": "execute_result"
    }
   ],
   "source": [
    "out.size_on_disk"
   ]
  },
  {
   "cell_type": "code",
   "execution_count": 177,
   "metadata": {},
   "outputs": [
    {
     "data": {
      "text/plain": [
       "array([-1.73369462,  3.74824436,  0.90627898,  2.86786818,  1.75424957,\n",
       "       -0.91108973, -1.68313885,  1.29073295, -1.68665599, -1.71345309])"
      ]
     },
     "execution_count": 177,
     "metadata": {},
     "output_type": "execute_result"
    }
   ],
   "source": [
    "out[0, :10]"
   ]
  },
  {
   "cell_type": "code",
   "execution_count": 178,
   "metadata": {},
   "outputs": [
    {
     "name": "stdout",
     "output_type": "stream",
     "text": [
      "Wall time: 877 ms\n"
     ]
    }
   ],
   "source": [
    "%time out_ = out.read() # 전체 EArray를 메모리로 올림"
   ]
  },
  {
   "cell_type": "code",
   "execution_count": 179,
   "metadata": {},
   "outputs": [
    {
     "data": {
      "text/plain": [
       "array([-1.73369462,  3.74824436,  0.90627898,  2.86786818,  1.75424957,\n",
       "       -0.91108973, -1.68313885,  1.29073295, -1.68665599, -1.71345309])"
      ]
     },
     "execution_count": 179,
     "metadata": {},
     "output_type": "execute_result"
    }
   ],
   "source": [
    "out_[0, :10]"
   ]
  },
  {
   "attachments": {},
   "cell_type": "markdown",
   "metadata": {},
   "source": [
    "전체 연산이 메모리 바깥에서 이루어진다는 점을 생각하면 표준 하드웨어에서 실행된 것치고 꽤 빠릅니다. 이 결과를 메모리 위에서 `numexpr` 모듈을 이용한 결과와 비교해보겠습니다. 빠르긴 하지만 그렇게 차이가 나지는 않습니다."
   ]
  },
  {
   "cell_type": "code",
   "execution_count": 180,
   "metadata": {},
   "outputs": [],
   "source": [
    "import numexpr as ne"
   ]
  },
  {
   "cell_type": "code",
   "execution_count": 181,
   "metadata": {},
   "outputs": [],
   "source": [
    "expr = '3 * sin(out_) + sqrt(abs(out_))' # 수치 연산식 문자열"
   ]
  },
  {
   "cell_type": "code",
   "execution_count": 182,
   "metadata": {},
   "outputs": [
    {
     "data": {
      "text/plain": [
       "8"
      ]
     },
     "execution_count": 182,
     "metadata": {},
     "output_type": "execute_result"
    }
   ],
   "source": [
    "ne.set_num_threads(1) # 사용할 스레드를 1로 지정"
   ]
  },
  {
   "cell_type": "code",
   "execution_count": 183,
   "metadata": {},
   "outputs": [
    {
     "name": "stdout",
     "output_type": "stream",
     "text": [
      "Wall time: 3.86 s\n"
     ]
    },
    {
     "data": {
      "text/plain": [
       "array([-1.64358578,  0.22567882,  3.31363043,  2.50443549,  4.27413965,\n",
       "       -1.41600606, -1.68373023,  4.01921805, -1.68117412, -1.66053597])"
      ]
     },
     "execution_count": 183,
     "metadata": {},
     "output_type": "execute_result"
    }
   ],
   "source": [
    "%time ne.evaluate(expr)[0, :10] # 1개의 스레드에 수치 연산 실행"
   ]
  },
  {
   "cell_type": "code",
   "execution_count": 184,
   "metadata": {},
   "outputs": [
    {
     "data": {
      "text/plain": [
       "1"
      ]
     },
     "execution_count": 184,
     "metadata": {},
     "output_type": "execute_result"
    }
   ],
   "source": [
    "ne.set_num_threads(8) # 스레드를 8로 지정"
   ]
  },
  {
   "cell_type": "code",
   "execution_count": 185,
   "metadata": {},
   "outputs": [
    {
     "name": "stdout",
     "output_type": "stream",
     "text": [
      "Wall time: 840 ms\n"
     ]
    },
    {
     "data": {
      "text/plain": [
       "array([-1.64358578,  0.22567882,  3.31363043,  2.50443549,  4.27413965,\n",
       "       -1.41600606, -1.68373023,  4.01921805, -1.68117412, -1.66053597])"
      ]
     },
     "execution_count": 185,
     "metadata": {},
     "output_type": "execute_result"
    }
   ],
   "source": [
    "%time ne.evaluate(expr)[0, :10] # 8개의 스레드에 수치 연산 실행"
   ]
  },
  {
   "cell_type": "code",
   "execution_count": 186,
   "metadata": {},
   "outputs": [],
   "source": [
    "h5.close()"
   ]
  },
  {
   "attachments": {},
   "cell_type": "markdown",
   "metadata": {},
   "source": [
    "## 9.4 TsTables를 이용한 입출력\n",
    "TsTables 패키지는 PyTables를 사용하여 시계열 데이터의 고성능 저장을 수행합니다. 가장 많이 사용되는 경우는 '한 번 저장하고 여러 번 읽는 것'입니다. 이는 시장에서 만들어진 실시간 데이터를 디스크에 저장한 후 나중에 사용하는 금융 분석에서의 전형적인 경우입니다. 이러한 방법으로 여러 가지 금융 시계열을 반복적으로 사용하여 다양한 매매 전략의 백테스팅을 하는 프로그램에 적용할 수 있다. 이때 가장 중요한 것은 데이터를 빨리 읽을 수 있는 능력입니다. \n",
    "### 9.4.1 예제 데이터\n",
    "지금까지와 마찬가지로 첫 번째로 해야 할 일은 `TsTables`의 장점을 보일 수 있을 정도로 큰 샘플 데이터를 생성하는 것입니다. 다음 코드는 기하 브라운 운동 시뮬레이션(12장 참조)을 기반으로 3개의 큰 금융 시계열 데이터를 생성합니다."
   ]
  },
  {
   "cell_type": "code",
   "execution_count": 187,
   "metadata": {},
   "outputs": [],
   "source": [
    "no = 5000000 # 시간 개수\n",
    "co = 3 # 시계열 개수\n",
    "interval = 1. / (12 * 30 * 24 * 60) # 연 단위 시간 간격\n",
    "vol = 0.2 # 변동성"
   ]
  },
  {
   "cell_type": "code",
   "execution_count": 188,
   "metadata": {},
   "outputs": [
    {
     "name": "stdout",
     "output_type": "stream",
     "text": [
      "Wall time: 787 ms\n"
     ]
    }
   ],
   "source": [
    "%%time\n",
    "rn = np.random.standard_normal((no, co)) # 표준정규분포 난수\n",
    "rn[0] = 0.0 # 최소 난수를 0으로 고정\n",
    "paths = 100 * np.exp(np.cumsum(-0.5 * vol ** 2 * interval +\n",
    "                               vol * np.sqrt(interval) * rn, axis=0)) # 오일러 이산화(Euler discritization) 방식의 시뮬레이션\n",
    "paths[0] = 100 # 최초 값을 100으로 고정"
   ]
  },
  {
   "attachments": {},
   "cell_type": "markdown",
   "metadata": {},
   "source": [
    "`TsTables` 패키지는 판다스 `DataFrame` 객체와 결합이 쉬우므로 데이터를 쉽게 변형할 수 있습니다."
   ]
  },
  {
   "cell_type": "code",
   "execution_count": 189,
   "metadata": {},
   "outputs": [],
   "source": [
    "dr = pd.date_range('2019-1-1', periods=no, freq='1s')"
   ]
  },
  {
   "cell_type": "code",
   "execution_count": 190,
   "metadata": {},
   "outputs": [
    {
     "data": {
      "text/plain": [
       "DatetimeIndex(['2019-02-27 20:53:14', '2019-02-27 20:53:15',\n",
       "               '2019-02-27 20:53:16', '2019-02-27 20:53:17',\n",
       "               '2019-02-27 20:53:18', '2019-02-27 20:53:19'],\n",
       "              dtype='datetime64[ns]', freq='S')"
      ]
     },
     "execution_count": 190,
     "metadata": {},
     "output_type": "execute_result"
    }
   ],
   "source": [
    "dr[-6:]"
   ]
  },
  {
   "cell_type": "code",
   "execution_count": 191,
   "metadata": {},
   "outputs": [],
   "source": [
    "df = pd.DataFrame(paths, index=dr, columns=['ts1', 'ts2', 'ts3'])"
   ]
  },
  {
   "cell_type": "code",
   "execution_count": 192,
   "metadata": {},
   "outputs": [
    {
     "name": "stdout",
     "output_type": "stream",
     "text": [
      "<class 'pandas.core.frame.DataFrame'>\n",
      "DatetimeIndex: 5000000 entries, 2019-01-01 00:00:00 to 2019-02-27 20:53:19\n",
      "Freq: S\n",
      "Data columns (total 3 columns):\n",
      " #   Column  Dtype  \n",
      "---  ------  -----  \n",
      " 0   ts1     float64\n",
      " 1   ts2     float64\n",
      " 2   ts3     float64\n",
      "dtypes: float64(3)\n",
      "memory usage: 152.6 MB\n"
     ]
    }
   ],
   "source": [
    "df.info()"
   ]
  },
  {
   "cell_type": "code",
   "execution_count": 193,
   "metadata": {},
   "outputs": [
    {
     "data": {
      "text/html": [
       "<div>\n",
       "<style scoped>\n",
       "    .dataframe tbody tr th:only-of-type {\n",
       "        vertical-align: middle;\n",
       "    }\n",
       "\n",
       "    .dataframe tbody tr th {\n",
       "        vertical-align: top;\n",
       "    }\n",
       "\n",
       "    .dataframe thead th {\n",
       "        text-align: right;\n",
       "    }\n",
       "</style>\n",
       "<table border=\"1\" class=\"dataframe\">\n",
       "  <thead>\n",
       "    <tr style=\"text-align: right;\">\n",
       "      <th></th>\n",
       "      <th>ts1</th>\n",
       "      <th>ts2</th>\n",
       "      <th>ts3</th>\n",
       "    </tr>\n",
       "  </thead>\n",
       "  <tbody>\n",
       "    <tr>\n",
       "      <th>2019-01-01 00:00:00</th>\n",
       "      <td>100.000000</td>\n",
       "      <td>100.000000</td>\n",
       "      <td>100.000000</td>\n",
       "    </tr>\n",
       "    <tr>\n",
       "      <th>2019-01-01 00:00:01</th>\n",
       "      <td>100.018443</td>\n",
       "      <td>99.966644</td>\n",
       "      <td>99.998255</td>\n",
       "    </tr>\n",
       "    <tr>\n",
       "      <th>2019-01-01 00:00:02</th>\n",
       "      <td>100.069023</td>\n",
       "      <td>100.004420</td>\n",
       "      <td>99.986646</td>\n",
       "    </tr>\n",
       "    <tr>\n",
       "      <th>2019-01-01 00:00:03</th>\n",
       "      <td>100.086757</td>\n",
       "      <td>100.000246</td>\n",
       "      <td>99.992042</td>\n",
       "    </tr>\n",
       "    <tr>\n",
       "      <th>2019-01-01 00:00:04</th>\n",
       "      <td>100.105448</td>\n",
       "      <td>100.036033</td>\n",
       "      <td>99.950618</td>\n",
       "    </tr>\n",
       "  </tbody>\n",
       "</table>\n",
       "</div>"
      ],
      "text/plain": [
       "                            ts1         ts2         ts3\n",
       "2019-01-01 00:00:00  100.000000  100.000000  100.000000\n",
       "2019-01-01 00:00:01  100.018443   99.966644   99.998255\n",
       "2019-01-01 00:00:02  100.069023  100.004420   99.986646\n",
       "2019-01-01 00:00:03  100.086757  100.000246   99.992042\n",
       "2019-01-01 00:00:04  100.105448  100.036033   99.950618"
      ]
     },
     "execution_count": 193,
     "metadata": {},
     "output_type": "execute_result"
    }
   ],
   "source": [
    "df.head()"
   ]
  },
  {
   "cell_type": "code",
   "execution_count": 194,
   "metadata": {},
   "outputs": [
    {
     "data": {
      "text/plain": [
       "<AxesSubplot:>"
      ]
     },
     "execution_count": 194,
     "metadata": {},
     "output_type": "execute_result"
    },
    {
     "data": {
      "image/png": "[encoded data removed]",
      "text/plain": [
       "<Figure size 1000x600 with 1 Axes>"
      ]
     },
     "metadata": {},
     "output_type": "display_data"
    }
   ],
   "source": [
    "df[::100000].plot(figsize=(10, 6))"
   ]
  },
  {
   "attachments": {},
   "cell_type": "markdown",
   "metadata": {},
   "source": [
    "### 9.4.2 데이터 저장\n",
    "`TsTables`는 임의의 위치에서 임의의 길이의 데이터를 빨리 읽을 수 있도록 금융 시계열 데이터를 특정한 청크(chunk) 기반의 구조로 만듭니다. 이렇게 하기 위해 `TsTables`는 `PyTables` 패키지에 `create_ts()` 함수를 추가합니다. 테이블 열에 사용되는 자료형을 제공하기 위해 다음 코드에서는 `PyTables`의 `tb.IsDescription` 클래스에 기반한 메서드를 사용했습니다."
   ]
  },
  {
   "cell_type": "code",
   "execution_count": 195,
   "metadata": {},
   "outputs": [],
   "source": [
    "import tstables as tstab"
   ]
  },
  {
   "cell_type": "code",
   "execution_count": 196,
   "metadata": {},
   "outputs": [],
   "source": [
    "class ts_desc(tb.IsDescription):\n",
    "    timestamp = tb.Int64Col(pos=0) # 타임스탬프 열\n",
    "    ts1 = tb.Float64Col(pos=1) # 수치 데이터 열\n",
    "    ts2 = tb.Float64Col(pos=2) # 수치 데이터 열\n",
    "    ts3 = tb.Float64Col(pos=3) # 수치 데이터 열"
   ]
  },
  {
   "cell_type": "code",
   "execution_count": 197,
   "metadata": {},
   "outputs": [],
   "source": [
    "h5 = tb.open_file(path + 'tstab.h5', 'w') # 쓰기 전용으로 HDF5 데이터베이스 파일 열기"
   ]
  },
  {
   "cell_type": "code",
   "execution_count": 198,
   "metadata": {},
   "outputs": [],
   "source": [
    "ts = h5.create_ts('/', 'ts', ts_desc) # ts_desc 객체 기반으로 TsTable 객체 생성"
   ]
  },
  {
   "cell_type": "code",
   "execution_count": 199,
   "metadata": {},
   "outputs": [
    {
     "name": "stdout",
     "output_type": "stream",
     "text": [
      "Wall time: 781 ms\n"
     ]
    }
   ],
   "source": [
    "%time ts.append(df) # TsTable 객체에 DataFrame 객체의 데이터 추가"
   ]
  },
  {
   "cell_type": "code",
   "execution_count": 200,
   "metadata": {},
   "outputs": [
    {
     "data": {
      "text/plain": [
       "tstables.tstable.TsTable"
      ]
     },
     "execution_count": 200,
     "metadata": {},
     "output_type": "execute_result"
    }
   ],
   "source": [
    "type(ts)"
   ]
  },
  {
   "attachments": {},
   "cell_type": "markdown",
   "metadata": {},
   "source": [
    "### 9.4.3 데이터 읽기\n",
    "`TsTables`로 데이터를 읽는 것은 하드웨어 성능에 의존하기는 하지만 아주 빠릅니다. 데이터를 메모리에 올리는 것도 마찬가지입니다. 편리하게도 `TsTables`는 `DataFrame` 객체를 반환합니다."
   ]
  },
  {
   "cell_type": "code",
   "execution_count": 201,
   "metadata": {},
   "outputs": [],
   "source": [
    "read_start_dt = dt.datetime(2019, 2, 1, 0, 0) # 구간 시작 시점\n",
    "read_end_dt = dt.datetime(2019, 2, 5, 23, 59) # 구간 종료 시점"
   ]
  },
  {
   "cell_type": "code",
   "execution_count": 202,
   "metadata": {},
   "outputs": [
    {
     "name": "stdout",
     "output_type": "stream",
     "text": [
      "Wall time: 73 ms\n"
     ]
    }
   ],
   "source": [
    "%time rows = ts.read_range(read_start_dt, read_end_dt) # ts.read_range() 함수는 해당 구간의 DataFrame 객체를 반환합니다."
   ]
  },
  {
   "cell_type": "code",
   "execution_count": 203,
   "metadata": {},
   "outputs": [
    {
     "data": {
      "text/html": [
       "<div>\n",
       "<style scoped>\n",
       "    .dataframe tbody tr th:only-of-type {\n",
       "        vertical-align: middle;\n",
       "    }\n",
       "\n",
       "    .dataframe tbody tr th {\n",
       "        vertical-align: top;\n",
       "    }\n",
       "\n",
       "    .dataframe thead th {\n",
       "        text-align: right;\n",
       "    }\n",
       "</style>\n",
       "<table border=\"1\" class=\"dataframe\">\n",
       "  <thead>\n",
       "    <tr style=\"text-align: right;\">\n",
       "      <th></th>\n",
       "      <th>ts1</th>\n",
       "      <th>ts2</th>\n",
       "      <th>ts3</th>\n",
       "    </tr>\n",
       "  </thead>\n",
       "  <tbody>\n",
       "    <tr>\n",
       "      <th>2019-02-01 00:00:00</th>\n",
       "      <td>52.063640</td>\n",
       "      <td>40.474580</td>\n",
       "      <td>217.324713</td>\n",
       "    </tr>\n",
       "    <tr>\n",
       "      <th>2019-02-01 00:00:01</th>\n",
       "      <td>52.087455</td>\n",
       "      <td>40.471911</td>\n",
       "      <td>217.250070</td>\n",
       "    </tr>\n",
       "    <tr>\n",
       "      <th>2019-02-01 00:00:02</th>\n",
       "      <td>52.084808</td>\n",
       "      <td>40.458013</td>\n",
       "      <td>217.228712</td>\n",
       "    </tr>\n",
       "    <tr>\n",
       "      <th>2019-02-01 00:00:03</th>\n",
       "      <td>52.073536</td>\n",
       "      <td>40.451408</td>\n",
       "      <td>217.302912</td>\n",
       "    </tr>\n",
       "    <tr>\n",
       "      <th>2019-02-01 00:00:04</th>\n",
       "      <td>52.056133</td>\n",
       "      <td>40.450951</td>\n",
       "      <td>217.207481</td>\n",
       "    </tr>\n",
       "  </tbody>\n",
       "</table>\n",
       "</div>"
      ],
      "text/plain": [
       "                           ts1        ts2         ts3\n",
       "2019-02-01 00:00:00  52.063640  40.474580  217.324713\n",
       "2019-02-01 00:00:01  52.087455  40.471911  217.250070\n",
       "2019-02-01 00:00:02  52.084808  40.458013  217.228712\n",
       "2019-02-01 00:00:03  52.073536  40.451408  217.302912\n",
       "2019-02-01 00:00:04  52.056133  40.450951  217.207481"
      ]
     },
     "execution_count": 203,
     "metadata": {},
     "output_type": "execute_result"
    }
   ],
   "source": [
    "rows.head()"
   ]
  },
  {
   "cell_type": "code",
   "execution_count": 204,
   "metadata": {},
   "outputs": [],
   "source": [
    "h5.close()"
   ]
  },
  {
   "cell_type": "code",
   "execution_count": 205,
   "metadata": {},
   "outputs": [
    {
     "data": {
      "text/plain": [
       "<AxesSubplot:>"
      ]
     },
     "execution_count": 205,
     "metadata": {},
     "output_type": "execute_result"
    },
    {
     "data": {
      "image/png": "[encoded data removed]",
      "text/plain": [
       "<Figure size 1000x600 with 1 Axes>"
      ]
     },
     "metadata": {},
     "output_type": "display_data"
    }
   ],
   "source": [
    "(rows[::500] / rows.iloc[0]).plot(figsize=(10, 6))"
   ]
  },
  {
   "attachments": {},
   "cell_type": "markdown",
   "metadata": {},
   "source": [
    "`TsTables` 방식의 데이터 읽기 성능을 더 잘 보이기 위해 다음과 같이 1초 봉으로 이루어진 3일 간의 데이터를 100개의 청크로 나누어 읽는 벤치마크를 실시합니다. 읽어들인 `DataFrame`은 345,600개의 행을 가지고 있으며 읽는 데 10분의 1초 이하가 걸립니다."
   ]
  },
  {
   "cell_type": "code",
   "execution_count": 206,
   "metadata": {},
   "outputs": [],
   "source": [
    "import random"
   ]
  },
  {
   "cell_type": "code",
   "execution_count": 207,
   "metadata": {},
   "outputs": [],
   "source": [
    "h5 = tb.open_file(path + 'tstab.h5', 'r')"
   ]
  },
  {
   "cell_type": "code",
   "execution_count": 209,
   "metadata": {},
   "outputs": [],
   "source": [
    "ts = h5.root.ts._f_get_timeseries() # TsTable 객체 연결"
   ]
  },
  {
   "cell_type": "code",
   "execution_count": 210,
   "metadata": {},
   "outputs": [
    {
     "name": "stdout",
     "output_type": "stream",
     "text": [
      "Wall time: 4.48 s\n"
     ]
    }
   ],
   "source": [
    "%%time\n",
    "for _ in range(100): # 반복하여 데이터 읽기\n",
    "    d = random.randint(1, 24) # 시작 날짜 값을 난수화\n",
    "    read_start_dt = dt.datetime(2019, 2, d, 0, 0, 0)\n",
    "    read_end_dt = dt.datetime(2019, 2, d + 3, 23, 59, 59)\n",
    "    rows = ts.read_range(read_start_dt, read_end_dt)"
   ]
  },
  {
   "cell_type": "code",
   "execution_count": 211,
   "metadata": {},
   "outputs": [
    {
     "name": "stdout",
     "output_type": "stream",
     "text": [
      "<class 'pandas.core.frame.DataFrame'>\n",
      "DatetimeIndex: 345600 entries, 2019-02-15 00:00:00 to 2019-02-18 23:59:59\n",
      "Data columns (total 3 columns):\n",
      " #   Column  Non-Null Count   Dtype  \n",
      "---  ------  --------------   -----  \n",
      " 0   ts1     345600 non-null  float64\n",
      " 1   ts2     345600 non-null  float64\n",
      " 2   ts3     345600 non-null  float64\n",
      "dtypes: float64(3)\n",
      "memory usage: 10.5 MB\n"
     ]
    }
   ],
   "source": [
    "rows.info()"
   ]
  },
  {
   "attachments": {},
   "cell_type": "markdown",
   "metadata": {},
   "source": [
    "## 9.5 마치며\n",
    "SQL 관계형 데이터베이스는 개별 객체/테이블 간에 많은 관계를 보이는 복잡한 자료구조를 다룰 때 이점을 가집니다. 반대로 어떤 상황에서는 순수한 넘파이 `ndarray` 기반이나 판다스 `DataFrame` 기반의 방식보다 성능이 떨어질 수도 있습니다.  \n",
    "금융이나 과학기술 분야의 많은 응용 영역에서는 배열 기반의 자료 모델링 방식이 성공적일 수 있습니다. 이 경우에는 넘파이 입출력 기능을 이용하거나 넘파이와 `PyTables` 기능을 조합하거나, 또는 HDF5 기반의 저장소를 이용하는 판다스 기능을 사용하는 것이 성능 향상에 훨씬 도움이 됩니다. 특히 `TsTables`는 금융 시계열 데이터를 한 번 쓰고 여러 번 읽는 경우에 효율적입니다.  \n",
    "최근의 경향은 클라우스 기반의 솔루션(클라우드는 저가의 하드웨어로 이루어진 수많은 계산 노드로 이루어집니다)을 사용하는 것인데, 금융 분석을 할 때는 분석 기능에 중점을 두고 하드웨어 구조를 구성해야 한다는 점을 주의 깊게 고려해야 합니다. 마이크로소프트의 최근 연구도 이 점을 강조하고 있죠.  \n",
    "\n",
    "> 우리는 이런 종류의 작업에서는 단일 '스케일업' 서버가 성능, 비용, 전력 및 서버 밀도 면에서 클러스터와 같거나 더 낫다고 주장한다.  \n",
    "-Appuswamy et al.(2013)  \n",
    "\n",
    "회사나 연구소, 자료 분석에 관계된 모든 사람은 특정한 작업을 어떻게 수행해야 하는지를 먼저 분석하고 다음과 같은 관점에서 하드웨어와 소프트웨어 구조를 결정해야 합니다.  \n",
    "* 스케일 아웃: 표준 CPU와 상대적으로 낮은 메모리가 장착된 다수의 저가 노드를 가진 클러스터를 사용하는 경우\n",
    "* 스케일 업: 다수의 코어를 가진 CPU, GPU, TPU 그리고 대량의 메모리가 장착된 소소의 강력한 서버를 사용하는 경우\n",
    "\n",
    "하드웨어를 스케일 업하고 적절하게 구현하면 성능을 크게 향상시킬 수 있습니다. 다음 장에서 이에 대해 다뤄보죠.\n",
    "\n",
    "## 9.6 참고 문헌\n",
    "이 장의 서두와 결론에서 인용된 논문은 금융 분석에 필요한 하드웨어 구조에 대해 생각할 수 있는 좋은 출발점이 될 겁니다.  \n",
    "\n",
    "* Appuswamy, Raja, et al. (2013). \"Nobody Ever Got Fired for Buying a Cluster\", Microsoft Technical Report, http://research.microsoft.com/apps/pubs/default.aspx?id=179615.  \n",
    "\n",
    "다음 웹사이트는 이 장에서 다룬 주제에 대한 다양하고 중요한 정보를 제공합니다.\n",
    "* http://docs.python.org/3/library/pickle.html\n",
    "* http://docs.scipy.org/doc/numpy/reference/routines.io.html\n",
    "* http://pandas.pydata.org/pandas-docs/stable/io.html\n",
    "* http://www.pytables.org\n",
    "* `TsTables`에 대한 더 자세한 정보는 깃허브 페이지에 있습니다.\n",
    "\n",
    "`TsTables` 레포의 깃 포크(git fork)는 http://github.com/yhilpisch/tstables입니다. `pip install git+git://github.com/yhilpisch/tstables` 명령을 사용하면 이 포크를 설치할 수 있습니다. 이 포크를 쓰면 새 버전의 판다스나 다른 파이썬 패키지와 호환성이 유지됩니다."
   ]
  },
  {
   "cell_type": "code",
   "execution_count": null,
   "metadata": {},
   "outputs": [],
   "source": []
  }
 ],
 "metadata": {
  "kernelspec": {
   "display_name": "Python 3 (ipykernel)",
   "language": "python",
   "name": "python3"
  },
  "language_info": {
   "codemirror_mode": {
    "name": "ipython",
    "version": 3
   },
   "file_extension": ".py",
   "mimetype": "text/x-python",
   "name": "python",
   "nbconvert_exporter": "python",
   "pygments_lexer": "ipython3",
   "version": "3.9.7"
  }
 },
 "nbformat": 4,
 "nbformat_minor": 2
}
