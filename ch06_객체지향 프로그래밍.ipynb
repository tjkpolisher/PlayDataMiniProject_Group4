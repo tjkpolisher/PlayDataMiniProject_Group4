{
 "cells": [
  {
   "attachments": {},
   "cell_type": "markdown",
   "metadata": {},
   "source": [
    "# Chapter 6 객체지향 프로그래밍\n",
    "> 소프트웨어 공학의 목적은 복잡도를 생성하는 게 아니라 복잡도를 제어하는 것이다.  \n",
    "-파멜라 제이브\n",
    "\n",
    "객체지향 프로그래밍은 오늘날 인기 있는 프로그래밍 패러다임의 하나입니다. 올바르게 사용하면 절차적 프로그래밍 등에 비해 많은 장점이 있습니다. 많은 경우 객체지향 프로그래밍은 금융 모델링이나 금융 알고리즘 구현에 아주 적합합니다. 그러나 객체지향 프로그래밍의 일부 속성이나 패러다임 전반에 대한 비판도 만만치 않습니다. 이번 장에서는 중립적인 관점에서 객체지향 프로그래밍이 금융 분야의 프로그래머나 퀀트가 사용할 수 있는 중요한 도구라는 점을 설명합니다. 객체지향 프로그래밍을 하려면 몇 가지 용어를 알아야 합니다. 이 장에서 중요한 용어들은 다음과 같습니다.  \n",
    "* 클래스: 일련의 객체에 대한 추상적 정의\n",
    "* 객체: 클래스에 속하는 하나의 대상\n",
    "* 속성: 클래스나 클래스의 객체가 가지고 있는 특징. 클래스면 클래스 속성, 객체면 객체 속성이라고 합니다.\n",
    "* 메서드: 클래스가 구현할 수 있는 연산.\n",
    "* 인수: 메서드가 받아들이는 값으로 실행에 영향을 미칩니다.\n",
    "* 객체화: 추상 클래스에 기반해서 특정 객체를 생성하는 작업.  \n",
    "\n",
    "객체지향 프로그래밍은 인간에 친화적인 몇 가지 특성이 있습니다.  \n",
    "* 자연스러운 사고방식: 인간이 자동차나 금융 상품과 같은 현실세계의 객체 혹은 추상적인 객체에 대해 생각하는 것과 유사하므로 이러한 객체의 특성을 모델링할 때 적합합니다.\n",
    "* 복잡도 감소: 특성을 하나하나 모델링하므로 문제나 알고리즘의 복잡도를 줄이는 데 도움이 됩니다.\n",
    "* 더 나은 사용자 인터페이스: 대체로 더 나은 사용자 인터페이스와 더 간결한 코드를 제공합니다.\n",
    "* 파이썬스러운 모델링 방법: 프로그래머가 표준 파이썬 클래스와 비슷하게 동작하는 사용자 정의 클래스를 만들 수 있게 합니다.  \n",
    "\n",
    "다음은 객체지향 프로그래밍의 몇 가지 기술적 특성입니다.\n",
    "* 추상화: 속성과 메서드를 사용하면 필요한 것에만 초점을 맞추어 추상적이고 유연한 모델을 만들 수 있습니다. 금융에서는 추상적인 방법으로 금융 상품을 모델링하는 클래스를 만들 수 있습니다. 이러한 클래스의 객체들은 구체적인 금융 상품이 되어 투자 은행에서 가공하고 판매할 수 있습니다.\n",
    "* 모듈화: 객체지향 프로그래밍은 코드를 여러 개의 모듈로 나누고 이를 연결하여 전체 모드를 구성할 수 있습니다. 예를 들어 주식을 기초 자산으로 하는 유러피안 옵션을 하나의 클래스로 만들 수도 있지만 기초 자산과 그 기초 자산에 기반하는 옵션, 이렇게 두 개 클래스로 나눌 수도 있습니다.\n",
    "* 상속: 상속은 하나의 클래스가 가진 속성과 메서드를 다른 클래스에 전달하는 것을 말합니다. 금융에서는 일반적인 금융 상품에서 시작하여 일반적인 파생상품, 유러피안 옵션, 유러피안 콜 옵션 순으로 상속받을 수 있습니다. 모든 클래스는 부모 클래스의 속성과 메서드를 이어받습니다.\n",
    "* 집합화(aggregation): 독립적으로 존재할 수 있는 여러 개의 객체를 모아 하나의 객체로 만드는 것을 말합니다. 유러피안 콜 옵션은 기초 자산이 되는 주식이나 관련된 단기 할인 이자율 등을 속성으로 가질 수 있습니다. 주식과 단기 이자율 속성은 물론 다른 객체에 의해서도 독립적으로 사용될 수 있습니다.\n",
    "* 합성화(composition): 집합화와 비슷하지만 각 객체가 독립적으로 존재할 수는 없습니다. 예를 들어 고정금리 현금흐름(fixed leg)과 변동금리 현금흐름(floating leg)을 가진 고객 맞춤형 이자율 스왑을 생각해봅시다. 이 두 개의 현금흐름은 스왑이라는 상품을 떠나서는 독립적으로 존재할 수 없습니다.\n",
    "* 다형성(polymorphism): 다형성은 여러 가지 형태로 나타납니다. 파이썬에서는 덕 파이핑(duck typing)이라 불리는 형태로 나타나는데, 이는 표준 연산이 어떤 객체를 다루고 있는지 정확히 알지 못하더라도 여러 가지 클래스와 객체에서 구현될 수 있음을 의미합니다. 예를 들어 금융 상품 클래에서 객체(주식, 옵션, 스왑)의 구체적인 자료형을 몰라도 `get_current_price()`라는 메서드를 호출할 수 있습니다.\n",
    "* 캡슐화: 이 개념은 클래스 내부에서 데이터를 만들고 퍼블릭 메서드에 의해서만 접근할 수 있는 방식을 말합니다. 주식을 모델링하는 클래스는 `current_stock_price`라는 속성을 가질 수 있습니다. 캡슐화를 하면 이 값은 `get_current_stock_price()` 메서드를 통해서만 얻을 수 있고 값 자체에 사용자가 바로 접근할 수는 없습니다. 이러한 방식을 사용하면 속성값을 의도치 않게 바꾸는 실수를 막을 수 있습니다. 하지만 파이썬 클래스에서는 데이터를 숨기는 데 제한이 있습니다. \n",
    "\n",
    "이러한 특징들은 다음과 같이 두 가지 소프트웨어 엔지니어링 목표로 요약할 수 있습니다.\n",
    "* 재사용성: 상속과 다형성은 코드의 재사용성을 향상시키고 개발의 효율성과 프로그래머의 생산성을 증가시킵니다. 코드 관리도 단순해집니다.\n",
    "* 중복 방지: 동시에 중복이 거의 없는 코드를 작성할 수 있습니다. 반복되는 코드 작성을 피하고 디버깅과 테스트에 들어가는 노력을 덜 수 있을 뿐만 아니라 전체 코드의 양도 감소합니다."
   ]
  },
  {
   "attachments": {},
   "cell_type": "markdown",
   "metadata": {},
   "source": [
    "이 장은 다음과 같이 구성됩니다.\n",
    "* 파이썬 객체 소개: 객체지향 프로그래밍 관점에서 파이썬 객체 소개\n",
    "* 파이썬 클래스 기초: 파이썬 객체지향 프로그래밍에 필수적인 요소 소개\n",
    "* 파이썬 데이터 모델: 중요 요소 및 각 메서드의 역할"
   ]
  },
  {
   "attachments": {},
   "cell_type": "markdown",
   "metadata": {},
   "source": [
    "## 6.1 파이썬 객체 소개\n",
    "앞 장에서 살펴본 몇 가지 표준 파이썬 객체를 객체지향 프로그래밍의 관점에서 살펴보는 것부터 시작하겠습니다.\n",
    "### 6.1.1 정수형\n",
    "우선 가장 단순한 정수형 객체를 살펴보죠. 이렇게 간단한 파이썬 객체에도 객체지향 프로그래밍 원리가 존재합니다."
   ]
  },
  {
   "cell_type": "code",
   "execution_count": 1,
   "metadata": {},
   "outputs": [
    {
     "data": {
      "text/plain": [
       "int"
      ]
     },
     "execution_count": 1,
     "metadata": {},
     "output_type": "execute_result"
    }
   ],
   "source": [
    "n = 5 # 신규 객체 생성\n",
    "type(n) # 객체의 자료형"
   ]
  },
  {
   "cell_type": "code",
   "execution_count": 2,
   "metadata": {},
   "outputs": [
    {
     "data": {
      "text/plain": [
       "5"
      ]
     },
     "execution_count": 2,
     "metadata": {},
     "output_type": "execute_result"
    }
   ],
   "source": [
    "n.numerator # 객체의 속성"
   ]
  },
  {
   "cell_type": "code",
   "execution_count": 3,
   "metadata": {},
   "outputs": [
    {
     "data": {
      "text/plain": [
       "3"
      ]
     },
     "execution_count": 3,
     "metadata": {},
     "output_type": "execute_result"
    }
   ],
   "source": [
    "n.bit_length() # 객체의 메서드"
   ]
  },
  {
   "cell_type": "code",
   "execution_count": 4,
   "metadata": {},
   "outputs": [
    {
     "data": {
      "text/plain": [
       "10"
      ]
     },
     "execution_count": 4,
     "metadata": {},
     "output_type": "execute_result"
    }
   ],
   "source": [
    "n + n # + 연산자 적용"
   ]
  },
  {
   "cell_type": "code",
   "execution_count": 5,
   "metadata": {},
   "outputs": [
    {
     "data": {
      "text/plain": [
       "10"
      ]
     },
     "execution_count": 5,
     "metadata": {},
     "output_type": "execute_result"
    }
   ],
   "source": [
    "2 * n # * 연산자 적용"
   ]
  },
  {
   "cell_type": "code",
   "execution_count": 6,
   "metadata": {},
   "outputs": [
    {
     "data": {
      "text/plain": [
       "28"
      ]
     },
     "execution_count": 6,
     "metadata": {},
     "output_type": "execute_result"
    }
   ],
   "source": [
    "n.__sizeof__() # 사용된 메모리 바이트 수를 반환하는 특수 메서드 __sizeof__() 호출"
   ]
  },
  {
   "attachments": {},
   "cell_type": "markdown",
   "metadata": {},
   "source": [
    "> 파이썬의 특수 속성과 특수 메서드는 두 개의 언더바(밑줄, underscore)가 앞뒤에 있습니다. 예로 든 `n.__sizeof__()`는 내부적으로 `import sys; sys.getsizeof(n)` 명령을 수행합니다."
   ]
  },
  {
   "attachments": {},
   "cell_type": "markdown",
   "metadata": {},
   "source": [
    "### 6.1.2 리스트"
   ]
  },
  {
   "cell_type": "code",
   "execution_count": 7,
   "metadata": {},
   "outputs": [
    {
     "data": {
      "text/plain": [
       "list"
      ]
     },
     "execution_count": 7,
     "metadata": {},
     "output_type": "execute_result"
    }
   ],
   "source": [
    "l = [1, 2, 3, 4]\n",
    "type(l)"
   ]
  },
  {
   "cell_type": "code",
   "execution_count": 8,
   "metadata": {},
   "outputs": [
    {
     "data": {
      "text/plain": [
       "1"
      ]
     },
     "execution_count": 8,
     "metadata": {},
     "output_type": "execute_result"
    }
   ],
   "source": [
    "l[0] # 인덱싱으로 원소 선택"
   ]
  },
  {
   "cell_type": "code",
   "execution_count": 9,
   "metadata": {},
   "outputs": [],
   "source": [
    "l.append(10) # 객체의 메서드"
   ]
  },
  {
   "cell_type": "code",
   "execution_count": 10,
   "metadata": {},
   "outputs": [
    {
     "data": {
      "text/plain": [
       "[1, 2, 3, 4, 10, 1, 2, 3, 4, 10]"
      ]
     },
     "execution_count": 10,
     "metadata": {},
     "output_type": "execute_result"
    }
   ],
   "source": [
    "l + l # + 연산자 적용"
   ]
  },
  {
   "cell_type": "code",
   "execution_count": 11,
   "metadata": {},
   "outputs": [
    {
     "data": {
      "text/plain": [
       "[1, 2, 3, 4, 10, 1, 2, 3, 4, 10]"
      ]
     },
     "execution_count": 11,
     "metadata": {},
     "output_type": "execute_result"
    }
   ],
   "source": [
    "2 * l # * 연산자 적용"
   ]
  },
  {
   "cell_type": "code",
   "execution_count": 12,
   "metadata": {},
   "outputs": [
    {
     "data": {
      "text/plain": [
       "20"
      ]
     },
     "execution_count": 12,
     "metadata": {},
     "output_type": "execute_result"
    }
   ],
   "source": [
    "sum(l) # 표준 파이썬 함수 sum() 적용"
   ]
  },
  {
   "cell_type": "code",
   "execution_count": 13,
   "metadata": {},
   "outputs": [
    {
     "data": {
      "text/plain": [
       "104"
      ]
     },
     "execution_count": 13,
     "metadata": {},
     "output_type": "execute_result"
    }
   ],
   "source": [
    "l.__sizeof__() # 특수 메서드 호출"
   ]
  },
  {
   "attachments": {},
   "cell_type": "markdown",
   "metadata": {},
   "source": [
    "### 6.1.3 ndarray\n",
    "정수와 리스트 객체는 표준 파이썬 객체입니다. 하지만 넘파이의 `ndarray` 객체는 오픈소스 패키지에서 맞춤형 객체입니다."
   ]
  },
  {
   "cell_type": "code",
   "execution_count": 14,
   "metadata": {},
   "outputs": [],
   "source": [
    "import numpy as np"
   ]
  },
  {
   "cell_type": "code",
   "execution_count": 15,
   "metadata": {},
   "outputs": [],
   "source": [
    "a = np.arange(16).reshape((4, 4)) # 신규 객체 생성"
   ]
  },
  {
   "cell_type": "code",
   "execution_count": 16,
   "metadata": {},
   "outputs": [
    {
     "data": {
      "text/plain": [
       "array([[ 0,  1,  2,  3],\n",
       "       [ 4,  5,  6,  7],\n",
       "       [ 8,  9, 10, 11],\n",
       "       [12, 13, 14, 15]])"
      ]
     },
     "execution_count": 16,
     "metadata": {},
     "output_type": "execute_result"
    }
   ],
   "source": [
    "a"
   ]
  },
  {
   "cell_type": "code",
   "execution_count": 17,
   "metadata": {},
   "outputs": [
    {
     "data": {
      "text/plain": [
       "numpy.ndarray"
      ]
     },
     "execution_count": 17,
     "metadata": {},
     "output_type": "execute_result"
    }
   ],
   "source": [
    "type(a) # 객체의 자료형"
   ]
  },
  {
   "attachments": {},
   "cell_type": "markdown",
   "metadata": {},
   "source": [
    "`ndarray` 객체는 표준 객체가 아니지만 이 장의 뒷부분에서 설명할 파이썬 데이터 모델 덕분에 대부분의 경우 마치 표준 객체처럼 동작합니다."
   ]
  },
  {
   "cell_type": "code",
   "execution_count": 18,
   "metadata": {},
   "outputs": [
    {
     "data": {
      "text/plain": [
       "64"
      ]
     },
     "execution_count": 18,
     "metadata": {},
     "output_type": "execute_result"
    }
   ],
   "source": [
    "a.nbytes # 객체의 속성"
   ]
  },
  {
   "cell_type": "code",
   "execution_count": 19,
   "metadata": {},
   "outputs": [
    {
     "data": {
      "text/plain": [
       "120"
      ]
     },
     "execution_count": 19,
     "metadata": {},
     "output_type": "execute_result"
    }
   ],
   "source": [
    "a.sum() # 객체의 메서드 (집계)"
   ]
  },
  {
   "cell_type": "code",
   "execution_count": 20,
   "metadata": {},
   "outputs": [
    {
     "data": {
      "text/plain": [
       "array([[ 0,  1,  2,  3],\n",
       "       [ 4,  6,  8, 10],\n",
       "       [12, 15, 18, 21],\n",
       "       [24, 28, 32, 36]], dtype=int32)"
      ]
     },
     "execution_count": 20,
     "metadata": {},
     "output_type": "execute_result"
    }
   ],
   "source": [
    "a.cumsum(axis=0) # 객체의 메서드 (집계 없음)"
   ]
  },
  {
   "cell_type": "code",
   "execution_count": 21,
   "metadata": {},
   "outputs": [
    {
     "data": {
      "text/plain": [
       "array([[ 0,  2,  4,  6],\n",
       "       [ 8, 10, 12, 14],\n",
       "       [16, 18, 20, 22],\n",
       "       [24, 26, 28, 30]])"
      ]
     },
     "execution_count": 21,
     "metadata": {},
     "output_type": "execute_result"
    }
   ],
   "source": [
    "a + a"
   ]
  },
  {
   "cell_type": "code",
   "execution_count": 22,
   "metadata": {},
   "outputs": [
    {
     "data": {
      "text/plain": [
       "array([[ 0,  2,  4,  6],\n",
       "       [ 8, 10, 12, 14],\n",
       "       [16, 18, 20, 22],\n",
       "       [24, 26, 28, 30]])"
      ]
     },
     "execution_count": 22,
     "metadata": {},
     "output_type": "execute_result"
    }
   ],
   "source": [
    "2 * a"
   ]
  },
  {
   "cell_type": "code",
   "execution_count": 23,
   "metadata": {},
   "outputs": [
    {
     "data": {
      "text/plain": [
       "array([24, 28, 32, 36])"
      ]
     },
     "execution_count": 23,
     "metadata": {},
     "output_type": "execute_result"
    }
   ],
   "source": [
    "sum(a) # 표준 파이썬 함수 sum() 적용"
   ]
  },
  {
   "cell_type": "code",
   "execution_count": 24,
   "metadata": {},
   "outputs": [
    {
     "data": {
      "text/plain": [
       "120"
      ]
     },
     "execution_count": 24,
     "metadata": {},
     "output_type": "execute_result"
    }
   ],
   "source": [
    "np.sum(a) # 넘파이 유니버설 함수 np.sum() 적용"
   ]
  },
  {
   "cell_type": "code",
   "execution_count": 25,
   "metadata": {},
   "outputs": [
    {
     "data": {
      "text/plain": [
       "120"
      ]
     },
     "execution_count": 25,
     "metadata": {},
     "output_type": "execute_result"
    }
   ],
   "source": [
    "a.__sizeof__() # 특수 메서드 호출"
   ]
  },
  {
   "attachments": {},
   "cell_type": "markdown",
   "metadata": {},
   "source": [
    "### 6.1.4 DataFrame\n",
    "마지막으로 `ndarray`와 유사하게 작동하는 판다스의 `DataFrame` 객체를 살펴보겠습니다. 먼저 `ndarray` 객체를 기반으로 `DataFrame` 객체를 만듭니다."
   ]
  },
  {
   "cell_type": "code",
   "execution_count": 26,
   "metadata": {},
   "outputs": [],
   "source": [
    "import pandas as pd"
   ]
  },
  {
   "cell_type": "code",
   "execution_count": 27,
   "metadata": {},
   "outputs": [
    {
     "data": {
      "text/plain": [
       "pandas.core.frame.DataFrame"
      ]
     },
     "execution_count": 27,
     "metadata": {},
     "output_type": "execute_result"
    }
   ],
   "source": [
    "df = pd.DataFrame(a, columns=list('abcd'))\n",
    "type(df)"
   ]
  },
  {
   "cell_type": "code",
   "execution_count": 28,
   "metadata": {},
   "outputs": [
    {
     "data": {
      "text/plain": [
       "Index(['a', 'b', 'c', 'd'], dtype='object')"
      ]
     },
     "execution_count": 28,
     "metadata": {},
     "output_type": "execute_result"
    }
   ],
   "source": [
    "df.columns # 객체의 속성"
   ]
  },
  {
   "cell_type": "code",
   "execution_count": 29,
   "metadata": {},
   "outputs": [
    {
     "data": {
      "text/plain": [
       "a    24\n",
       "b    28\n",
       "c    32\n",
       "d    36\n",
       "dtype: int64"
      ]
     },
     "execution_count": 29,
     "metadata": {},
     "output_type": "execute_result"
    }
   ],
   "source": [
    "df.sum() # 객체의 메서드 (집계)"
   ]
  },
  {
   "cell_type": "code",
   "execution_count": 30,
   "metadata": {},
   "outputs": [
    {
     "data": {
      "text/html": [
       "<div>\n",
       "<style scoped>\n",
       "    .dataframe tbody tr th:only-of-type {\n",
       "        vertical-align: middle;\n",
       "    }\n",
       "\n",
       "    .dataframe tbody tr th {\n",
       "        vertical-align: top;\n",
       "    }\n",
       "\n",
       "    .dataframe thead th {\n",
       "        text-align: right;\n",
       "    }\n",
       "</style>\n",
       "<table border=\"1\" class=\"dataframe\">\n",
       "  <thead>\n",
       "    <tr style=\"text-align: right;\">\n",
       "      <th></th>\n",
       "      <th>a</th>\n",
       "      <th>b</th>\n",
       "      <th>c</th>\n",
       "      <th>d</th>\n",
       "    </tr>\n",
       "  </thead>\n",
       "  <tbody>\n",
       "    <tr>\n",
       "      <th>0</th>\n",
       "      <td>0</td>\n",
       "      <td>1</td>\n",
       "      <td>2</td>\n",
       "      <td>3</td>\n",
       "    </tr>\n",
       "    <tr>\n",
       "      <th>1</th>\n",
       "      <td>4</td>\n",
       "      <td>6</td>\n",
       "      <td>8</td>\n",
       "      <td>10</td>\n",
       "    </tr>\n",
       "    <tr>\n",
       "      <th>2</th>\n",
       "      <td>12</td>\n",
       "      <td>15</td>\n",
       "      <td>18</td>\n",
       "      <td>21</td>\n",
       "    </tr>\n",
       "    <tr>\n",
       "      <th>3</th>\n",
       "      <td>24</td>\n",
       "      <td>28</td>\n",
       "      <td>32</td>\n",
       "      <td>36</td>\n",
       "    </tr>\n",
       "  </tbody>\n",
       "</table>\n",
       "</div>"
      ],
      "text/plain": [
       "    a   b   c   d\n",
       "0   0   1   2   3\n",
       "1   4   6   8  10\n",
       "2  12  15  18  21\n",
       "3  24  28  32  36"
      ]
     },
     "execution_count": 30,
     "metadata": {},
     "output_type": "execute_result"
    }
   ],
   "source": [
    "df.cumsum() # 객체의 메서드 (집계 없음)"
   ]
  },
  {
   "cell_type": "code",
   "execution_count": 31,
   "metadata": {},
   "outputs": [
    {
     "data": {
      "text/html": [
       "<div>\n",
       "<style scoped>\n",
       "    .dataframe tbody tr th:only-of-type {\n",
       "        vertical-align: middle;\n",
       "    }\n",
       "\n",
       "    .dataframe tbody tr th {\n",
       "        vertical-align: top;\n",
       "    }\n",
       "\n",
       "    .dataframe thead th {\n",
       "        text-align: right;\n",
       "    }\n",
       "</style>\n",
       "<table border=\"1\" class=\"dataframe\">\n",
       "  <thead>\n",
       "    <tr style=\"text-align: right;\">\n",
       "      <th></th>\n",
       "      <th>a</th>\n",
       "      <th>b</th>\n",
       "      <th>c</th>\n",
       "      <th>d</th>\n",
       "    </tr>\n",
       "  </thead>\n",
       "  <tbody>\n",
       "    <tr>\n",
       "      <th>0</th>\n",
       "      <td>0</td>\n",
       "      <td>2</td>\n",
       "      <td>4</td>\n",
       "      <td>6</td>\n",
       "    </tr>\n",
       "    <tr>\n",
       "      <th>1</th>\n",
       "      <td>8</td>\n",
       "      <td>10</td>\n",
       "      <td>12</td>\n",
       "      <td>14</td>\n",
       "    </tr>\n",
       "    <tr>\n",
       "      <th>2</th>\n",
       "      <td>16</td>\n",
       "      <td>18</td>\n",
       "      <td>20</td>\n",
       "      <td>22</td>\n",
       "    </tr>\n",
       "    <tr>\n",
       "      <th>3</th>\n",
       "      <td>24</td>\n",
       "      <td>26</td>\n",
       "      <td>28</td>\n",
       "      <td>30</td>\n",
       "    </tr>\n",
       "  </tbody>\n",
       "</table>\n",
       "</div>"
      ],
      "text/plain": [
       "    a   b   c   d\n",
       "0   0   2   4   6\n",
       "1   8  10  12  14\n",
       "2  16  18  20  22\n",
       "3  24  26  28  30"
      ]
     },
     "execution_count": 31,
     "metadata": {},
     "output_type": "execute_result"
    }
   ],
   "source": [
    "df + df"
   ]
  },
  {
   "cell_type": "code",
   "execution_count": 32,
   "metadata": {},
   "outputs": [
    {
     "data": {
      "text/html": [
       "<div>\n",
       "<style scoped>\n",
       "    .dataframe tbody tr th:only-of-type {\n",
       "        vertical-align: middle;\n",
       "    }\n",
       "\n",
       "    .dataframe tbody tr th {\n",
       "        vertical-align: top;\n",
       "    }\n",
       "\n",
       "    .dataframe thead th {\n",
       "        text-align: right;\n",
       "    }\n",
       "</style>\n",
       "<table border=\"1\" class=\"dataframe\">\n",
       "  <thead>\n",
       "    <tr style=\"text-align: right;\">\n",
       "      <th></th>\n",
       "      <th>a</th>\n",
       "      <th>b</th>\n",
       "      <th>c</th>\n",
       "      <th>d</th>\n",
       "    </tr>\n",
       "  </thead>\n",
       "  <tbody>\n",
       "    <tr>\n",
       "      <th>0</th>\n",
       "      <td>0</td>\n",
       "      <td>2</td>\n",
       "      <td>4</td>\n",
       "      <td>6</td>\n",
       "    </tr>\n",
       "    <tr>\n",
       "      <th>1</th>\n",
       "      <td>8</td>\n",
       "      <td>10</td>\n",
       "      <td>12</td>\n",
       "      <td>14</td>\n",
       "    </tr>\n",
       "    <tr>\n",
       "      <th>2</th>\n",
       "      <td>16</td>\n",
       "      <td>18</td>\n",
       "      <td>20</td>\n",
       "      <td>22</td>\n",
       "    </tr>\n",
       "    <tr>\n",
       "      <th>3</th>\n",
       "      <td>24</td>\n",
       "      <td>26</td>\n",
       "      <td>28</td>\n",
       "      <td>30</td>\n",
       "    </tr>\n",
       "  </tbody>\n",
       "</table>\n",
       "</div>"
      ],
      "text/plain": [
       "    a   b   c   d\n",
       "0   0   2   4   6\n",
       "1   8  10  12  14\n",
       "2  16  18  20  22\n",
       "3  24  26  28  30"
      ]
     },
     "execution_count": 32,
     "metadata": {},
     "output_type": "execute_result"
    }
   ],
   "source": [
    "2 * df"
   ]
  },
  {
   "cell_type": "code",
   "execution_count": 33,
   "metadata": {},
   "outputs": [
    {
     "data": {
      "text/plain": [
       "a    24\n",
       "b    28\n",
       "c    32\n",
       "d    36\n",
       "dtype: int64"
      ]
     },
     "execution_count": 33,
     "metadata": {},
     "output_type": "execute_result"
    }
   ],
   "source": [
    "np.sum(df) # 넘파이 유니버설 함수 np.sum() 적용"
   ]
  },
  {
   "cell_type": "code",
   "execution_count": 34,
   "metadata": {},
   "outputs": [
    {
     "data": {
      "text/plain": [
       "192"
      ]
     },
     "execution_count": 34,
     "metadata": {},
     "output_type": "execute_result"
    }
   ],
   "source": [
    "df.__sizeof__() # 특수 메서드 호출"
   ]
  },
  {
   "attachments": {},
   "cell_type": "markdown",
   "metadata": {},
   "source": [
    "## 6.2 파이썬 클래스 기초\n",
    "이 절은 파이썬에서 객체지향 프로그래밍을 하기 위한 중요 개념과 구체적인 문법을 다룹니다. 기존 파이썬 자료형으로는 쉽고 효율적인 모델링이 어려운 객체 자료형을 모델링하기 위해 맞춤형 클래스를 만들 것입니다. 이 과정에서 금융 상품을 예로 듭니다. 다음 두 줄의 코드로 새로운 파이썬 클래스를 만들 수 있습니다."
   ]
  },
  {
   "cell_type": "code",
   "execution_count": 35,
   "metadata": {},
   "outputs": [],
   "source": [
    "class FinancialInstrument(object): # 클래스 정의\n",
    "    pass # 이 위치에 구체적인 코드가 옵니다. 아직 아무것도 없기 때문에 pass 키워드만 넣어놨습니다."
   ]
  },
  {
   "cell_type": "code",
   "execution_count": 36,
   "metadata": {},
   "outputs": [],
   "source": [
    "fi = FinancialInstrument() # 신규 객체 생성"
   ]
  },
  {
   "cell_type": "code",
   "execution_count": 37,
   "metadata": {},
   "outputs": [
    {
     "data": {
      "text/plain": [
       "__main__.FinancialInstrument"
      ]
     },
     "execution_count": 37,
     "metadata": {},
     "output_type": "execute_result"
    }
   ],
   "source": [
    "type(fi) # 객체의 자료형"
   ]
  },
  {
   "cell_type": "code",
   "execution_count": 38,
   "metadata": {},
   "outputs": [
    {
     "data": {
      "text/plain": [
       "<__main__.FinancialInstrument at 0x1d6784a5820>"
      ]
     },
     "execution_count": 38,
     "metadata": {},
     "output_type": "execute_result"
    }
   ],
   "source": [
    "fi # 문자열 표현을 반환하는 특수 메서드"
   ]
  },
  {
   "cell_type": "code",
   "execution_count": 39,
   "metadata": {},
   "outputs": [
    {
     "data": {
      "text/plain": [
       "'<__main__.FinancialInstrument object at 0x000001D6784A5820>'"
      ]
     },
     "execution_count": 39,
     "metadata": {},
     "output_type": "execute_result"
    }
   ],
   "source": [
    "fi.__str__() # 문자열 표현을 반환하는 특수 메서드"
   ]
  },
  {
   "cell_type": "code",
   "execution_count": 40,
   "metadata": {},
   "outputs": [],
   "source": [
    "fi.price = 100 # 일반 속성이 아닌, 이른바 데이터 속성을 객체에서 바로 정의할 수 있습니다."
   ]
  },
  {
   "cell_type": "code",
   "execution_count": 41,
   "metadata": {},
   "outputs": [
    {
     "data": {
      "text/plain": [
       "100"
      ]
     },
     "execution_count": 41,
     "metadata": {},
     "output_type": "execute_result"
    }
   ],
   "source": [
    "fi.price"
   ]
  },
  {
   "attachments": {},
   "cell_type": "markdown",
   "metadata": {},
   "source": [
    "중요한 특수 메서드 중 하나는 `__init__`으로 객체의 초기화 시점에 호출됩니다. 이 메서드는 객체 자체를 `self`라는 이름의 인수로 받습니다. 이외에도 다른 인수를 받을 수 있습니다."
   ]
  },
  {
   "cell_type": "code",
   "execution_count": 42,
   "metadata": {},
   "outputs": [],
   "source": [
    "class FinancialInstrument(object):\n",
    "    author = 'Yves Hilpisch' # 클래스의 속성 정의 (모든 객체가 상속받습니다)\n",
    "    def __init__(self, symbol, price): # 특수 메서드 정의\n",
    "        # 객체의 속성 정의 (객체마다 개별적인 값을 갖습니다)\n",
    "        self.symbol = symbol\n",
    "        self.price = price"
   ]
  },
  {
   "cell_type": "code",
   "execution_count": 43,
   "metadata": {},
   "outputs": [
    {
     "data": {
      "text/plain": [
       "'Yves Hilpisch'"
      ]
     },
     "execution_count": 43,
     "metadata": {},
     "output_type": "execute_result"
    }
   ],
   "source": [
    "FinancialInstrument.author"
   ]
  },
  {
   "cell_type": "code",
   "execution_count": 44,
   "metadata": {},
   "outputs": [],
   "source": [
    "aapl = FinancialInstrument('AAPL', 100) # 신규 객체 aapl 생성"
   ]
  },
  {
   "cell_type": "code",
   "execution_count": 45,
   "metadata": {},
   "outputs": [
    {
     "data": {
      "text/plain": [
       "'AAPL'"
      ]
     },
     "execution_count": 45,
     "metadata": {},
     "output_type": "execute_result"
    }
   ],
   "source": [
    "aapl.symbol # 객체의 속성"
   ]
  },
  {
   "cell_type": "code",
   "execution_count": 46,
   "metadata": {},
   "outputs": [
    {
     "data": {
      "text/plain": [
       "'Yves Hilpisch'"
      ]
     },
     "execution_count": 46,
     "metadata": {},
     "output_type": "execute_result"
    }
   ],
   "source": [
    "aapl.author # 클래스의 속성"
   ]
  },
  {
   "cell_type": "code",
   "execution_count": 47,
   "metadata": {},
   "outputs": [
    {
     "data": {
      "text/plain": [
       "105"
      ]
     },
     "execution_count": 47,
     "metadata": {},
     "output_type": "execute_result"
    }
   ],
   "source": [
    "aapl.price = 105 # 객체의 속성값을 바꿉니다\n",
    "aapl.price"
   ]
  },
  {
   "attachments": {},
   "cell_type": "markdown",
   "metadata": {},
   "source": [
    "금융 상품의 가격은 정기적으로 바뀌지만 금융 상품의 기호는 바뀌지 않습니다. 클래스 정의에서 캡슐화를 도입하기 위해 `get_price()`와 `set_price()`라는 두 개의 메서드를 추가하겠습니다. 다음 코드는 이전의 클래스 정의로부터 상속받습니다."
   ]
  },
  {
   "cell_type": "code",
   "execution_count": 48,
   "metadata": {},
   "outputs": [],
   "source": [
    "class FinancialInstrument(FinancialInstrument):\n",
    "    def get_price(self):\n",
    "        return self.price\n",
    "    \n",
    "    def set_price(self, price):\n",
    "        self.price = price # 인수로 객체 속성을 업데이트"
   ]
  },
  {
   "cell_type": "code",
   "execution_count": 49,
   "metadata": {},
   "outputs": [],
   "source": [
    "fi = FinancialInstrument('AAPL', 100)"
   ]
  },
  {
   "cell_type": "code",
   "execution_count": 50,
   "metadata": {},
   "outputs": [
    {
     "data": {
      "text/plain": [
       "100"
      ]
     },
     "execution_count": 50,
     "metadata": {},
     "output_type": "execute_result"
    }
   ],
   "source": [
    "fi.get_price()"
   ]
  },
  {
   "cell_type": "code",
   "execution_count": 51,
   "metadata": {},
   "outputs": [],
   "source": [
    "fi.set_price(105)"
   ]
  },
  {
   "cell_type": "code",
   "execution_count": 52,
   "metadata": {},
   "outputs": [
    {
     "data": {
      "text/plain": [
       "105"
      ]
     },
     "execution_count": 52,
     "metadata": {},
     "output_type": "execute_result"
    }
   ],
   "source": [
    "fi.get_price()"
   ]
  },
  {
   "cell_type": "code",
   "execution_count": 53,
   "metadata": {},
   "outputs": [
    {
     "data": {
      "text/plain": [
       "105"
      ]
     },
     "execution_count": 53,
     "metadata": {},
     "output_type": "execute_result"
    }
   ],
   "source": [
    "fi.price"
   ]
  },
  {
   "attachments": {},
   "cell_type": "markdown",
   "metadata": {},
   "source": [
    "캡슐화는 데이터를 사용자로부터 숨기기 위한 것입니다. 이를 위해 `getter/setter` 메서드를 추가합니다. 하지만 사용자가 직접 속성에 접근하여 조작하는 것을 막을 수는 없습니다. 이 때는 프라이빗(private) 속성을 사용해야 합니다. 프라이빗 속성의 이름은 두 개의 밑줄로 시작합니다."
   ]
  },
  {
   "cell_type": "code",
   "execution_count": 54,
   "metadata": {},
   "outputs": [],
   "source": [
    "class FinancialInstrument(object):\n",
    "    def __init__(self, symbol, price):\n",
    "        self.symbol = symbol\n",
    "        self.__price = price\n",
    "    \n",
    "    def get_price(self):\n",
    "        return self.__price\n",
    "    \n",
    "    def set_price(self, price):\n",
    "        self.__price = price"
   ]
  },
  {
   "cell_type": "code",
   "execution_count": 55,
   "metadata": {},
   "outputs": [],
   "source": [
    "fi = FinancialInstrument('AAPL', 100)"
   ]
  },
  {
   "cell_type": "code",
   "execution_count": 56,
   "metadata": {},
   "outputs": [
    {
     "data": {
      "text/plain": [
       "100"
      ]
     },
     "execution_count": 56,
     "metadata": {},
     "output_type": "execute_result"
    }
   ],
   "source": [
    "fi.get_price()"
   ]
  },
  {
   "cell_type": "code",
   "execution_count": 57,
   "metadata": {},
   "outputs": [
    {
     "ename": "AttributeError",
     "evalue": "'FinancialInstrument' object has no attribute '__price'",
     "output_type": "error",
     "traceback": [
      "\u001b[1;31m---------------------------------------------------------------------------\u001b[0m",
      "\u001b[1;31mAttributeError\u001b[0m                            Traceback (most recent call last)",
      "\u001b[1;32mc:\\Users\\tjk\\OneDrive\\문서\\P\\pythonVScode\\PythonForFinance\\ch06.ipynb 셀 69\u001b[0m in \u001b[0;36m<cell line: 1>\u001b[1;34m()\u001b[0m\n\u001b[1;32m----> <a href='vscode-notebook-cell:/c%3A/Users/tjk/OneDrive/%EB%AC%B8%EC%84%9C/P/pythonVScode/PythonForFinance/ch06.ipynb#Y125sZmlsZQ%3D%3D?line=0'>1</a>\u001b[0m fi\u001b[39m.\u001b[39;49m__price\n",
      "\u001b[1;31mAttributeError\u001b[0m: 'FinancialInstrument' object has no attribute '__price'"
     ]
    }
   ],
   "source": [
    "fi.__price # 속성에 접근하려고 하면 오류가 발생합니다."
   ]
  },
  {
   "cell_type": "code",
   "execution_count": 58,
   "metadata": {},
   "outputs": [
    {
     "data": {
      "text/plain": [
       "100"
      ]
     },
     "execution_count": 58,
     "metadata": {},
     "output_type": "execute_result"
    }
   ],
   "source": [
    "fi._FinancialInstrument__price # 클래스 이름 앞에 밑줄을 붙이고 이 문자열을 속성 이름 앞에 붙이면 속성에 직접 접근할 수 있습니다."
   ]
  },
  {
   "cell_type": "code",
   "execution_count": 59,
   "metadata": {},
   "outputs": [],
   "source": [
    "fi._FinancialInstrument__price = 105"
   ]
  },
  {
   "cell_type": "code",
   "execution_count": 60,
   "metadata": {},
   "outputs": [],
   "source": [
    "fi.set_price(100) # 가격을 원래 값으로 되돌립니다."
   ]
  },
  {
   "attachments": {},
   "cell_type": "markdown",
   "metadata": {},
   "source": [
    "> **CAUTION**_ 파이썬에서의 캡슐화  \n",
    "파이썬 클래스에서도 프라이빗 속성과 이 속성을 다루는 메서드를 사용하여 캡슐화를 구현하는 것이 가능하지만 사용자가 절대로 접근할 수 없게 숨길 수는 없습니다. 이는 기술적 특징이라기보다는 공학적인 원리에 가깝습니다.\n",
    "\n",
    "금융 상품의 포트폴리오 비중을 모델링하는 다른 클래스를 생각해보겠습니다. 두 개의 클래스를 집합화함으로써 이를 구현할 수 있습니다. `PortfolioPosition` 객체는 `FinancialInstrument` 객체를 속성값으로 사용합니다. 여기에 `position_size` 속성을 추가하면 포지션 값을 계산할 수 있습니다."
   ]
  },
  {
   "cell_type": "code",
   "execution_count": 61,
   "metadata": {},
   "outputs": [],
   "source": [
    "class PortfolioPosition(object):\n",
    "    def __init__(self, financial_instrument, position_size):\n",
    "        self.position = financial_instrument # FinancialInstrument 객체를 사용하는 속성\n",
    "        self.__position_size = position_size # PortfolioPosition 클래스의 프라이빗 속성\n",
    "    def get_position_size(self):\n",
    "        return self.__position_size\n",
    "    def update_position_size(self, position_size):\n",
    "        self.__position_size = position_size\n",
    "    def get_position_value(self):\n",
    "        return self.__position_size * \\\n",
    "            self.position.get_price() # 속성값에 기반하여 포지션 값 계산"
   ]
  },
  {
   "cell_type": "code",
   "execution_count": 62,
   "metadata": {},
   "outputs": [],
   "source": [
    "pp = PortfolioPosition(fi, 10)"
   ]
  },
  {
   "cell_type": "code",
   "execution_count": 63,
   "metadata": {},
   "outputs": [
    {
     "data": {
      "text/plain": [
       "10"
      ]
     },
     "execution_count": 63,
     "metadata": {},
     "output_type": "execute_result"
    }
   ],
   "source": [
    "pp.get_position_size()"
   ]
  },
  {
   "cell_type": "code",
   "execution_count": 64,
   "metadata": {},
   "outputs": [
    {
     "data": {
      "text/plain": [
       "100"
      ]
     },
     "execution_count": 64,
     "metadata": {},
     "output_type": "execute_result"
    }
   ],
   "source": [
    "pp.position.get_price() # 객체 속성을 통해 호출 가능한 함수를 바로 사용할 수 있습니다."
   ]
  },
  {
   "cell_type": "code",
   "execution_count": 65,
   "metadata": {},
   "outputs": [],
   "source": [
    "pp.position.set_price(105) # 금융 상품의 가격 업데이트"
   ]
  },
  {
   "cell_type": "code",
   "execution_count": 66,
   "metadata": {},
   "outputs": [
    {
     "data": {
      "text/plain": [
       "1050"
      ]
     },
     "execution_count": 66,
     "metadata": {},
     "output_type": "execute_result"
    }
   ],
   "source": [
    "pp.get_position_value() # 업데이트된 가격에 기반하여 포지션 값 새로 계산"
   ]
  },
  {
   "attachments": {},
   "cell_type": "markdown",
   "metadata": {},
   "source": [
    "## 6.3 파이썬 데이터 모델\n",
    "앞 절의 예제는 이른바 파이썬 데이터 모델 혹은 객체 모델(https://docs.python.org/3/reference/datamodel.html)의 몇 가지 특성을 보여주었습니다. 파이썬 데이터 모델을 사용하면 기초적인 파이썬 언어로 상호작용할 수 있는 클래스를 설계할 수 있습니다. 파이썬 데이터 모델은 다음과 같은 작업을 지원해야 합니다(Ramalho (2015). p.4 참조).  \n",
    "* 반복\n",
    "* 컬렉션 다루기\n",
    "* 속성 접근\n",
    "* 연산자 오버로딩\n",
    "* 함수와 메서드 호출\n",
    "* 객체 생성과 제거\n",
    "* 출력을 위한 문자 표현\n",
    "* 콘텍스트\n",
    "\n",
    "파이썬 데이터 모델은 아주 중요하므로 이 절에서는 파이썬 데이터 모델의 여러 가지 측면을 다루기로 합니다. Ramalho(2015)의 예제를 조금 변형해서 사용해보죠. 이 예제는 3개의 원소를 가지는 유클리드 공간상의 `Vector` 클래스입니다. 우선 `__init__` 특수 메서드를 살펴봅시다."
   ]
  },
  {
   "cell_type": "code",
   "execution_count": 67,
   "metadata": {},
   "outputs": [],
   "source": [
    "class Vector(object):\n",
    "    def __init__(self, x=0, y=0, z=0): # 3개의 객체 속성(3차원 벡터)\n",
    "        self.x = x\n",
    "        self.y = y\n",
    "        self.z = z"
   ]
  },
  {
   "cell_type": "code",
   "execution_count": 68,
   "metadata": {},
   "outputs": [],
   "source": [
    "v = Vector(1, 2, 3) # 신규 객체 v 생성"
   ]
  },
  {
   "cell_type": "code",
   "execution_count": 69,
   "metadata": {},
   "outputs": [
    {
     "data": {
      "text/plain": [
       "<__main__.Vector at 0x1d618aa27c0>"
      ]
     },
     "execution_count": 69,
     "metadata": {},
     "output_type": "execute_result"
    }
   ],
   "source": [
    "v # 디폴트 문자열 표현"
   ]
  },
  {
   "attachments": {},
   "cell_type": "markdown",
   "metadata": {},
   "source": [
    "특수 메서드 `__repr__`는 맞춤형 문자열 표현을 정의할 수 있습니다."
   ]
  },
  {
   "cell_type": "code",
   "execution_count": 70,
   "metadata": {},
   "outputs": [],
   "source": [
    "class Vector(Vector):\n",
    "    def __repr__(self):\n",
    "        return 'Vector(%r, %r, %r)' % (self.x, self.y, self.z)"
   ]
  },
  {
   "cell_type": "code",
   "execution_count": 71,
   "metadata": {},
   "outputs": [],
   "source": [
    "v = Vector(1, 2, 3)"
   ]
  },
  {
   "cell_type": "code",
   "execution_count": 72,
   "metadata": {},
   "outputs": [
    {
     "data": {
      "text/plain": [
       "Vector(1, 2, 3)"
      ]
     },
     "execution_count": 72,
     "metadata": {},
     "output_type": "execute_result"
    }
   ],
   "source": [
    "v # 새로운 문자열 표현"
   ]
  },
  {
   "cell_type": "code",
   "execution_count": 73,
   "metadata": {},
   "outputs": [
    {
     "name": "stdout",
     "output_type": "stream",
     "text": [
      "Vector(1, 2, 3)\n"
     ]
    }
   ],
   "source": [
    "print(v)"
   ]
  },
  {
   "attachments": {},
   "cell_type": "markdown",
   "metadata": {},
   "source": [
    "`abs()`와 `bool()`은 표준 파이썬 함수입니다. `Vector` 클래스의 동작을 특수 메서드 `__abs__`와 `__bool__`로 정의합니다."
   ]
  },
  {
   "cell_type": "code",
   "execution_count": 74,
   "metadata": {},
   "outputs": [],
   "source": [
    "class Vector(Vector):\n",
    "    def __abs__(self):\n",
    "        # 3개의 속성에 기반하여 유클리드 놈(norm)을 계산합니다.\n",
    "        return (self.x ** 2 + self.y ** 2 + self.z ** 2) ** 0.5\n",
    "    def __bool__(self):\n",
    "        return bool(abs(self))"
   ]
  },
  {
   "cell_type": "code",
   "execution_count": 75,
   "metadata": {},
   "outputs": [],
   "source": [
    "v = Vector(1, 2, -1)"
   ]
  },
  {
   "cell_type": "code",
   "execution_count": 76,
   "metadata": {},
   "outputs": [
    {
     "data": {
      "text/plain": [
       "2.449489742783178"
      ]
     },
     "execution_count": 76,
     "metadata": {},
     "output_type": "execute_result"
    }
   ],
   "source": [
    "abs(v)"
   ]
  },
  {
   "cell_type": "code",
   "execution_count": 77,
   "metadata": {},
   "outputs": [
    {
     "data": {
      "text/plain": [
       "True"
      ]
     },
     "execution_count": 77,
     "metadata": {},
     "output_type": "execute_result"
    }
   ],
   "source": [
    "bool(v)"
   ]
  },
  {
   "cell_type": "code",
   "execution_count": 78,
   "metadata": {},
   "outputs": [],
   "source": [
    "v = Vector()"
   ]
  },
  {
   "cell_type": "code",
   "execution_count": 79,
   "metadata": {},
   "outputs": [
    {
     "data": {
      "text/plain": [
       "Vector(0, 0, 0)"
      ]
     },
     "execution_count": 79,
     "metadata": {},
     "output_type": "execute_result"
    }
   ],
   "source": [
    "v"
   ]
  },
  {
   "cell_type": "code",
   "execution_count": 80,
   "metadata": {},
   "outputs": [
    {
     "data": {
      "text/plain": [
       "0.0"
      ]
     },
     "execution_count": 80,
     "metadata": {},
     "output_type": "execute_result"
    }
   ],
   "source": [
    "abs(v)"
   ]
  },
  {
   "cell_type": "code",
   "execution_count": 81,
   "metadata": {},
   "outputs": [
    {
     "data": {
      "text/plain": [
       "False"
      ]
     },
     "execution_count": 81,
     "metadata": {},
     "output_type": "execute_result"
    }
   ],
   "source": [
    "bool(v)"
   ]
  },
  {
   "attachments": {},
   "cell_type": "markdown",
   "metadata": {},
   "source": [
    "`+` 연산자와 `*` 연산자는 대부분의 파이썬 객체에 적용할 수 있습니다. 이때의 동작은 특수 메서드 `__add__`와 `__mul__`로 정의합니다."
   ]
  },
  {
   "cell_type": "code",
   "execution_count": 82,
   "metadata": {},
   "outputs": [],
   "source": [
    "class Vector(Vector):\n",
    "    # 각각의 특수 메서드가 해당 클래스 객체를 반환합니다.\n",
    "    def __add__(self, other):\n",
    "        x = self.x + other.x\n",
    "        y = self.y + other.y\n",
    "        z = self.z + other.z\n",
    "        return Vector(x, y, z)\n",
    "    def __mul__(self, scalar):\n",
    "        return Vector(self.x*scalar, self.y*scalar, self.z*scalar)"
   ]
  },
  {
   "cell_type": "code",
   "execution_count": 83,
   "metadata": {},
   "outputs": [],
   "source": [
    "v = Vector(1, 2, 3)"
   ]
  },
  {
   "cell_type": "code",
   "execution_count": 84,
   "metadata": {},
   "outputs": [
    {
     "data": {
      "text/plain": [
       "Vector(3, 5, 7)"
      ]
     },
     "execution_count": 84,
     "metadata": {},
     "output_type": "execute_result"
    }
   ],
   "source": [
    "v + Vector(2, 3, 4)"
   ]
  },
  {
   "cell_type": "code",
   "execution_count": 85,
   "metadata": {},
   "outputs": [
    {
     "data": {
      "text/plain": [
       "Vector(2, 4, 6)"
      ]
     },
     "execution_count": 85,
     "metadata": {},
     "output_type": "execute_result"
    }
   ],
   "source": [
    "v * 2"
   ]
  },
  {
   "attachments": {},
   "cell_type": "markdown",
   "metadata": {},
   "source": [
    "또다른 표준 파이썬 함수 `len()`은 객체에 포함된 원소의 개수를 반환합니다. 이 함수를 호출하면 객체의 특수 메서드 `__len__`을 사용할 수 있습니다. 특수 메서드 `__getitem__`은 대괄호 기호를 사용하여 원소를 인덱싱할 수 있게 합니다."
   ]
  },
  {
   "cell_type": "code",
   "execution_count": 86,
   "metadata": {},
   "outputs": [],
   "source": [
    "class Vector(Vector):\n",
    "    def __len__(self):\n",
    "        return 3 # Vector 클래스의 모든 객체 크기는 3입니다.\n",
    "    def __getitem__(self, i):\n",
    "        if i in [0, -3]: return self.x\n",
    "        elif i in [1, -2]: return self.y\n",
    "        elif i in [2, -1]: return self.z\n",
    "        else: raise IndexError('Index out of range.')"
   ]
  },
  {
   "cell_type": "code",
   "execution_count": 87,
   "metadata": {},
   "outputs": [],
   "source": [
    "v = Vector(1, 2, 3)"
   ]
  },
  {
   "cell_type": "code",
   "execution_count": 88,
   "metadata": {},
   "outputs": [
    {
     "data": {
      "text/plain": [
       "3"
      ]
     },
     "execution_count": 88,
     "metadata": {},
     "output_type": "execute_result"
    }
   ],
   "source": [
    "len(v)"
   ]
  },
  {
   "cell_type": "code",
   "execution_count": 89,
   "metadata": {},
   "outputs": [
    {
     "data": {
      "text/plain": [
       "1"
      ]
     },
     "execution_count": 89,
     "metadata": {},
     "output_type": "execute_result"
    }
   ],
   "source": [
    "v[0]"
   ]
  },
  {
   "cell_type": "code",
   "execution_count": 90,
   "metadata": {},
   "outputs": [
    {
     "data": {
      "text/plain": [
       "2"
      ]
     },
     "execution_count": 90,
     "metadata": {},
     "output_type": "execute_result"
    }
   ],
   "source": [
    "v[-2]"
   ]
  },
  {
   "cell_type": "code",
   "execution_count": 91,
   "metadata": {},
   "outputs": [
    {
     "ename": "IndexError",
     "evalue": "Index out of range.",
     "output_type": "error",
     "traceback": [
      "\u001b[1;31m---------------------------------------------------------------------------\u001b[0m",
      "\u001b[1;31mIndexError\u001b[0m                                Traceback (most recent call last)",
      "\u001b[1;32mc:\\Users\\tjk\\OneDrive\\문서\\P\\pythonVScode\\PythonForFinance\\ch06.ipynb 셀 109\u001b[0m in \u001b[0;36m<cell line: 1>\u001b[1;34m()\u001b[0m\n\u001b[1;32m----> <a href='vscode-notebook-cell:/c%3A/Users/tjk/OneDrive/%EB%AC%B8%EC%84%9C/P/pythonVScode/PythonForFinance/ch06.ipynb#Y213sZmlsZQ%3D%3D?line=0'>1</a>\u001b[0m v[\u001b[39m3\u001b[39;49m]\n",
      "\u001b[1;32mc:\\Users\\tjk\\OneDrive\\문서\\P\\pythonVScode\\PythonForFinance\\ch06.ipynb 셀 109\u001b[0m in \u001b[0;36mVector.__getitem__\u001b[1;34m(self, i)\u001b[0m\n\u001b[0;32m      <a href='vscode-notebook-cell:/c%3A/Users/tjk/OneDrive/%EB%AC%B8%EC%84%9C/P/pythonVScode/PythonForFinance/ch06.ipynb#Y213sZmlsZQ%3D%3D?line=5'>6</a>\u001b[0m \u001b[39melif\u001b[39;00m i \u001b[39min\u001b[39;00m [\u001b[39m1\u001b[39m, \u001b[39m-\u001b[39m\u001b[39m2\u001b[39m]: \u001b[39mreturn\u001b[39;00m \u001b[39mself\u001b[39m\u001b[39m.\u001b[39my\n\u001b[0;32m      <a href='vscode-notebook-cell:/c%3A/Users/tjk/OneDrive/%EB%AC%B8%EC%84%9C/P/pythonVScode/PythonForFinance/ch06.ipynb#Y213sZmlsZQ%3D%3D?line=6'>7</a>\u001b[0m \u001b[39melif\u001b[39;00m i \u001b[39min\u001b[39;00m [\u001b[39m2\u001b[39m, \u001b[39m-\u001b[39m\u001b[39m1\u001b[39m]: \u001b[39mreturn\u001b[39;00m \u001b[39mself\u001b[39m\u001b[39m.\u001b[39mz\n\u001b[1;32m----> <a href='vscode-notebook-cell:/c%3A/Users/tjk/OneDrive/%EB%AC%B8%EC%84%9C/P/pythonVScode/PythonForFinance/ch06.ipynb#Y213sZmlsZQ%3D%3D?line=7'>8</a>\u001b[0m \u001b[39melse\u001b[39;00m: \u001b[39mraise\u001b[39;00m \u001b[39mIndexError\u001b[39;00m(\u001b[39m'\u001b[39m\u001b[39mIndex out of range.\u001b[39m\u001b[39m'\u001b[39m)\n",
      "\u001b[1;31mIndexError\u001b[0m: Index out of range."
     ]
    }
   ],
   "source": [
    "v[3]"
   ]
  },
  {
   "attachments": {},
   "cell_type": "markdown",
   "metadata": {},
   "source": [
    "마지막으로 특수 메서드 `__iter__`는 객체의 원소마다 반복하는 동작을 정의합니다. 이 연산이 정의된 객체는 반복 가능(iterable) 객체라고 합니다. 모든 컬렉션과 컨테이너는 반복 가능합니다."
   ]
  },
  {
   "cell_type": "code",
   "execution_count": 92,
   "metadata": {},
   "outputs": [],
   "source": [
    "class Vector(Vector):\n",
    "    def __iter__(self):\n",
    "        for i in range(len(self)):\n",
    "            yield self[i]"
   ]
  },
  {
   "cell_type": "code",
   "execution_count": 93,
   "metadata": {},
   "outputs": [],
   "source": [
    "v = Vector(1, 2, 3)"
   ]
  },
  {
   "cell_type": "code",
   "execution_count": 94,
   "metadata": {},
   "outputs": [
    {
     "name": "stdout",
     "output_type": "stream",
     "text": [
      "1\n",
      "2\n",
      "3\n"
     ]
    }
   ],
   "source": [
    "for i in range(3): # 인덱스와 __getitem__을 사용한 간접 반복\n",
    "    print(v[i])"
   ]
  },
  {
   "cell_type": "code",
   "execution_count": 95,
   "metadata": {},
   "outputs": [
    {
     "name": "stdout",
     "output_type": "stream",
     "text": [
      "1\n",
      "2\n",
      "3\n"
     ]
    }
   ],
   "source": [
    "for coordinate in v: # 클래스 객체와 __iter__를 사용한 직접 반복\n",
    "    print(coordinate)"
   ]
  },
  {
   "attachments": {},
   "cell_type": "markdown",
   "metadata": {},
   "source": [
    "> **TIP** 파이썬 기능 강화하기  \n",
    "파이썬 데이터 모델을 사용하면 표준 파이썬 연산, 함수 등과 부드럽게 연결되는 클래스를 정의할 수 있습니다. 이처럼 파이썬은 새로운 클래스와 객체 자료형으로 자신을 강화할 수 있는 유연한 프로그래밍 언어입니다.\n",
    "\n",
    "그럼 다음 절에서 지금까지의 `Vector` 클래스를 하나의 코드 블록으로 요약하겠습니다.\n",
    "\n",
    "## 6.4 Vector 클래스"
   ]
  },
  {
   "cell_type": "code",
   "execution_count": 97,
   "metadata": {},
   "outputs": [],
   "source": [
    "class Vector(object):\n",
    "    def __init__(self, x=0, y=0, z=0):\n",
    "        self.x = x\n",
    "        self.y = y\n",
    "        self.z = z\n",
    "    def __repr__(self):\n",
    "        return 'Vector(%r, %r, %r)' % (self.x, self.y, self.z)\n",
    "    \n",
    "    def __abs__(self):\n",
    "        return (self.x**2 + self.y**2 + self.z**2) ** 0.5\n",
    "    def __bool__(self):\n",
    "        return bool(abs(self))\n",
    "    \n",
    "    def __add__(self, other):\n",
    "        x = self.x + other.x\n",
    "        y = self.y + other.y\n",
    "        z = self.z + other.z\n",
    "        return Vector(x, y, z)\n",
    "    def __mul__(self, scalar):\n",
    "        return Vector(self.x*scalar, self.y*scalar, self.z*scalar)\n",
    "    \n",
    "    def __len__(self):\n",
    "        return 3\n",
    "    \n",
    "    def __getitem__(self, i):\n",
    "        if i in [0, -3]: return self.x\n",
    "        elif i in [1, -2]: return self.y\n",
    "        elif i in [2, -1]: return self.z\n",
    "        else: raise IndexError('Index out of range.')\n",
    "        \n",
    "    def __iter__(self):\n",
    "        for i in range(len(self)):\n",
    "            yield self[i]"
   ]
  },
  {
   "attachments": {},
   "cell_type": "markdown",
   "metadata": {},
   "source": [
    "## 6.5 마치며\n",
    "이번 장에서는 객체지향 프로그래밍의 개념과 방법을 이론과 파이썬 예제를 통해 소개했습니다. 객체지향 프로그래밍은 파이썬의 주된 프로그래밍 패러다임입니다. 이것은 복잡한 애플리케이션의 설계와 구현을 가능하게 하고, 유연한 파이썬 데이터 모델은 표준 파이썬 객체처럼 동작하는 맞춤형 객체를 만들 수 있게 해 줍니다. 객체지향 프로그래밍이 파이썬 프로그래머와 퀀트에게 강력한 도구가 된다는 것은 확실합니다. 객체지향 프로그래밍은 5부에서 개발할 파생상품 가격 결정 패키지의 복잡성과 추상화 요구조건을 해결하는 유일한 프로그래밍 패러다임입니다."
   ]
  },
  {
   "cell_type": "code",
   "execution_count": null,
   "metadata": {},
   "outputs": [],
   "source": []
  }
 ],
 "metadata": {
  "kernelspec": {
   "display_name": "Python 3",
   "language": "python",
   "name": "python3"
  },
  "language_info": {
   "codemirror_mode": {
    "name": "ipython",
    "version": 3
   },
   "file_extension": ".py",
   "mimetype": "text/x-python",
   "name": "python",
   "nbconvert_exporter": "python",
   "pygments_lexer": "ipython3",
   "version": "3.9.7"
  },
  "orig_nbformat": 4
 },
 "nbformat": 4,
 "nbformat_minor": 2
}
