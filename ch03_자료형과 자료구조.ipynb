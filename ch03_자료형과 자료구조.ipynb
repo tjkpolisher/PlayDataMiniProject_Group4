{
 "cells": [
  {
   "attachments": {},
   "cell_type": "markdown",
   "metadata": {},
   "source": [
    "# Part II. 파이썬 기초 정복\n",
    "# 3장 자료형과 자료구조\n",
    "> 나쁜 프로그래머는 코드를 걱정한다.  좋은 프로그래머는 자료구조와 그 관계에 대해 걱정한다.\n",
    "  -리누스 토르발스(Linus Torvalds)\n",
    "\n",
    "\n",
    "## 3.1 기본 자료형\n",
    "파이썬은 동적 자료형(dynamically typed)을 가진 언어입니다. 즉, 실행 시에 파이썬 인터프리터가 객체의 자료형을 결정합니다. 반면, C와 같은 언어는 정적 자료형(statically typed)을 가지며 컴파일 이전에 이미 객체마다 자료형이 결정되어 있습니다."
   ]
  },
  {
   "attachments": {},
   "cell_type": "markdown",
   "metadata": {},
   "source": [
    "### 3.1.1 정수\n",
    "정수형 `int`는 가장 기본적인 자료형입니다."
   ]
  },
  {
   "cell_type": "code",
   "execution_count": 1,
   "metadata": {},
   "outputs": [
    {
     "data": {
      "text/plain": [
       "int"
      ]
     },
     "execution_count": 1,
     "metadata": {},
     "output_type": "execute_result"
    }
   ],
   "source": [
    "a = 10\n",
    "type(a)"
   ]
  },
  {
   "attachments": {},
   "cell_type": "markdown",
   "metadata": {},
   "source": [
    "`type` 함수는 표준 자료형과 사용자가 새로 생성한 클래스를 포함한 모든 객체의 자료형 정보를 보여줍니다. 사용자가 생성한 클래스일 경우 클래스 안에 저장한 정보에 기반해 자료형 정보를 보여줍니다.  \n",
    "'파이썬에서 모든 것은 객체다'라는 말이 있습니다. 이는 방금 우리가 생성한 정수형 객체와 같이 지극히 간단한 객체조차도 내장 메서드를 가지고 있음을 말합니다. 예를 들어, 정수형 객체를 메모리상에서 표현하는 데 필요한 비트 수는 `bit_length()` 메서드를 호출해서 구할 수 있습니다."
   ]
  },
  {
   "cell_type": "code",
   "execution_count": 2,
   "metadata": {},
   "outputs": [
    {
     "data": {
      "text/plain": [
       "4"
      ]
     },
     "execution_count": 2,
     "metadata": {},
     "output_type": "execute_result"
    }
   ],
   "source": [
    "a.bit_length()"
   ]
  },
  {
   "attachments": {},
   "cell_type": "markdown",
   "metadata": {},
   "source": [
    "숫자가 커질수록 객체에 필요한 비트 수가 커지는 것을 확인할 수 있습니다."
   ]
  },
  {
   "cell_type": "code",
   "execution_count": 3,
   "metadata": {},
   "outputs": [
    {
     "data": {
      "text/plain": [
       "17"
      ]
     },
     "execution_count": 3,
     "metadata": {},
     "output_type": "execute_result"
    }
   ],
   "source": [
    "a = 100000\n",
    "a.bit_length()"
   ]
  },
  {
   "attachments": {},
   "cell_type": "markdown",
   "metadata": {},
   "source": [
    "클래스와 객체가 지닌 메서드의 수는 굉장히 많아서 메서드를 모두 외우는 것은 어렵습니다. IPython과 진보된 형태의 파이썬 개발 환경에서는 탭 키를 눌렀을 때 객체가 가진 메서드 등을 보여주는 자동완성 기능이 있습니다. 객체 이름을 입력하고 점을 찍은 후 탭 키를 누르면 그 객체가 가진 메서드 목록이 나타납니다. 파이썬 정수형의 특징은 크기 제한이 없다는 점입니다. 예를 들어 구골($10^{100}$)과 같은 큰 수도 파이썬에서는 문제 없이 사용할 수 있습니다."
   ]
  },
  {
   "cell_type": "code",
   "execution_count": 4,
   "metadata": {},
   "outputs": [
    {
     "data": {
      "text/plain": [
       "333"
      ]
     },
     "execution_count": 4,
     "metadata": {},
     "output_type": "execute_result"
    }
   ],
   "source": [
    "googol = 10 ** 100\n",
    "googol.bit_length()"
   ]
  },
  {
   "attachments": {},
   "cell_type": "markdown",
   "metadata": {},
   "source": [
    "> **TIP** 큰 정수  \n",
    "파이썬의 정수 크기는 제한이 없습니다. 파이썬 인터프리터는 숫자를 표시하기 위해 필요한 만큼의 비트/바이트를 얼마든지 사용할 수 있습니다.  \n",
    "\n",
    "\n",
    "정수의 산술 연산을 구현하는 것은 아주 쉽습니다."
   ]
  },
  {
   "cell_type": "code",
   "execution_count": 5,
   "metadata": {},
   "outputs": [
    {
     "data": {
      "text/plain": [
       "5"
      ]
     },
     "execution_count": 5,
     "metadata": {},
     "output_type": "execute_result"
    }
   ],
   "source": [
    "1 + 4"
   ]
  },
  {
   "cell_type": "code",
   "execution_count": 6,
   "metadata": {},
   "outputs": [
    {
     "data": {
      "text/plain": [
       "0.25"
      ]
     },
     "execution_count": 6,
     "metadata": {},
     "output_type": "execute_result"
    }
   ],
   "source": [
    "1 / 4"
   ]
  },
  {
   "cell_type": "code",
   "execution_count": 7,
   "metadata": {},
   "outputs": [
    {
     "data": {
      "text/plain": [
       "float"
      ]
     },
     "execution_count": 7,
     "metadata": {},
     "output_type": "execute_result"
    }
   ],
   "source": [
    "type(1 / 4)"
   ]
  },
  {
   "attachments": {},
   "cell_type": "markdown",
   "metadata": {},
   "source": [
    "### 3.1.2 부동소수점 (floating point)\n",
    "위 스크립트 중 마지막 표현식(1 / 4)은 0.25라는 수학적으로 올바른 답을 반환합니다. 이 답은 부동소수점 자료형입니다. 정수형 값에 `1.`이나 `1.0`과 같이 소수점을 붙이면 파이썬은 이를 부동소수점 객체로 인식합니다. 부동소수점을 포함한 식은 일반적으로 부동소수점을 반환합니다."
   ]
  },
  {
   "cell_type": "code",
   "execution_count": 8,
   "metadata": {},
   "outputs": [
    {
     "data": {
      "text/plain": [
       "0.4"
      ]
     },
     "execution_count": 8,
     "metadata": {},
     "output_type": "execute_result"
    }
   ],
   "source": [
    "1.6 / 4"
   ]
  },
  {
   "cell_type": "code",
   "execution_count": 9,
   "metadata": {},
   "outputs": [
    {
     "data": {
      "text/plain": [
       "float"
      ]
     },
     "execution_count": 9,
     "metadata": {},
     "output_type": "execute_result"
    }
   ],
   "source": [
    "type(1.6 / 4)"
   ]
  },
  {
   "attachments": {},
   "cell_type": "markdown",
   "metadata": {},
   "source": [
    "부동소수점은 유리수나 실수를 컴퓨터로 표현한 것이지만 정확한 값이 아니라 수치 오차가 있을 수 있으며 그 오차값도 기술적인 방식에 따라 달라질 수 있습니다. 다음 코드의 `b`를 예로 들면, 이런 부동소수점 객체는 항상 특정한 값 이하의 오차를 갖습니다. `b` 값에 `0.1`을 더해보면 이 점이 확실해집니다."
   ]
  },
  {
   "cell_type": "code",
   "execution_count": 10,
   "metadata": {},
   "outputs": [
    {
     "data": {
      "text/plain": [
       "float"
      ]
     },
     "execution_count": 10,
     "metadata": {},
     "output_type": "execute_result"
    }
   ],
   "source": [
    "b = 0.35\n",
    "type(b)"
   ]
  },
  {
   "cell_type": "code",
   "execution_count": 11,
   "metadata": {},
   "outputs": [
    {
     "data": {
      "text/plain": [
       "0.44999999999999996"
      ]
     },
     "execution_count": 11,
     "metadata": {},
     "output_type": "execute_result"
    }
   ],
   "source": [
    "b + 0.1"
   ]
  },
  {
   "attachments": {},
   "cell_type": "markdown",
   "metadata": {},
   "source": [
    "이러한 오차가 발생하는 이유는 부동소수점이 내부적으로 이진법을 사용하기 때문입니다. 예를 들어 0과 1 사이의 숫자는 $n = \\frac{x}{2} + \\frac{y}{4} + \\frac{z}{8} + \\cdots$와 같은 형식으로 표현됩니다. 숫자에 따라서는 유한 개의 분수의 합으로는 표현하지 못하는 무한수열이 될 수도 있습니다. 그러나 컴퓨터에서 사용할 수 있는 비트 수는 한정되어 있기 때문에 결과적으로는 부정확한 값을 가지게 됩니다. 값에 따라서는 운 좋게 유한 개의 비트로 표현이 가능해서 정확한 값을 가질 수도 있습니다. 다음 예를 보죠."
   ]
  },
  {
   "cell_type": "code",
   "execution_count": 12,
   "metadata": {},
   "outputs": [
    {
     "data": {
      "text/plain": [
       "(1, 2)"
      ]
     },
     "execution_count": 12,
     "metadata": {},
     "output_type": "execute_result"
    }
   ],
   "source": [
    "c = 0.5\n",
    "c.as_integer_ratio()"
   ]
  },
  {
   "attachments": {},
   "cell_type": "markdown",
   "metadata": {},
   "source": [
    "0.5는 이진법으로 표현할 수 있으므로 정확하게 저장할 수 있습니다. 그러나 0.35와 같은 숫자는 예상한 $0.35=\\frac{7}{20}$과는 다른 결과가 나옵니다."
   ]
  },
  {
   "cell_type": "code",
   "execution_count": 13,
   "metadata": {},
   "outputs": [
    {
     "data": {
      "text/plain": [
       "(3152519739159347, 9007199254740992)"
      ]
     },
     "execution_count": 13,
     "metadata": {},
     "output_type": "execute_result"
    }
   ],
   "source": [
    "b.as_integer_ratio()"
   ]
  },
  {
   "attachments": {},
   "cell_type": "markdown",
   "metadata": {},
   "source": [
    "정밀도는 그 수를 표현하기 위해 사용된 비트 수에 따라 달라집니다. 일반적으로 파이썬은 모든 플랫폼에서 부동소수점 내부 표현 방식으로 IEEE 754 배정도 표준을 사용합니다. 이는 15자리 상대정확도를 가집니다.  \n",
    "이 주제는 특히 금융 분야에서 중요하기 때문에 되도록이면 정확한 숫자 표현을 사용할 필요가 있습니다. 예를 들어 많은 숫자의 합계를 구하는 경우에 숫자 표현의 방식이나 정밀도에 따라 합계 오차가 심각하게 커질 수도 있습니다.  \n",
    "`decimal` 모듈을 사용하면 부동소수점을 임의의 정밀도로 표시할 수 있습니다. 또 이러한 숫자를 다룰 때 발생하는 정밀도와 관련된 문제를 처리하기 위한 옵션도 있습니다."
   ]
  },
  {
   "cell_type": "code",
   "execution_count": 14,
   "metadata": {},
   "outputs": [],
   "source": [
    "import decimal\n",
    "from decimal import Decimal"
   ]
  },
  {
   "cell_type": "code",
   "execution_count": 15,
   "metadata": {},
   "outputs": [
    {
     "data": {
      "text/plain": [
       "Context(prec=28, rounding=ROUND_HALF_EVEN, Emin=-999999, Emax=999999, capitals=1, clamp=0, flags=[], traps=[InvalidOperation, DivisionByZero, Overflow])"
      ]
     },
     "execution_count": 15,
     "metadata": {},
     "output_type": "execute_result"
    }
   ],
   "source": [
    "decimal.getcontext()"
   ]
  },
  {
   "cell_type": "code",
   "execution_count": 16,
   "metadata": {},
   "outputs": [
    {
     "data": {
      "text/plain": [
       "Decimal('0.09090909090909090909090909091')"
      ]
     },
     "execution_count": 16,
     "metadata": {},
     "output_type": "execute_result"
    }
   ],
   "source": [
    "d = Decimal(1) / Decimal(11)\n",
    "d"
   ]
  },
  {
   "attachments": {},
   "cell_type": "markdown",
   "metadata": {},
   "source": [
    "`Context` 객체의 속성값을 바꾸면 숫자 표현 정밀도를 바꿀 수 있습니다."
   ]
  },
  {
   "cell_type": "code",
   "execution_count": 17,
   "metadata": {},
   "outputs": [],
   "source": [
    "decimal.getcontext().prec = 4 # 디폴트보다 낮은 정밀도"
   ]
  },
  {
   "cell_type": "code",
   "execution_count": 18,
   "metadata": {},
   "outputs": [
    {
     "data": {
      "text/plain": [
       "Decimal('0.09091')"
      ]
     },
     "execution_count": 18,
     "metadata": {},
     "output_type": "execute_result"
    }
   ],
   "source": [
    "e = Decimal(1) / Decimal(11)\n",
    "e"
   ]
  },
  {
   "cell_type": "code",
   "execution_count": 19,
   "metadata": {},
   "outputs": [],
   "source": [
    "decimal.getcontext().prec = 50 # 디폴트보다 높은 정밀도"
   ]
  },
  {
   "cell_type": "code",
   "execution_count": 20,
   "metadata": {},
   "outputs": [
    {
     "data": {
      "text/plain": [
       "Decimal('0.090909090909090909090909090909090909090909090909091')"
      ]
     },
     "execution_count": 20,
     "metadata": {},
     "output_type": "execute_result"
    }
   ],
   "source": [
    "f = Decimal(1) / Decimal(11)\n",
    "f"
   ]
  },
  {
   "attachments": {},
   "cell_type": "markdown",
   "metadata": {},
   "source": [
    "이런 방식으로 필요에 따라 주어진 문제에 맞게 정밀도를 조절하면 됩니다. 서로 다른 정밀도를 가진 부동소수점에 대해 산술 연산을 하는 것도 가능합니다."
   ]
  },
  {
   "cell_type": "code",
   "execution_count": 21,
   "metadata": {},
   "outputs": [
    {
     "data": {
      "text/plain": [
       "Decimal('0.27272818181818181818181818181909090909090909090909')"
      ]
     },
     "execution_count": 21,
     "metadata": {},
     "output_type": "execute_result"
    }
   ],
   "source": [
    "g = d + e + f\n",
    "g"
   ]
  },
  {
   "attachments": {},
   "cell_type": "markdown",
   "metadata": {},
   "source": [
    "> **TIP** 임의 정밀도 부동소수점  \n",
    "`decimal` 모듈은 임의 정밀도 부동소수점 객체를 제공한다. 금융 분야에서는 때떄로 64비트 배정도 표준보다 높은 정밀도가 필요한 경우도 있을 수 있습니다."
   ]
  },
  {
   "attachments": {},
   "cell_type": "markdown",
   "metadata": {},
   "source": [
    "### 3.1.3 불리언\n",
    "프로그래밍에서는 (`4 > 3`, `(4 > 3) and (3 > 2)`) 같은 비교나 논리 연산을 해서 `True` 혹은 `False`라는 값을 출력으로 얻습니다. 이 값은 `def`, `for`, `if`와 같은 파이썬 키워드에 해당합니다. 파이썬의 전체 키워드 목록은 `keyword` 모듈을 사용해서 볼 수 있습니다."
   ]
  },
  {
   "cell_type": "code",
   "execution_count": 22,
   "metadata": {},
   "outputs": [],
   "source": [
    "import keyword"
   ]
  },
  {
   "cell_type": "code",
   "execution_count": 23,
   "metadata": {},
   "outputs": [
    {
     "data": {
      "text/plain": [
       "['False',\n",
       " 'None',\n",
       " 'True',\n",
       " '__peg_parser__',\n",
       " 'and',\n",
       " 'as',\n",
       " 'assert',\n",
       " 'async',\n",
       " 'await',\n",
       " 'break',\n",
       " 'class',\n",
       " 'continue',\n",
       " 'def',\n",
       " 'del',\n",
       " 'elif',\n",
       " 'else',\n",
       " 'except',\n",
       " 'finally',\n",
       " 'for',\n",
       " 'from',\n",
       " 'global',\n",
       " 'if',\n",
       " 'import',\n",
       " 'in',\n",
       " 'is',\n",
       " 'lambda',\n",
       " 'nonlocal',\n",
       " 'not',\n",
       " 'or',\n",
       " 'pass',\n",
       " 'raise',\n",
       " 'return',\n",
       " 'try',\n",
       " 'while',\n",
       " 'with',\n",
       " 'yield']"
      ]
     },
     "execution_count": 23,
     "metadata": {},
     "output_type": "execute_result"
    }
   ],
   "source": [
    "keyword.kwlist"
   ]
  },
  {
   "attachments": {},
   "cell_type": "markdown",
   "metadata": {},
   "source": [
    "`True`와 `False`는 불리언 값(Boolean value)을 뜻하는 `bool` 자료형입니다. 다음 코드에서는 파이썬의 비교 연산자를 적용한 여러 가지 예를 보여줍니다."
   ]
  },
  {
   "cell_type": "code",
   "execution_count": 24,
   "metadata": {},
   "outputs": [
    {
     "data": {
      "text/plain": [
       "True"
      ]
     },
     "execution_count": 24,
     "metadata": {},
     "output_type": "execute_result"
    }
   ],
   "source": [
    "4 > 3"
   ]
  },
  {
   "cell_type": "code",
   "execution_count": 25,
   "metadata": {},
   "outputs": [
    {
     "data": {
      "text/plain": [
       "bool"
      ]
     },
     "execution_count": 25,
     "metadata": {},
     "output_type": "execute_result"
    }
   ],
   "source": [
    "type(4 > 3)"
   ]
  },
  {
   "cell_type": "code",
   "execution_count": 26,
   "metadata": {},
   "outputs": [
    {
     "data": {
      "text/plain": [
       "bool"
      ]
     },
     "execution_count": 26,
     "metadata": {},
     "output_type": "execute_result"
    }
   ],
   "source": [
    "type(False)"
   ]
  },
  {
   "cell_type": "code",
   "execution_count": 27,
   "metadata": {},
   "outputs": [
    {
     "data": {
      "text/plain": [
       "True"
      ]
     },
     "execution_count": 27,
     "metadata": {},
     "output_type": "execute_result"
    }
   ],
   "source": [
    "4 >= 3"
   ]
  },
  {
   "cell_type": "code",
   "execution_count": 28,
   "metadata": {},
   "outputs": [
    {
     "data": {
      "text/plain": [
       "False"
      ]
     },
     "execution_count": 28,
     "metadata": {},
     "output_type": "execute_result"
    }
   ],
   "source": [
    "4 < 3"
   ]
  },
  {
   "cell_type": "code",
   "execution_count": 29,
   "metadata": {},
   "outputs": [
    {
     "data": {
      "text/plain": [
       "False"
      ]
     },
     "execution_count": 29,
     "metadata": {},
     "output_type": "execute_result"
    }
   ],
   "source": [
    "4 <= 3"
   ]
  },
  {
   "cell_type": "code",
   "execution_count": 30,
   "metadata": {},
   "outputs": [
    {
     "data": {
      "text/plain": [
       "False"
      ]
     },
     "execution_count": 30,
     "metadata": {},
     "output_type": "execute_result"
    }
   ],
   "source": [
    "4 == 3"
   ]
  },
  {
   "cell_type": "code",
   "execution_count": 31,
   "metadata": {},
   "outputs": [
    {
     "data": {
      "text/plain": [
       "True"
      ]
     },
     "execution_count": 31,
     "metadata": {},
     "output_type": "execute_result"
    }
   ],
   "source": [
    "4 != 3"
   ]
  },
  {
   "attachments": {},
   "cell_type": "markdown",
   "metadata": {},
   "source": [
    "논리 연산을 불리언 객체에 적용하면 불리언 객체를 얻을 수 있습니다."
   ]
  },
  {
   "cell_type": "code",
   "execution_count": 32,
   "metadata": {},
   "outputs": [
    {
     "data": {
      "text/plain": [
       "True"
      ]
     },
     "execution_count": 32,
     "metadata": {},
     "output_type": "execute_result"
    }
   ],
   "source": [
    "True and True"
   ]
  },
  {
   "cell_type": "code",
   "execution_count": 33,
   "metadata": {},
   "outputs": [
    {
     "data": {
      "text/plain": [
       "False"
      ]
     },
     "execution_count": 33,
     "metadata": {},
     "output_type": "execute_result"
    }
   ],
   "source": [
    "True and False"
   ]
  },
  {
   "cell_type": "code",
   "execution_count": 34,
   "metadata": {},
   "outputs": [
    {
     "data": {
      "text/plain": [
       "False"
      ]
     },
     "execution_count": 34,
     "metadata": {},
     "output_type": "execute_result"
    }
   ],
   "source": [
    "False and False"
   ]
  },
  {
   "cell_type": "code",
   "execution_count": 35,
   "metadata": {},
   "outputs": [
    {
     "data": {
      "text/plain": [
       "True"
      ]
     },
     "execution_count": 35,
     "metadata": {},
     "output_type": "execute_result"
    }
   ],
   "source": [
    "True or True"
   ]
  },
  {
   "cell_type": "code",
   "execution_count": 36,
   "metadata": {},
   "outputs": [
    {
     "data": {
      "text/plain": [
       "True"
      ]
     },
     "execution_count": 36,
     "metadata": {},
     "output_type": "execute_result"
    }
   ],
   "source": [
    "True or False"
   ]
  },
  {
   "cell_type": "code",
   "execution_count": 37,
   "metadata": {},
   "outputs": [
    {
     "data": {
      "text/plain": [
       "False"
      ]
     },
     "execution_count": 37,
     "metadata": {},
     "output_type": "execute_result"
    }
   ],
   "source": [
    "False or False"
   ]
  },
  {
   "cell_type": "code",
   "execution_count": 38,
   "metadata": {},
   "outputs": [
    {
     "data": {
      "text/plain": [
       "False"
      ]
     },
     "execution_count": 38,
     "metadata": {},
     "output_type": "execute_result"
    }
   ],
   "source": [
    "not True"
   ]
  },
  {
   "cell_type": "code",
   "execution_count": 39,
   "metadata": {},
   "outputs": [
    {
     "data": {
      "text/plain": [
       "True"
      ]
     },
     "execution_count": 39,
     "metadata": {},
     "output_type": "execute_result"
    }
   ],
   "source": [
    "not False"
   ]
  },
  {
   "cell_type": "code",
   "execution_count": 40,
   "metadata": {},
   "outputs": [
    {
     "data": {
      "text/plain": [
       "False"
      ]
     },
     "execution_count": 40,
     "metadata": {},
     "output_type": "execute_result"
    }
   ],
   "source": [
    "(4 > 3) and (2 > 3)"
   ]
  },
  {
   "cell_type": "code",
   "execution_count": 41,
   "metadata": {},
   "outputs": [
    {
     "data": {
      "text/plain": [
       "True"
      ]
     },
     "execution_count": 41,
     "metadata": {},
     "output_type": "execute_result"
    }
   ],
   "source": [
    "(4 == 3) or (2 != 3)"
   ]
  },
  {
   "cell_type": "code",
   "execution_count": 42,
   "metadata": {},
   "outputs": [
    {
     "data": {
      "text/plain": [
       "True"
      ]
     },
     "execution_count": 42,
     "metadata": {},
     "output_type": "execute_result"
    }
   ],
   "source": [
    "not (4 != 4)"
   ]
  },
  {
   "cell_type": "code",
   "execution_count": 43,
   "metadata": {},
   "outputs": [
    {
     "data": {
      "text/plain": [
       "False"
      ]
     },
     "execution_count": 43,
     "metadata": {},
     "output_type": "execute_result"
    }
   ],
   "source": [
    "(not (4 != 4)) and (2 == 3)"
   ]
  },
  {
   "attachments": {},
   "cell_type": "markdown",
   "metadata": {},
   "source": [
    "불리언 값의 응용 분야는 `if`와 `while`과 같은 파이썬 키워드와 같이 코드 흐름을 제어하는 것입니다(이 장 후반부에서 더 많은 예제를 볼 수 있습니다)."
   ]
  },
  {
   "cell_type": "code",
   "execution_count": 44,
   "metadata": {},
   "outputs": [
    {
     "name": "stdout",
     "output_type": "stream",
     "text": [
      "condition true\n"
     ]
    }
   ],
   "source": [
    "if 4 > 3:\n",
    "    print('condition true')"
   ]
  },
  {
   "cell_type": "code",
   "execution_count": 45,
   "metadata": {},
   "outputs": [
    {
     "name": "stdout",
     "output_type": "stream",
     "text": [
      "condition true, i = 0\n",
      "condition true, i = 1\n",
      "condition true, i = 2\n",
      "condition true, i = 3\n"
     ]
    }
   ],
   "source": [
    "i = 0\n",
    "while i < 4:\n",
    "    print('condition true, i =', i)\n",
    "    i += 1"
   ]
  },
  {
   "attachments": {},
   "cell_type": "markdown",
   "metadata": {},
   "source": [
    "파이썬은 수치적으로 `False` 값에 0을, `True` 값에 1을 대응시킵니다. 숫자를 불리언 객체로 바꿀 때는 `bool()` 함수를 사용합니다. 0을 넣으면 `False`, 다른 숫자를 넣으면 `True`를 반환합니다."
   ]
  },
  {
   "cell_type": "code",
   "execution_count": 46,
   "metadata": {},
   "outputs": [
    {
     "data": {
      "text/plain": [
       "1"
      ]
     },
     "execution_count": 46,
     "metadata": {},
     "output_type": "execute_result"
    }
   ],
   "source": [
    "int(True)"
   ]
  },
  {
   "cell_type": "code",
   "execution_count": 47,
   "metadata": {},
   "outputs": [
    {
     "data": {
      "text/plain": [
       "0"
      ]
     },
     "execution_count": 47,
     "metadata": {},
     "output_type": "execute_result"
    }
   ],
   "source": [
    "int(False)"
   ]
  },
  {
   "cell_type": "code",
   "execution_count": 48,
   "metadata": {},
   "outputs": [
    {
     "data": {
      "text/plain": [
       "1.0"
      ]
     },
     "execution_count": 48,
     "metadata": {},
     "output_type": "execute_result"
    }
   ],
   "source": [
    "float(True)"
   ]
  },
  {
   "cell_type": "code",
   "execution_count": 49,
   "metadata": {},
   "outputs": [
    {
     "data": {
      "text/plain": [
       "0.0"
      ]
     },
     "execution_count": 49,
     "metadata": {},
     "output_type": "execute_result"
    }
   ],
   "source": [
    "float(False)"
   ]
  },
  {
   "cell_type": "code",
   "execution_count": 50,
   "metadata": {},
   "outputs": [
    {
     "data": {
      "text/plain": [
       "False"
      ]
     },
     "execution_count": 50,
     "metadata": {},
     "output_type": "execute_result"
    }
   ],
   "source": [
    "bool(0)"
   ]
  },
  {
   "cell_type": "code",
   "execution_count": 51,
   "metadata": {},
   "outputs": [
    {
     "data": {
      "text/plain": [
       "False"
      ]
     },
     "execution_count": 51,
     "metadata": {},
     "output_type": "execute_result"
    }
   ],
   "source": [
    "bool(0.0)"
   ]
  },
  {
   "cell_type": "code",
   "execution_count": 52,
   "metadata": {},
   "outputs": [
    {
     "data": {
      "text/plain": [
       "True"
      ]
     },
     "execution_count": 52,
     "metadata": {},
     "output_type": "execute_result"
    }
   ],
   "source": [
    "bool(1)"
   ]
  },
  {
   "cell_type": "code",
   "execution_count": 53,
   "metadata": {},
   "outputs": [
    {
     "data": {
      "text/plain": [
       "True"
      ]
     },
     "execution_count": 53,
     "metadata": {},
     "output_type": "execute_result"
    }
   ],
   "source": [
    "bool(10.5)"
   ]
  },
  {
   "cell_type": "code",
   "execution_count": 54,
   "metadata": {},
   "outputs": [
    {
     "data": {
      "text/plain": [
       "True"
      ]
     },
     "execution_count": 54,
     "metadata": {},
     "output_type": "execute_result"
    }
   ],
   "source": [
    "bool(-2)"
   ]
  },
  {
   "attachments": {},
   "cell_type": "markdown",
   "metadata": {},
   "source": [
    "### 3.1.4 문자열\n",
    "지금까지 배운 내용으로 정수와 부동소수점을 표현할 수 있게 되었습니다. 다음으로 다룰 파이썬의 기본 자료형은 글자를 표현하는 문자열인 `str` 자료형입니다. 문자열 객체는 유용한 내장 메서드가 많습니다. 사실 종류나 크기에 상관없이 텍스트 파일을 다루는 일이라면 파이썬을 사용하는 것이 좋은 선택입니다. 문자열 객체는 큰따옴표, 작은따옴표로 정의하거나 `str()` 함수를 사용하여 다른 자료형 객체를 문자열로 변환하여 만듭니다(`str()` 함수를 이용한 변환 시에는 객체가 가진 표준 방식이나 사용자가 정의한 방식으로 문자열이 생성됩니다)."
   ]
  },
  {
   "cell_type": "code",
   "execution_count": 55,
   "metadata": {},
   "outputs": [],
   "source": [
    "t = 'this is a string object'"
   ]
  },
  {
   "attachments": {},
   "cell_type": "markdown",
   "metadata": {},
   "source": [
    "여러 가지 문자열 메서드 중에서 첫 번째 글자만 대문자로 만드는 메서드를 사용해봅시다."
   ]
  },
  {
   "cell_type": "code",
   "execution_count": 56,
   "metadata": {},
   "outputs": [
    {
     "data": {
      "text/plain": [
       "'This is a string object'"
      ]
     },
     "execution_count": 56,
     "metadata": {},
     "output_type": "execute_result"
    }
   ],
   "source": [
    "t.capitalize()"
   ]
  },
  {
   "attachments": {},
   "cell_type": "markdown",
   "metadata": {},
   "source": [
    "문자열을 단어별로 나누어 리스트 객체로 만들 수도 있습니다(리스트 객체에 대해서는 곧 설명할 것입니다)."
   ]
  },
  {
   "cell_type": "code",
   "execution_count": 57,
   "metadata": {},
   "outputs": [
    {
     "data": {
      "text/plain": [
       "['this', 'is', 'a', 'string', 'object']"
      ]
     },
     "execution_count": 57,
     "metadata": {},
     "output_type": "execute_result"
    }
   ],
   "source": [
    "t.split()"
   ]
  },
  {
   "attachments": {},
   "cell_type": "markdown",
   "metadata": {},
   "source": [
    "특정한 단어가 처음으로 나타나는 위치(인덱스)를 알아낼 수도 있어서 해당 단어를 검색할 수 있습니다."
   ]
  },
  {
   "cell_type": "code",
   "execution_count": 58,
   "metadata": {},
   "outputs": [
    {
     "data": {
      "text/plain": [
       "10"
      ]
     },
     "execution_count": 58,
     "metadata": {},
     "output_type": "execute_result"
    }
   ],
   "source": [
    "t.find('string')"
   ]
  },
  {
   "attachments": {},
   "cell_type": "markdown",
   "metadata": {},
   "source": [
    "만약 찾으려는 단어가 문자열 객체 내에 없다면 이 메서드는 `-1`을 반환합니다."
   ]
  },
  {
   "cell_type": "code",
   "execution_count": 59,
   "metadata": {},
   "outputs": [
    {
     "data": {
      "text/plain": [
       "-1"
      ]
     },
     "execution_count": 59,
     "metadata": {},
     "output_type": "execute_result"
    }
   ],
   "source": [
    "t.find('Python')"
   ]
  },
  {
   "attachments": {},
   "cell_type": "markdown",
   "metadata": {},
   "source": [
    "문자열 내의 특정한 글자를 치환하려면 `replace()` 메서드를 사용합니다."
   ]
  },
  {
   "cell_type": "code",
   "execution_count": 60,
   "metadata": {},
   "outputs": [
    {
     "data": {
      "text/plain": [
       "'this|is|a|string|object'"
      ]
     },
     "execution_count": 60,
     "metadata": {},
     "output_type": "execute_result"
    }
   ],
   "source": [
    "t.replace(' ', '|')"
   ]
  },
  {
   "attachments": {},
   "cell_type": "markdown",
   "metadata": {},
   "source": [
    "때로는 문자열 앞뒤 특정 문자를 없애야 할 경우도 있습니다."
   ]
  },
  {
   "cell_type": "code",
   "execution_count": 61,
   "metadata": {},
   "outputs": [
    {
     "data": {
      "text/plain": [
       "'www.python.org'"
      ]
     },
     "execution_count": 61,
     "metadata": {},
     "output_type": "execute_result"
    }
   ],
   "source": [
    "'http://www.python.org'.strip('htp:/')"
   ]
  },
  {
   "attachments": {},
   "cell_type": "markdown",
   "metadata": {},
   "source": [
    "아래 표는 문자열 객체가 가진 몇 가지 유용한 메서드 목록입니다.  \n",
    "\n",
    "|메서드|인수|반환값/결과|\n",
    "|---|---|---|\n",
    "|`captialize`|`()`|문자열의 첫 번째 문자를 대문자로 바꾼 문자열|\n",
    "|`count`|`(sub[, start[, end]])`|문자열이 나타난 횟수|\n",
    "|`decode`|`([encoding[, errors]])`|문자열을 디코딩한 결과|\n",
    "|`encode`|`([encoding[, errors]])`|문자열을 인코딩한 결과|\n",
    "|`find`|`(sub[, start[, end]])`|특정 문자열이 처음으로 나타난 위치|\n",
    "|`join`|`(seq)`|시퀀스 `seq`의 문자열을 이어 붙인 문자열|\n",
    "|`replace`|`(old, new[, count])`|문자열 `old`를 처음부터 `count` 수만큼 문자열 `new`로 치환|\n",
    "|`split`|`([sep[, maxsplit]])`|문자열을 `sep` 구분자로 구분한 리스트|\n",
    "|`splitlines`|`([keepends])`|문자열을 개행 구분자로 구분한 리스트. `keepends` 값이 `True`이면 개행 구분자를 남겨놓습니다.|\n",
    "|`strip`|`(chars)`|문자열 앞뒤에서 `chars` 글자를 없앤 문자열|\n",
    "|`upper`|`()`|모든 문자를 대문자로 변환한 문자열|  \n",
    "\n",
    "> **CAUTION**_ 유니코드 문자열   \n",
    "이 책의 초판에서 사용한 파이썬 2.7과 2판에서 사용한 파이썬 3.7의 근본적인 차이는 문자열 객체의 인코딩/디코딩과 유니코드의 도입입니다(http://bit.ly/1x41ytu). 이번 장에서는 이 주제를 더 깊이 다루지는 않습니다. 이 책의 목적상 숫자 데이터나 영어를 포함하는 표준 문자열만 다루기 때문에 상관없습니다."
   ]
  },
  {
   "attachments": {},
   "cell_type": "markdown",
   "metadata": {},
   "source": [
    "### 3.1.5 출력과 문자열 치환\n",
    "문자열 객체나 다른 파이썬 객체의 문자열을 출력할 때는 보통 `print()` 함수를 사용합니다."
   ]
  },
  {
   "cell_type": "code",
   "execution_count": 62,
   "metadata": {},
   "outputs": [
    {
     "name": "stdout",
     "output_type": "stream",
     "text": [
      "Python for Finance\n"
     ]
    }
   ],
   "source": [
    "print('Python for Finance')"
   ]
  },
  {
   "cell_type": "code",
   "execution_count": 63,
   "metadata": {},
   "outputs": [
    {
     "name": "stdout",
     "output_type": "stream",
     "text": [
      "this is a string object\n"
     ]
    }
   ],
   "source": [
    "print(t)"
   ]
  },
  {
   "cell_type": "code",
   "execution_count": 64,
   "metadata": {},
   "outputs": [
    {
     "name": "stdout",
     "output_type": "stream",
     "text": [
      "0\n",
      "1\n",
      "2\n",
      "3\n"
     ]
    }
   ],
   "source": [
    "i = 0\n",
    "while i < 4:\n",
    "    print(i)\n",
    "    i += 1"
   ]
  },
  {
   "cell_type": "code",
   "execution_count": 65,
   "metadata": {},
   "outputs": [
    {
     "name": "stdout",
     "output_type": "stream",
     "text": [
      "0|1|2|3|"
     ]
    }
   ],
   "source": [
    "i = 0\n",
    "while i < 4:\n",
    "    print(i, end='|') # 출력할 때 마지막 글자를 줄넘기기(\\n)가 아닌 다른 값으로 지정합니다\n",
    "    i += 1"
   ]
  },
  {
   "attachments": {},
   "cell_type": "markdown",
   "metadata": {},
   "source": [
    "파이썬은 강력한 문자열 치환 연산을 제공합니다. 구식 방법으로는 `%` 연산자를 이용할 수 있고 신식 방법으로는 중괄호와 `format()` 연산을 사용할 수 있습니다. 두 방법 모두 많이 사용됩니다. 이 절에서는 모든 옵션을 설명하지는 않을 것이고, 다음 예제 코드를 통해 몇 가지 중요한 방법만 보입니다. 먼저 구식 방법을 사용한 예입니다."
   ]
  },
  {
   "cell_type": "code",
   "execution_count": 66,
   "metadata": {},
   "outputs": [
    {
     "data": {
      "text/plain": [
       "'this is an integer 15'"
      ]
     },
     "execution_count": 66,
     "metadata": {},
     "output_type": "execute_result"
    }
   ],
   "source": [
    "'this is an integer %d' % 15 # 정수형 값 치환"
   ]
  },
  {
   "cell_type": "code",
   "execution_count": 67,
   "metadata": {},
   "outputs": [
    {
     "data": {
      "text/plain": [
       "'this is an integer   15'"
      ]
     },
     "execution_count": 67,
     "metadata": {},
     "output_type": "execute_result"
    }
   ],
   "source": [
    "'this is an integer %4d' % 15 # 글자 수 고정"
   ]
  },
  {
   "cell_type": "code",
   "execution_count": 68,
   "metadata": {},
   "outputs": [
    {
     "data": {
      "text/plain": [
       "'this is an integer 0015'"
      ]
     },
     "execution_count": 68,
     "metadata": {},
     "output_type": "execute_result"
    }
   ],
   "source": [
    "'this is an integer %04d' % 15 # 필요한 경우 앞에 0을 붙입니다"
   ]
  },
  {
   "cell_type": "code",
   "execution_count": 69,
   "metadata": {},
   "outputs": [
    {
     "data": {
      "text/plain": [
       "'this is a float 15.345600'"
      ]
     },
     "execution_count": 69,
     "metadata": {},
     "output_type": "execute_result"
    }
   ],
   "source": [
    "'this is a float %f' % 15.3456 # 부동소수점 값 치환"
   ]
  },
  {
   "cell_type": "code",
   "execution_count": 70,
   "metadata": {},
   "outputs": [
    {
     "data": {
      "text/plain": [
       "'this is a float 15.35'"
      ]
     },
     "execution_count": 70,
     "metadata": {},
     "output_type": "execute_result"
    }
   ],
   "source": [
    "'this is a float %.2f' % 15.3456 # 소수점 고정"
   ]
  },
  {
   "cell_type": "code",
   "execution_count": 71,
   "metadata": {},
   "outputs": [
    {
     "data": {
      "text/plain": [
       "'this is a float 15.345600'"
      ]
     },
     "execution_count": 71,
     "metadata": {},
     "output_type": "execute_result"
    }
   ],
   "source": [
    "'this is a float %8f' % 15.3456 # 글자 수 고정"
   ]
  },
  {
   "cell_type": "code",
   "execution_count": 72,
   "metadata": {},
   "outputs": [
    {
     "data": {
      "text/plain": [
       "'this is a float    15.35'"
      ]
     },
     "execution_count": 72,
     "metadata": {},
     "output_type": "execute_result"
    }
   ],
   "source": [
    "'this is a float %8.2f' % 15.3456 # 글자 수와 소수점 고정"
   ]
  },
  {
   "cell_type": "code",
   "execution_count": 73,
   "metadata": {},
   "outputs": [
    {
     "data": {
      "text/plain": [
       "'this is a float 00015.35'"
      ]
     },
     "execution_count": 73,
     "metadata": {},
     "output_type": "execute_result"
    }
   ],
   "source": [
    "'this is a float %08.2f' % 15.3456 # 글자 수와 소수점을 고정하고 필요한 경우 앞에 0을 붙입니다"
   ]
  },
  {
   "cell_type": "code",
   "execution_count": 74,
   "metadata": {},
   "outputs": [
    {
     "data": {
      "text/plain": [
       "'this is a string Python'"
      ]
     },
     "execution_count": 74,
     "metadata": {},
     "output_type": "execute_result"
    }
   ],
   "source": [
    "'this is a string %s' % 'Python' # 문자열 치환"
   ]
  },
  {
   "cell_type": "code",
   "execution_count": 75,
   "metadata": {},
   "outputs": [
    {
     "data": {
      "text/plain": [
       "'this is a string     Python'"
      ]
     },
     "execution_count": 75,
     "metadata": {},
     "output_type": "execute_result"
    }
   ],
   "source": [
    "'this is a string %10s' % 'Python' # 글자 수 고정"
   ]
  },
  {
   "attachments": {},
   "cell_type": "markdown",
   "metadata": {},
   "source": [
    "다음은 신식 방법으로 구현한 예입니다. 구식 방법과 비교하면 출력에서 약간의 차이가 있습니다."
   ]
  },
  {
   "cell_type": "code",
   "execution_count": 76,
   "metadata": {},
   "outputs": [
    {
     "data": {
      "text/plain": [
       "'this is an integer 15'"
      ]
     },
     "execution_count": 76,
     "metadata": {},
     "output_type": "execute_result"
    }
   ],
   "source": [
    "'this is an integer {:d}'.format(15)"
   ]
  },
  {
   "cell_type": "code",
   "execution_count": 77,
   "metadata": {},
   "outputs": [
    {
     "data": {
      "text/plain": [
       "'this is an integer   15'"
      ]
     },
     "execution_count": 77,
     "metadata": {},
     "output_type": "execute_result"
    }
   ],
   "source": [
    "'this is an integer {:4d}'.format(15)"
   ]
  },
  {
   "cell_type": "code",
   "execution_count": 78,
   "metadata": {},
   "outputs": [
    {
     "data": {
      "text/plain": [
       "'this is an integer 0015'"
      ]
     },
     "execution_count": 78,
     "metadata": {},
     "output_type": "execute_result"
    }
   ],
   "source": [
    "'this is an integer {:04d}'.format(15)"
   ]
  },
  {
   "cell_type": "code",
   "execution_count": 79,
   "metadata": {},
   "outputs": [
    {
     "data": {
      "text/plain": [
       "'this is a float 15.345600'"
      ]
     },
     "execution_count": 79,
     "metadata": {},
     "output_type": "execute_result"
    }
   ],
   "source": [
    "'this is a float {:f}'.format(15.3456)"
   ]
  },
  {
   "cell_type": "code",
   "execution_count": 80,
   "metadata": {},
   "outputs": [
    {
     "data": {
      "text/plain": [
       "'this is a float 15.35'"
      ]
     },
     "execution_count": 80,
     "metadata": {},
     "output_type": "execute_result"
    }
   ],
   "source": [
    "'this is a float {:.2f}'.format(15.3456)"
   ]
  },
  {
   "cell_type": "code",
   "execution_count": 81,
   "metadata": {},
   "outputs": [
    {
     "data": {
      "text/plain": [
       "'this is a float 15.345600'"
      ]
     },
     "execution_count": 81,
     "metadata": {},
     "output_type": "execute_result"
    }
   ],
   "source": [
    "'this is a float {:8f}'.format(15.3456)"
   ]
  },
  {
   "cell_type": "code",
   "execution_count": 82,
   "metadata": {},
   "outputs": [
    {
     "data": {
      "text/plain": [
       "'this is a float    15.35'"
      ]
     },
     "execution_count": 82,
     "metadata": {},
     "output_type": "execute_result"
    }
   ],
   "source": [
    "'this is a float {:8.2f}'.format(15.3456)"
   ]
  },
  {
   "cell_type": "code",
   "execution_count": 83,
   "metadata": {},
   "outputs": [
    {
     "data": {
      "text/plain": [
       "'this is a float 00015.35'"
      ]
     },
     "execution_count": 83,
     "metadata": {},
     "output_type": "execute_result"
    }
   ],
   "source": [
    "'this is a float {:08.2f}'.format(15.3456)"
   ]
  },
  {
   "cell_type": "code",
   "execution_count": 84,
   "metadata": {},
   "outputs": [
    {
     "data": {
      "text/plain": [
       "'this is a string Python'"
      ]
     },
     "execution_count": 84,
     "metadata": {},
     "output_type": "execute_result"
    }
   ],
   "source": [
    "'this is a string {:s}'.format('Python')"
   ]
  },
  {
   "cell_type": "code",
   "execution_count": 85,
   "metadata": {},
   "outputs": [
    {
     "data": {
      "text/plain": [
       "'this is a string Python    '"
      ]
     },
     "execution_count": 85,
     "metadata": {},
     "output_type": "execute_result"
    }
   ],
   "source": [
    "'this is a string {:10s}'.format('Python')"
   ]
  },
  {
   "attachments": {},
   "cell_type": "markdown",
   "metadata": {},
   "source": [
    "문자열 치환은 `while`문 등에서 데이터를 바꿔가면서 출력을 반복할 경우 특히 유용합니다."
   ]
  },
  {
   "cell_type": "code",
   "execution_count": 86,
   "metadata": {},
   "outputs": [
    {
     "name": "stdout",
     "output_type": "stream",
     "text": [
      "the number is 0\n",
      "the number is 1\n",
      "the number is 2\n",
      "the number is 3\n"
     ]
    }
   ],
   "source": [
    "i = 0\n",
    "while i < 4:\n",
    "    print('the number is %d' % i)\n",
    "    i += 1"
   ]
  },
  {
   "cell_type": "code",
   "execution_count": 87,
   "metadata": {},
   "outputs": [
    {
     "name": "stdout",
     "output_type": "stream",
     "text": [
      "the number is 0\n",
      "the number is 1\n",
      "the number is 2\n",
      "the number is 3\n"
     ]
    }
   ],
   "source": [
    "i = 0\n",
    "while i < 4:\n",
    "    print('the number is {:d}'.format(i))\n",
    "    i += 1"
   ]
  },
  {
   "attachments": {},
   "cell_type": "markdown",
   "metadata": {},
   "source": [
    "### 3.1.6 정규표현식\n",
    "문자열 객체를 다루는 강력한 도구는 정규표현식(regular expression)입니다. 파이썬은 `re`라는 정규표현식 모듈을 제공합니다."
   ]
  },
  {
   "cell_type": "code",
   "execution_count": 88,
   "metadata": {},
   "outputs": [],
   "source": [
    "import re"
   ]
  },
  {
   "attachments": {},
   "cell_type": "markdown",
   "metadata": {},
   "source": [
    "시계열이나 날짜/시간 정보를 가진 csv 파일과 같은 큰 크기의 텍스트 파일이 있다고 하죠. 보통 이런 파일의 날짜/시간 정보는 파이썬이 직접 해석하기는 힘들지만 정규표현식으로 기술하는 것은 가능합니다. 예를 들어 다음과 같이 3개의 정수와 3개의 문자열로 표시된 날짜/시간 정보가 있다고 해보겠습니다. 3개의 연속 큰따옴표를 사용하면 여러 줄에 걸친 문자열을 정의하는 것이 가능합니다."
   ]
  },
  {
   "cell_type": "code",
   "execution_count": 89,
   "metadata": {},
   "outputs": [],
   "source": [
    "series = \"\"\"\n",
    "'01/18/2014 13:00:00', 100, '1st';\n",
    "'01/18/2014 13:30:00', 110, '2nd';\n",
    "'01/18/2014 14:00:00', 120, '3rd'\n",
    "\"\"\""
   ]
  },
  {
   "attachments": {},
   "cell_type": "markdown",
   "metadata": {},
   "source": [
    "다음 정규표현식을 쓰면 앞의 날짜/시간 부분만을 구분하여 기술하는 것이 가능합니다.  \n",
    "> 이 책에서 정규표현식을 더 자세히 다루기는 어렵습니다. 인터넷에 정규표현식과 파이썬에서 정규표현식을 사용하는 방법에 대한 정보가 이미 많습니다. 입문용으로는 '처음 시작하는 정규표현식: 언어와 플랫폼을 뛰어넘는 정규표현식을 만나다'(한빛미디어, 2013) 등을 참고해도 좋습니다."
   ]
  },
  {
   "cell_type": "code",
   "execution_count": 90,
   "metadata": {},
   "outputs": [],
   "source": [
    "dt = re.compile(\"'[0-9/:\\s]+'\") # 날짜/시간"
   ]
  },
  {
   "cell_type": "code",
   "execution_count": 91,
   "metadata": {},
   "outputs": [
    {
     "data": {
      "text/plain": [
       "[\"'01/18/2014 13:00:00'\", \"'01/18/2014 13:30:00'\", \"'01/18/2014 14:00:00'\"]"
      ]
     },
     "execution_count": 91,
     "metadata": {},
     "output_type": "execute_result"
    }
   ],
   "source": [
    "result = dt.findall(series)\n",
    "result"
   ]
  },
  {
   "attachments": {},
   "cell_type": "markdown",
   "metadata": {},
   "source": [
    "> **TIP** 정규표현식  \n",
    "문자열을 파싱할 때는 정규표현식 사용을 고려해보세요. 성능과 편의성을 높일 수 있습니다.  \n",
    "\n",
    "정규표현식으로 찾은 문자열은 파이썬 `datetime` 객체로 변환할 수 있습니다(파이썬에서 시간과 날짜를 다루는 방법에 대해서는 [부록 A]를 참조하세요). 문자열을 파싱해서 날짜/시간 정보를 알아낼 때는 구체적으로 어떻게 파싱해야 하는지를 지정해야 합니다."
   ]
  },
  {
   "cell_type": "code",
   "execution_count": 92,
   "metadata": {},
   "outputs": [
    {
     "data": {
      "text/plain": [
       "datetime.datetime(2014, 1, 18, 13, 0)"
      ]
     },
     "execution_count": 92,
     "metadata": {},
     "output_type": "execute_result"
    }
   ],
   "source": [
    "from datetime import datetime\n",
    "pydt = datetime.strptime(result[0].replace(\"'\", \"\"), '%m/%d/%Y %H:%M:%S')\n",
    "pydt"
   ]
  },
  {
   "cell_type": "code",
   "execution_count": 93,
   "metadata": {},
   "outputs": [
    {
     "name": "stdout",
     "output_type": "stream",
     "text": [
      "2014-01-18 13:00:00\n"
     ]
    }
   ],
   "source": [
    "print(pydt)"
   ]
  },
  {
   "cell_type": "code",
   "execution_count": 94,
   "metadata": {},
   "outputs": [
    {
     "name": "stdout",
     "output_type": "stream",
     "text": [
      "<class 'datetime.datetime'>\n"
     ]
    }
   ],
   "source": [
    "print(type(pydt))"
   ]
  },
  {
   "attachments": {},
   "cell_type": "markdown",
   "metadata": {},
   "source": [
    "날짜/시간 정보는 금융 분야에서 중요하기 때문에 뒤에서 날짜/시간 정보를 다루는 `datetime` 객체와 메서드를 다시 자세히 설명하겠습니다."
   ]
  },
  {
   "attachments": {},
   "cell_type": "markdown",
   "metadata": {},
   "source": [
    "## 3.2 기본 자료구조\n",
    "### 3.2.1 튜플\n",
    "튜플은 고급 자료구조이지만 아주 단순하며 활용이 제한됩니다. 튜플을 만들려면 원소가 될 객체를 괄호 안에 넣거나, 괄호 없이 그냥 여러 개의 객체를 쉼표로 연결해도 됩니다."
   ]
  },
  {
   "cell_type": "code",
   "execution_count": 95,
   "metadata": {},
   "outputs": [
    {
     "data": {
      "text/plain": [
       "tuple"
      ]
     },
     "execution_count": 95,
     "metadata": {},
     "output_type": "execute_result"
    }
   ],
   "source": [
    "t = (1, 2.5, 'data')\n",
    "type(t)"
   ]
  },
  {
   "cell_type": "code",
   "execution_count": 96,
   "metadata": {},
   "outputs": [
    {
     "data": {
      "text/plain": [
       "tuple"
      ]
     },
     "execution_count": 96,
     "metadata": {},
     "output_type": "execute_result"
    }
   ],
   "source": [
    "t = 1, 2.5, 'data'\n",
    "type(t)"
   ]
  },
  {
   "attachments": {},
   "cell_type": "markdown",
   "metadata": {},
   "source": [
    "파이썬의 다른 자료구조와 마찬가지로 튜플도 인덱스를 내장하고 있습니다. 인덱스를 사용하면 튜플에 속한 한 개 혹은 여러 개의 원소를 참조하는 것이 가능합니다. 주의할 점은 파이썬에서는 인덱스가 0부터 시작(**0 기반 인덱스**)한다는 점입니다. 따라서 세 번째 원소는 인덱스가 2입니다."
   ]
  },
  {
   "cell_type": "code",
   "execution_count": 97,
   "metadata": {},
   "outputs": [
    {
     "data": {
      "text/plain": [
       "'data'"
      ]
     },
     "execution_count": 97,
     "metadata": {},
     "output_type": "execute_result"
    }
   ],
   "source": [
    "t[2]"
   ]
  },
  {
   "cell_type": "code",
   "execution_count": 98,
   "metadata": {},
   "outputs": [
    {
     "data": {
      "text/plain": [
       "str"
      ]
     },
     "execution_count": 98,
     "metadata": {},
     "output_type": "execute_result"
    }
   ],
   "source": [
    "type(t[2])"
   ]
  },
  {
   "attachments": {},
   "cell_type": "markdown",
   "metadata": {},
   "source": [
    "> **TIP** 0 기반 인덱스  \n",
    "매트랩과 같은 프로그래밍 언어와 달리 파이썬은 0 기반 숫자 체계를 사용합니다. 따라서 튜플 객체의 첫 번째 원소의 인덱스는 0입니다.  \n",
    "\n",
    "튜플 객체는 `count()`와 `index()` 메서드만을 제공합니다. 전자는 튜플 내에 특정한 객체가 몇 개 있는지 세는 메서드이고, 후자는 특정한 객체가 처음으로 나타나는 위치를 표시하는 인덱스를 반환하는 메서드입니다."
   ]
  },
  {
   "cell_type": "code",
   "execution_count": 99,
   "metadata": {},
   "outputs": [
    {
     "data": {
      "text/plain": [
       "1"
      ]
     },
     "execution_count": 99,
     "metadata": {},
     "output_type": "execute_result"
    }
   ],
   "source": [
    "t.count('data')"
   ]
  },
  {
   "cell_type": "code",
   "execution_count": 100,
   "metadata": {},
   "outputs": [
    {
     "data": {
      "text/plain": [
       "0"
      ]
     },
     "execution_count": 100,
     "metadata": {},
     "output_type": "execute_result"
    }
   ],
   "source": [
    "t.index(1)"
   ]
  },
  {
   "attachments": {},
   "cell_type": "markdown",
   "metadata": {},
   "source": [
    "튜플 객체는 불변(immutable) 객체로 한 번 정의하면 바꿀 수가 없기 때문에 유연성이 떨어집니다.\n",
    "### 3.2.2 리스트\n",
    "리스트 자료형은 튜플보다 훨씬 유연하고 강력합니다. 리스트 객체는 대괄호를 사용하여 정의하며, 기본적인 기능은 튜플과 유사합니다."
   ]
  },
  {
   "cell_type": "code",
   "execution_count": 101,
   "metadata": {},
   "outputs": [
    {
     "data": {
      "text/plain": [
       "'data'"
      ]
     },
     "execution_count": 101,
     "metadata": {},
     "output_type": "execute_result"
    }
   ],
   "source": [
    "l = [1, 2.5, 'data']\n",
    "l[2]"
   ]
  },
  {
   "attachments": {},
   "cell_type": "markdown",
   "metadata": {},
   "source": [
    "`list()` 함수를 사용하여 리스트 객체를 생성하거나 다른 자료형 객체를 리스트로 변환할 수 있습니다. 다음은 앞의 예제에서 만든 튜플 객체를 리스트 객체로 바꾸는 코드입니다."
   ]
  },
  {
   "cell_type": "code",
   "execution_count": 102,
   "metadata": {},
   "outputs": [
    {
     "data": {
      "text/plain": [
       "[1, 2.5, 'data']"
      ]
     },
     "execution_count": 102,
     "metadata": {},
     "output_type": "execute_result"
    }
   ],
   "source": [
    "l = list(t)\n",
    "l"
   ]
  },
  {
   "cell_type": "code",
   "execution_count": 103,
   "metadata": {},
   "outputs": [
    {
     "data": {
      "text/plain": [
       "list"
      ]
     },
     "execution_count": 103,
     "metadata": {},
     "output_type": "execute_result"
    }
   ],
   "source": [
    "type(l)"
   ]
  },
  {
   "attachments": {},
   "cell_type": "markdown",
   "metadata": {},
   "source": [
    "리스트 객체는 여러 가지 메서드를 이용하여 확장, 축소하는 것이 가능합니다. 문자열과 튜플 객체는 불변 시퀀스 객체이며 한 번 정의하면 원소를 변경할 수 없지만, 리스트 객체는 가변(mutable) 시퀀스 객체로 원소를 변경할 수 있습니다. 리스트 객체를 다른 리스트 객체의 원소로 추가하는 것도 가능합니다."
   ]
  },
  {
   "cell_type": "code",
   "execution_count": 104,
   "metadata": {},
   "outputs": [
    {
     "data": {
      "text/plain": [
       "[1, 2.5, 'data', [4, 3]]"
      ]
     },
     "execution_count": 104,
     "metadata": {},
     "output_type": "execute_result"
    }
   ],
   "source": [
    "l.append([4, 3]) # 리스트 끝에 원소 추가\n",
    "l"
   ]
  },
  {
   "cell_type": "code",
   "execution_count": 105,
   "metadata": {},
   "outputs": [
    {
     "data": {
      "text/plain": [
       "[1, 2.5, 'data', [4, 3], 1.0, 1.5, 2.0]"
      ]
     },
     "execution_count": 105,
     "metadata": {},
     "output_type": "execute_result"
    }
   ],
   "source": [
    "l.extend([1.0, 1.5, 2.0]) # 리스트 자료형인 원소 추가\n",
    "l"
   ]
  },
  {
   "cell_type": "code",
   "execution_count": 106,
   "metadata": {},
   "outputs": [
    {
     "data": {
      "text/plain": [
       "[1, 'insert', 2.5, 'data', [4, 3], 1.0, 1.5, 2.0]"
      ]
     },
     "execution_count": 106,
     "metadata": {},
     "output_type": "execute_result"
    }
   ],
   "source": [
    "l.insert(1, 'insert') # 특정 인덱스 앞에 원소 추가\n",
    "l"
   ]
  },
  {
   "cell_type": "code",
   "execution_count": 107,
   "metadata": {},
   "outputs": [
    {
     "data": {
      "text/plain": [
       "[1, 'insert', 2.5, [4, 3], 1.0, 1.5, 2.0]"
      ]
     },
     "execution_count": 107,
     "metadata": {},
     "output_type": "execute_result"
    }
   ],
   "source": [
    "l.remove('data') # 처음으로 나타나는 특정 원소 삭제\n",
    "l"
   ]
  },
  {
   "cell_type": "code",
   "execution_count": 108,
   "metadata": {},
   "outputs": [
    {
     "name": "stdout",
     "output_type": "stream",
     "text": [
      "[1, 'insert', 2.5, 1.0, 1.5, 2.0] [4, 3]\n"
     ]
    }
   ],
   "source": [
    "p = l.pop(3) # 특정 인덱스의 원소를 삭제하고 그 값을 반환\n",
    "print(l, p)"
   ]
  },
  {
   "attachments": {},
   "cell_type": "markdown",
   "metadata": {},
   "source": [
    "슬라이싱(slicing)은 자료 모음을 더 작은 자료모음으로 나누는 작업을 말하며 다음과 같이 수행합니다."
   ]
  },
  {
   "cell_type": "code",
   "execution_count": 109,
   "metadata": {},
   "outputs": [
    {
     "data": {
      "text/plain": [
       "[2.5, 1.0, 1.5]"
      ]
     },
     "execution_count": 109,
     "metadata": {},
     "output_type": "execute_result"
    }
   ],
   "source": [
    "l[2:5]"
   ]
  },
  {
   "attachments": {},
   "cell_type": "markdown",
   "metadata": {},
   "source": [
    "세 번째부터 다섯 번째 원소를 반환했습니다.  \n",
    "리스트 객체가 가진 몇 가지 유용한 메서드 목록을 요약하면 다음 표와 같습니다.  \n",
    "\n",
    "|메서드|인수|반환값/결과|\n",
    "|---|---|---|\n",
    "|`l[i] = x`|`[i]`|인덱스가 `i`인 원소를 `x`로 바꿉니다.|\n",
    "|`l[i:j:k] = s`|`[i:j:k]`|인덱스가 `i`부터 `j-1`까지 `k`개 간격의 원소를 `s`로 바꿉니다.|\n",
    "|`append`|`(x)`|원소 `x`를 추가합니다.|\n",
    "|`count`|`(x)`|원소 `x`가 포함된 수를 셉니다.|\n",
    "|`del l[i:j:k]`|`[i:j:k]`|인덱스 `i`부터 `j-1`까지 `k`개 간격의 원소를 삭제합니다.|\n",
    "|`extend`|`(s)`|`s`의 모든 원소를 주어진 리스트 객체의 원소로 추가합니다.|\n",
    "|`index`|`(x[, i[, j]])`|인덱스 `i`부터 `j-1` 사이인 원소 중 `x` 값이 처음으로 나타나는 위치|\n",
    "|`insert`|`(i, x)`|`x`를 인덱스 `i` 위치에 삽입|\n",
    "|`remove`|`(i)`|인덱스 `i` 위치의 원소를 삭제|\n",
    "|`pop`|`(i)`|인덱스 `i` 위치의 원소를 삭제하고 그 값을 반환|\n",
    "|`reverse`|`()`|모든 원소의 위치를 뒤바꿈(반전)|\n",
    "|`sort`|`([cmp[, key[, reverse]]])`|모든 원소를 재정렬|  \n",
    "\n"
   ]
  },
  {
   "attachments": {},
   "cell_type": "markdown",
   "metadata": {},
   "source": [
    "### 3.2.3 제어구조\n",
    "파이썬의 제어구조(control structure), 특히 반복문은 리스트 자료형과 함께 살펴보는 것이 가장 좋습니다. 다른 언어와 달리 파이썬에서는 대부분의 반복문이 특정한 리스트 객체에 기반하여 실행되기 때문입니다.  \n",
    "다음 예를 보죠. 리스트 객체 `l`의 인덱스 2부터 4까지의 원소에 대해 `for` 문이 실행되며 각 원소의 제곱을 출력합니다. 두 번째 줄에 들여쓰기가 적용된 것을 주의해야 합니다."
   ]
  },
  {
   "cell_type": "code",
   "execution_count": 110,
   "metadata": {},
   "outputs": [
    {
     "name": "stdout",
     "output_type": "stream",
     "text": [
      "6.25\n",
      "1.0\n",
      "2.25\n"
     ]
    }
   ],
   "source": [
    "for element in l[2:5]:\n",
    "    print(element ** 2)"
   ]
  },
  {
   "attachments": {},
   "cell_type": "markdown",
   "metadata": {},
   "source": [
    "이 방식은 일반적으로 사용하는 카운터 변수를 사용한 반복문 방식에 비해 유연성이 아주 높습니다. 파이썬에서도 카운터 변수를 사용하는 것이 불가능하지는 않지만 보통 `range` 객체로 생성한 카운터 변수용 리스트를 다음과 같이 사용하는 것이 일반적입니다."
   ]
  },
  {
   "cell_type": "code",
   "execution_count": 111,
   "metadata": {},
   "outputs": [
    {
     "data": {
      "text/plain": [
       "range(0, 8)"
      ]
     },
     "execution_count": 111,
     "metadata": {},
     "output_type": "execute_result"
    }
   ],
   "source": [
    "r = range(0, 8, 1)\n",
    "r"
   ]
  },
  {
   "cell_type": "code",
   "execution_count": 112,
   "metadata": {},
   "outputs": [
    {
     "data": {
      "text/plain": [
       "range"
      ]
     },
     "execution_count": 112,
     "metadata": {},
     "output_type": "execute_result"
    }
   ],
   "source": [
    "type(r)"
   ]
  },
  {
   "cell_type": "code",
   "execution_count": 113,
   "metadata": {},
   "outputs": [
    {
     "name": "stdout",
     "output_type": "stream",
     "text": [
      "6.25\n",
      "1.0\n",
      "2.25\n"
     ]
    }
   ],
   "source": [
    "for i in range(2, 5):\n",
    "    print(l[i] ** 2)"
   ]
  },
  {
   "attachments": {},
   "cell_type": "markdown",
   "metadata": {},
   "source": [
    "> **TIP** 리스트에 기반한 반복문  \n",
    "파이썬에서는 리스트 원소가 무엇이든 임의의 리스트 객체이 기반하여 반복문을 실행할 수 있습니다. 따라서 카운터 변수를 사용할 필요가 없습니다.  \n",
    "\n",
    "파이썬에서도 `if`, `elif`, `else`와 같은 조건 제어 구문을 사용할 수 있습니다. 사용법은 다른 프로그래밍 언어와 유사합니다."
   ]
  },
  {
   "cell_type": "code",
   "execution_count": 114,
   "metadata": {},
   "outputs": [
    {
     "name": "stdout",
     "output_type": "stream",
     "text": [
      "1 is odd\n",
      "2 is even\n",
      "3 is multiple of 3\n",
      "4 is even\n",
      "5 is odd\n",
      "6 is even\n",
      "7 is odd\n",
      "8 is even\n",
      "9 is multiple of 3\n"
     ]
    }
   ],
   "source": [
    "for i in range(1, 10):\n",
    "    if i % 2 == 0:\n",
    "        print(\"%d is even\" % i)\n",
    "    elif i % 3 == 0:\n",
    "        print(\"%d is multiple of 3\" % i)\n",
    "    else:\n",
    "        print(\"%d is odd\" % i)"
   ]
  },
  {
   "cell_type": "code",
   "execution_count": 115,
   "metadata": {},
   "outputs": [
    {
     "name": "stdout",
     "output_type": "stream",
     "text": [
      "100\n"
     ]
    }
   ],
   "source": [
    "total = 0\n",
    "while total < 100:\n",
    "    total += 1\n",
    "print(total)"
   ]
  },
  {
   "attachments": {},
   "cell_type": "markdown",
   "metadata": {},
   "source": [
    "파이썬만의 고유한 반복문 방식으로 리스트 조건제시법(list comprehension)이 있습니다. 새로운 리스트 객체를 만들 때 외부에서 반복문을 돌리면서 이미 존재하는 리스트 객체에 원소를 추가하거나 수정하는 것이 아니라 더 간결한 방식으로 반복문에 기반한 리스트를 직접 생성하는 방법입니다."
   ]
  },
  {
   "cell_type": "code",
   "execution_count": 116,
   "metadata": {},
   "outputs": [
    {
     "data": {
      "text/plain": [
       "[0, 1, 4, 9, 16]"
      ]
     },
     "execution_count": 116,
     "metadata": {},
     "output_type": "execute_result"
    }
   ],
   "source": [
    "m = [i ** 2 for i in range(5)]\n",
    "m"
   ]
  },
  {
   "attachments": {},
   "cell_type": "markdown",
   "metadata": {},
   "source": [
    "리스트 조건제시법은 반복문을 외부에 명시적으로 만들지 않기 때문에 어떤 의미로는 코드 벡터화와 유사합니다(코드 벡터화는 4장과 5장에서 자세히 다룹니다).\n",
    "\n",
    "### 3.2.4 함수형 프로그래밍\n",
    "파이썬은 함수형 프로그래밍을 위한 `filter()`, `map()`, `reduce()`와 같은 도구를 제공합니다. 이들을 사용하면 입력값에 대해 함수를 적용하는 작업을 효율적으로 할 수 있습니다. 우선 함수를 정의해보죠. 입력 변수 `x`의 제곱을 출력하는 가장 간단한 함수 `f()`를 만들어보겠습니다."
   ]
  },
  {
   "cell_type": "code",
   "execution_count": 117,
   "metadata": {},
   "outputs": [
    {
     "data": {
      "text/plain": [
       "4"
      ]
     },
     "execution_count": 117,
     "metadata": {},
     "output_type": "execute_result"
    }
   ],
   "source": [
    "def f(x):\n",
    "    return x ** 2\n",
    "f(2)"
   ]
  },
  {
   "attachments": {},
   "cell_type": "markdown",
   "metadata": {},
   "source": [
    "물론 복수의 입출력 인수를 가지는 훨씬 더 복잡한 함수를 만드는 것도 가능합니다. 다음 코드처럼 함수를 만듭니다."
   ]
  },
  {
   "cell_type": "code",
   "execution_count": 118,
   "metadata": {},
   "outputs": [
    {
     "data": {
      "text/plain": [
       "False"
      ]
     },
     "execution_count": 118,
     "metadata": {},
     "output_type": "execute_result"
    }
   ],
   "source": [
    "def even(x):\n",
    "    return x % 2 == 0\n",
    "even(3)"
   ]
  },
  {
   "attachments": {},
   "cell_type": "markdown",
   "metadata": {},
   "source": [
    "이 함수는 불리언 값을 반환합니다. `map()` 함수를 사용하면 리스트 객체의 모든 원소에 대해 각각 함수를 적용할 수 있습니다."
   ]
  },
  {
   "cell_type": "code",
   "execution_count": 119,
   "metadata": {},
   "outputs": [
    {
     "data": {
      "text/plain": [
       "[True, False, True, False, True, False, True, False, True, False]"
      ]
     },
     "execution_count": 119,
     "metadata": {},
     "output_type": "execute_result"
    }
   ],
   "source": [
    "list(map(even, range(10)))"
   ]
  },
  {
   "attachments": {},
   "cell_type": "markdown",
   "metadata": {},
   "source": [
    "`map()`에 들어가는 함수 인수를 직접 정의하지 않고 람다(lambda) 함수, 즉 익명(anonymous) 함수를 사용할 수도 있습니다."
   ]
  },
  {
   "cell_type": "code",
   "execution_count": 120,
   "metadata": {},
   "outputs": [
    {
     "data": {
      "text/plain": [
       "[0, 1, 4, 9, 16, 25, 36, 49, 64, 81]"
      ]
     },
     "execution_count": 120,
     "metadata": {},
     "output_type": "execute_result"
    }
   ],
   "source": [
    "list(map(lambda x: x ** 2, range(10)))"
   ]
  },
  {
   "attachments": {},
   "cell_type": "markdown",
   "metadata": {},
   "source": [
    "`filter()` 함수로 리스트 객체에 함수를 적용할 수도 있습니다. 다음 예제에서 `filter()` 함수는 `even()` 함수의 반환값이 `True`가 되는 원소만을 뽑아서 만든 새로운 리스트를 반환합니다."
   ]
  },
  {
   "cell_type": "code",
   "execution_count": 121,
   "metadata": {},
   "outputs": [
    {
     "data": {
      "text/plain": [
       "[0, 2, 4, 6, 8, 10, 12, 14]"
      ]
     },
     "execution_count": 121,
     "metadata": {},
     "output_type": "execute_result"
    }
   ],
   "source": [
    "list(filter(even, range(15)))"
   ]
  },
  {
   "attachments": {},
   "cell_type": "markdown",
   "metadata": {},
   "source": [
    "> **TIP** 리스트 조건제시법, 함수형 프로그래밍, 익명 함수  \n",
    "되도록 파이썬 레벨에서는 반복문을 구현하지 말아야 합니다. 리스트 조건제시법이나 `map()`, `filter()`, `reduce()`와 같은 함수형 프로그래밍 도구를 사용하면 반복문을 사용하지 않고 더 간결하며 읽기 좋은 코드를 만들 수 있습니다. 람다 익명 함수도 좋은 도구가 됩니다.  \n",
    "\n",
    "### 3.2.5 사전\n",
    "사전(dict) 객체는 변환 가능한 사전형(dictionary) 자료 모음으로, 문자열 같은 키-값을 사용하여 값을 참조할 수 있는 이른바 키-값 자료 저장소입니다. 리스트 객체는 원소의 순서가 있고 정렬 가능하지만, 사전 객체는 원소의 순서도 없고 정렬도 불가능합니다. 다음 예제 코드를 보면 두 자료형의 차이를 쉽게 알 수 있습니다. 사전 객체를 만들 때는 중괄호 기호를 사용합니다.  \n",
    "> 표준 사전 객체의 변형인 `OrderedDict` 서브클래스에서는 각 원소가 추가된 순서를 기억합니다. 다음 문서를 참고하세요.(https://docs.python.org/3/library/collections.html)"
   ]
  },
  {
   "cell_type": "code",
   "execution_count": 122,
   "metadata": {},
   "outputs": [
    {
     "data": {
      "text/plain": [
       "dict"
      ]
     },
     "execution_count": 122,
     "metadata": {},
     "output_type": "execute_result"
    }
   ],
   "source": [
    "d = {\n",
    "    'Name' : 'Angela Markel',\n",
    "    'Country' : 'Germany',\n",
    "    'Profession' : 'Chancelor',\n",
    "    'Age' : 64\n",
    "}\n",
    "type(d)"
   ]
  },
  {
   "cell_type": "code",
   "execution_count": 123,
   "metadata": {},
   "outputs": [
    {
     "name": "stdout",
     "output_type": "stream",
     "text": [
      "Angela Markel 64\n"
     ]
    }
   ],
   "source": [
    "print(d['Name'], d['Age'])"
   ]
  },
  {
   "attachments": {},
   "cell_type": "markdown",
   "metadata": {},
   "source": [
    "사전 객체도 다양한 내장 메서드를 가집니다."
   ]
  },
  {
   "cell_type": "code",
   "execution_count": 124,
   "metadata": {},
   "outputs": [
    {
     "data": {
      "text/plain": [
       "dict_keys(['Name', 'Country', 'Profession', 'Age'])"
      ]
     },
     "execution_count": 124,
     "metadata": {},
     "output_type": "execute_result"
    }
   ],
   "source": [
    "d.keys()"
   ]
  },
  {
   "cell_type": "code",
   "execution_count": 125,
   "metadata": {},
   "outputs": [
    {
     "data": {
      "text/plain": [
       "dict_values(['Angela Markel', 'Germany', 'Chancelor', 64])"
      ]
     },
     "execution_count": 125,
     "metadata": {},
     "output_type": "execute_result"
    }
   ],
   "source": [
    "d.values()"
   ]
  },
  {
   "cell_type": "code",
   "execution_count": 126,
   "metadata": {},
   "outputs": [
    {
     "data": {
      "text/plain": [
       "dict_items([('Name', 'Angela Markel'), ('Country', 'Germany'), ('Profession', 'Chancelor'), ('Age', 64)])"
      ]
     },
     "execution_count": 126,
     "metadata": {},
     "output_type": "execute_result"
    }
   ],
   "source": [
    "d.items()"
   ]
  },
  {
   "cell_type": "code",
   "execution_count": 127,
   "metadata": {},
   "outputs": [
    {
     "name": "stdout",
     "output_type": "stream",
     "text": [
      "65\n"
     ]
    }
   ],
   "source": [
    "birthday = True\n",
    "if birthday:\n",
    "    d['Age'] += 1\n",
    "print(d['Age'])"
   ]
  },
  {
   "attachments": {},
   "cell_type": "markdown",
   "metadata": {},
   "source": [
    "사전 객체에서 반복자 객체를 반환하는 메서드를 사용하면 리스트 객체와 같이 사전 객체를 기반으로 반복문을 실행할 수 있습니다."
   ]
  },
  {
   "cell_type": "code",
   "execution_count": 128,
   "metadata": {},
   "outputs": [
    {
     "name": "stdout",
     "output_type": "stream",
     "text": [
      "('Name', 'Angela Markel')\n",
      "('Country', 'Germany')\n",
      "('Profession', 'Chancelor')\n",
      "('Age', 65)\n"
     ]
    }
   ],
   "source": [
    "for item in d.items():\n",
    "    print(item)"
   ]
  },
  {
   "cell_type": "code",
   "execution_count": 129,
   "metadata": {},
   "outputs": [
    {
     "name": "stdout",
     "output_type": "stream",
     "text": [
      "<class 'str'>\n",
      "<class 'str'>\n",
      "<class 'str'>\n",
      "<class 'int'>\n"
     ]
    }
   ],
   "source": [
    "for value in d.values():\n",
    "    print(type(value))"
   ]
  },
  {
   "attachments": {},
   "cell_type": "markdown",
   "metadata": {},
   "source": [
    "사전 객체가 가진 몇 가지 연산과 메서드 목록은 다음 표와 같습니다.  \n",
    "\n",
    "|메서드|인수|반환값/결과|\n",
    "|---|---|---|\n",
    "|`d[k]`|`[k]`|키 `k`에 대응하는 `d`의 원소|\n",
    "|`d[k] = x`|`[k]`|`x`를 키 `k`에 대응하는 원소로 설정|\n",
    "|`del d[k]`|`[k]`|키 `k`에 대응하는 `d`의 원소를 삭제|\n",
    "|`clear`|`()`|모든 원소를 삭제|\n",
    "|`copy`|`()`|복사본 생성|\n",
    "|`items`|`()`|모든 키-값 쌍의 복사본|\n",
    "|`keys`|`()`|모든 키의 복사본|\n",
    "|`values`|`()`|모든 값의 복사본|\n",
    "|`popitem`|`(k)`|키 `k`에 대응하는 `d`의 원소를 삭제하고 반환합니다|\n",
    "|`update`|`([e])`|객체 `e`를 사용해 원소를 갱신합니다|  \n",
    "\n",
    "\n",
    "### 3.2.6 집합\n",
    "이 장에서 다룰 마지막 자료구조는 집합(set) 객체입니다. 집합 이론은 수학과 금융 분야에서 중요한 초석이 되지만 정작 실제로 집합 객체를 응용하는 경우는 많지 않습니다. 집합 객체는 중복되지 않고 순서가 존재하지 않는 여러 가지 객체의 모음입니다."
   ]
  },
  {
   "cell_type": "code",
   "execution_count": 130,
   "metadata": {},
   "outputs": [
    {
     "data": {
      "text/plain": [
       "{'d', 'du', 'u', 'ud'}"
      ]
     },
     "execution_count": 130,
     "metadata": {},
     "output_type": "execute_result"
    }
   ],
   "source": [
    "s = set(['u', 'd', 'ud', 'du', 'd', 'du'])\n",
    "s"
   ]
  },
  {
   "cell_type": "code",
   "execution_count": 131,
   "metadata": {},
   "outputs": [],
   "source": [
    "t = set(['d', 'dd', 'uu', 'u'])"
   ]
  },
  {
   "attachments": {},
   "cell_type": "markdown",
   "metadata": {},
   "source": [
    "집합 객체를 이용하면 집합 이론에서 사용되는 연산을 쓸 수 있습니다. 예를 들어 두 집합의 합집합, 교집합, 차집합을 다음과 같이 구할 수 있습니다."
   ]
  },
  {
   "cell_type": "code",
   "execution_count": 132,
   "metadata": {},
   "outputs": [
    {
     "data": {
      "text/plain": [
       "{'d', 'dd', 'du', 'u', 'ud', 'uu'}"
      ]
     },
     "execution_count": 132,
     "metadata": {},
     "output_type": "execute_result"
    }
   ],
   "source": [
    "s.union(t) # 합집합"
   ]
  },
  {
   "cell_type": "code",
   "execution_count": 133,
   "metadata": {},
   "outputs": [
    {
     "data": {
      "text/plain": [
       "{'d', 'u'}"
      ]
     },
     "execution_count": 133,
     "metadata": {},
     "output_type": "execute_result"
    }
   ],
   "source": [
    "s.intersection(t) # 교집합"
   ]
  },
  {
   "cell_type": "code",
   "execution_count": 134,
   "metadata": {},
   "outputs": [
    {
     "data": {
      "text/plain": [
       "{'du', 'ud'}"
      ]
     },
     "execution_count": 134,
     "metadata": {},
     "output_type": "execute_result"
    }
   ],
   "source": [
    "s.difference(t) # 차집합"
   ]
  },
  {
   "cell_type": "code",
   "execution_count": 135,
   "metadata": {},
   "outputs": [
    {
     "data": {
      "text/plain": [
       "{'dd', 'uu'}"
      ]
     },
     "execution_count": 135,
     "metadata": {},
     "output_type": "execute_result"
    }
   ],
   "source": [
    "t.difference(s) # 차집합"
   ]
  },
  {
   "cell_type": "code",
   "execution_count": 136,
   "metadata": {},
   "outputs": [
    {
     "data": {
      "text/plain": [
       "{'dd', 'du', 'ud', 'uu'}"
      ]
     },
     "execution_count": 136,
     "metadata": {},
     "output_type": "execute_result"
    }
   ],
   "source": [
    "s.symmetric_difference(t) # s와 t 둘 중 하나에만 속하는 원소의 집합"
   ]
  },
  {
   "attachments": {},
   "cell_type": "markdown",
   "metadata": {},
   "source": [
    "특히 리스트 객체에서 중복된 원소를 제거할 때 집합 객체를 활용할 수 있습니다."
   ]
  },
  {
   "cell_type": "code",
   "execution_count": 137,
   "metadata": {},
   "outputs": [
    {
     "data": {
      "text/plain": [
       "1000"
      ]
     },
     "execution_count": 137,
     "metadata": {},
     "output_type": "execute_result"
    }
   ],
   "source": [
    "from random import randint\n",
    "l = [randint(0, 10) for i in range(1000)]\n",
    "len(l)"
   ]
  },
  {
   "cell_type": "code",
   "execution_count": 138,
   "metadata": {},
   "outputs": [
    {
     "data": {
      "text/plain": [
       "[2, 9, 10, 1, 10, 0, 9, 3, 10, 0, 4, 3, 0, 9, 4, 1, 4, 10, 6, 2]"
      ]
     },
     "execution_count": 138,
     "metadata": {},
     "output_type": "execute_result"
    }
   ],
   "source": [
    "l[:20]"
   ]
  },
  {
   "cell_type": "code",
   "execution_count": 139,
   "metadata": {},
   "outputs": [
    {
     "data": {
      "text/plain": [
       "{0, 1, 2, 3, 4, 5, 6, 7, 8, 9, 10}"
      ]
     },
     "execution_count": 139,
     "metadata": {},
     "output_type": "execute_result"
    }
   ],
   "source": [
    "s = set(l)\n",
    "s"
   ]
  },
  {
   "attachments": {},
   "cell_type": "markdown",
   "metadata": {},
   "source": [
    "## 3.3 마치며\n",
    "기본 파이썬 인터프리터도 다양한 자료구조를 제공합니다. 금융공학 관점에서는 다음과 같은 것들이 중요합니다.  \n",
    "* 기본 자료형: 금융에서는 정수, 부동소수점, 불리언, 문자열 자료형이 가장 기본이 되는 자료형입니다.\n",
    "* 기본 자료구조: 튜플, 리스트, 사전, 집합 자료형은 금융에서 많이 응용됩니다. 특히 리스트 자료형은 가장 유연하며 많이 사용되는 자료형입니다."
   ]
  },
  {
   "cell_type": "code",
   "execution_count": null,
   "metadata": {},
   "outputs": [],
   "source": []
  }
 ],
 "metadata": {
  "kernelspec": {
   "display_name": "Python 3 (ipykernel)",
   "language": "python",
   "name": "python3"
  },
  "language_info": {
   "codemirror_mode": {
    "name": "ipython",
    "version": 3
   },
   "file_extension": ".py",
   "mimetype": "text/x-python",
   "name": "python",
   "nbconvert_exporter": "python",
   "pygments_lexer": "ipython3",
   "version": "3.10.9"
  }
 },
 "nbformat": 4,
 "nbformat_minor": 2
}
